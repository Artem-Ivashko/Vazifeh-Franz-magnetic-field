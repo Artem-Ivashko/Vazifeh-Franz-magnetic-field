{
 "cells": [
  {
   "cell_type": "code",
   "execution_count": 2,
   "metadata": {
    "collapsed": false
   },
   "outputs": [],
   "source": [
    "import diagonalizer\n",
    "from diagonalizer import diagonalize_1D, density_plot_1D, pSweep_1D, spectrum_plot_1D, FermiVelocityZQL\n",
    "\n",
    "import numpy as np\n",
    "from numpy import pi\n",
    "from copy import copy\n",
    "# for plotting\n",
    "import matplotlib as mpl\n",
    "from matplotlib import pyplot as plt\n",
    "\n",
    "#Some global and default parameters\n",
    "SitesCount_XDefault = 400\n",
    "fsys_1D = diagonalizer.FinalizedSystem_1D(SitesCount_XDefault)\n",
    "\n",
    "#The parameters with dimension of energy are measured in units of t\n",
    "#The lattice parameters (apart from the number of lattice sites) seem to be the same as in Fig.1 of Baireuther et al. 16\n",
    "#lBinv2 = a_0^2 / l_B^2, where a_0 is the lattice spacing, lB is the magnetic length\n",
    "ParametersDefault = diagonalizer.SimpleNamespace( tp=2., t=1., tzp=1., tz=1., M0=-0.3, FermiEnergy = 0., \\\n",
    "                     betaz=1.2, b0=0.1, pzNode2 = -0.6314028, \\\n",
    "                     Rescale_hop0 = 1.0, Rescale_onsite0 = 1.0, Rescale_onsite1 = 1.0, \\\n",
    "                     EnergyNode2 = 0.049189807,\n",
    "                     lBinv2=0., x_shift= (SitesCount_XDefault - 1.)/2., \\\n",
    "                     EigenvectorsCount = 50, EnergyPrecision = 10**(-5), WavefunctionComponents = 4, \\\n",
    "                     py = 0., pz = 0. )\n",
    "\n",
    "pzMin = -1\n",
    "pzMax = 1\n",
    "pzCount = 30"
   ]
  },
  {
   "cell_type": "code",
   "execution_count": 2,
   "metadata": {
    "collapsed": false
   },
   "outputs": [
    {
     "data": {
      "image/png": "[encoded data removed]",
      "text/plain": [
       "<matplotlib.figure.Figure at 0x7f0ec1679898>"
      ]
     },
     "metadata": {},
     "output_type": "display_data"
    }
   ],
   "source": [
    "params = copy(ParametersDefault)\n",
    "\n",
    "evals, evecs = pSweep_1D( fsys_1D, params, pzMin, pzMax, pCount=pzCount, yORzSweep = 'pzSweep')\n",
    "spectrum_plot_1D(evals,pzMin,pzMax,pzCount)\n",
    "\n",
    "del params, evals, evecs"
   ]
  },
  {
   "cell_type": "markdown",
   "metadata": {},
   "source": [
    "## Extraction of the z-velocity of the Fermi arcs"
   ]
  },
  {
   "cell_type": "markdown",
   "metadata": {},
   "source": [
    "### Extraction of the velocity for $p^z$ around a Weyl node"
   ]
  },
  {
   "cell_type": "code",
   "execution_count": 3,
   "metadata": {
    "collapsed": false
   },
   "outputs": [
    {
     "name": "stdout",
     "output_type": "stream",
     "text": [
      "[ 0.04799216  0.04877692  0.04956169  0.05034646] while the expected Weyl-node energy is 0.049189807\n",
      "[ 0.04851469  0.04851469  0.05599382  0.05613517]\n",
      "[ 0.0457664   0.0457664   0.08269876  0.08272621]\n",
      "-0.06751170000000029\n",
      "-0.06846814000000007\n"
     ]
    }
   ],
   "source": [
    "fsys_finerResolution = diagonalizer.FinalizedSystem_1D(8000)\n",
    "params = copy(ParametersDefault)\n",
    "\n",
    "params.pz = params.pzNode2\n",
    "params.FermiEnergy = params.EnergyNode2\n",
    "params.EigenvectorsCount = 4\n",
    "evals, evecs = diagonalize_1D(fsys_finerResolution,params)\n",
    "print(evals, 'while the expected Weyl-node energy is', params.EnergyNode2)\n",
    "\n",
    "\n",
    "params.pz = params.pzNode2 + 0.01\n",
    "params.FermiEnergy = params.EnergyNode2\n",
    "params.EigenvectorsCount = 4\n",
    "evals, evecs = diagonalize_1D(fsys_finerResolution,params)\n",
    "print(evals)\n",
    "\n",
    "\n",
    "params.pz = params.pzNode2 + 0.05\n",
    "params.FermiEnergy = params.EnergyNode2\n",
    "params.EigenvectorsCount = 4\n",
    "evals, evecs = diagonalize_1D(fsys_finerResolution,params)\n",
    "print(evals)\n",
    "\n",
    "\n",
    "#The extraction of the FA spectrum is made manually so far\n",
    "print((0.04851469 - params.EnergyNode2)/0.01)\n",
    "print((0.0457664 - params.EnergyNode2)/0.05)\n",
    "\n",
    "\n",
    "del fsys_finerResolution, params, evals, evecs"
   ]
  },
  {
   "cell_type": "markdown",
   "metadata": {},
   "source": [
    "### Extraction of the velocity for $p^z$ in between the Weyl nodes (TO REVISE: maybe it is better to Taylor-expand around $p^z=0$ instead?)"
   ]
  },
  {
   "cell_type": "code",
   "execution_count": 43,
   "metadata": {
    "collapsed": false
   },
   "outputs": [
    {
     "name": "stdout",
     "output_type": "stream",
     "text": [
      "[ -2.95881015e-01   5.08635444e-19   9.20209656e-18   2.95910607e-01]\n",
      "[-0.00416493 -0.00416493  0.2849755   0.28503678]\n",
      "-0.08329859999999999\n"
     ]
    }
   ],
   "source": [
    "params = copy(ParametersDefault)\n",
    "\n",
    "#If I make 8000 sites instead of 7000, the numerical error appears somehow \n",
    "fsys_finerResolution = diagonalizer.FinalizedSystem_1D(7000)\n",
    "params.pz = 0.\n",
    "params.FermiEnergy = 0.\n",
    "params.EigenvectorsCount = 4\n",
    "evals, evecs = diagonalize_1D(fsys_finerResolution,params)\n",
    "print(evals)\n",
    "\n",
    "\n",
    "fsys_finerResolution = diagonalizer.FinalizedSystem_1D(8000)\n",
    "params.pz = 0.05\n",
    "params.FermiEnergy = 0.\n",
    "params.EigenvectorsCount = 4\n",
    "evals, evecs = diagonalize_1D(fsys_finerResolution,params)\n",
    "print(evals)\n",
    "\n",
    "\n",
    "#The extraction of the FA spectrum is made manually so far\n",
    "print((-0.00416493)/0.05)\n",
    "\n",
    "\n",
    "del fsys_finerResolution, params, evals, evecs"
   ]
  },
  {
   "cell_type": "markdown",
   "metadata": {},
   "source": [
    "### The FA spectrum is odd wrt $(p^z,p^y) \\to (-p^z,-p^y)$"
   ]
  },
  {
   "cell_type": "code",
   "execution_count": 76,
   "metadata": {
    "collapsed": false
   },
   "outputs": [
    {
     "name": "stdout",
     "output_type": "stream",
     "text": [
      "[-0.22359902  0.17434565  0.2524964   0.25270577]\n",
      "[-0.25270629 -0.25249908 -0.17434565  0.22359902]\n",
      "[-0.42058329  0.37132993  0.4149784   0.41511229  0.41533535  0.4156474\n",
      "  0.41604823  0.41653755  0.41711503  0.41778026  0.41853279  0.41937212\n",
      "  0.42029765  0.42130882  0.42240559]\n",
      "[-0.42240524 -0.4213089  -0.42029771 -0.41937223 -0.4185328  -0.41778026\n",
      " -0.41711503 -0.41653755 -0.41604823 -0.4156474  -0.41533535 -0.41511229\n",
      " -0.4149784  -0.37132993  0.42058329]\n"
     ]
    }
   ],
   "source": [
    "params = copy(ParametersDefault)\n",
    "\n",
    "fsys_finerResolution = diagonalizer.FinalizedSystem_1D(1000)\n",
    "params.EigenvectorsCount = 4\n",
    "\n",
    "params.FermiEnergy = 0.\n",
    "params.pz = 0.3\n",
    "params.py = 0.1\n",
    "evals, evecs = diagonalize_1D(fsys_finerResolution,params)\n",
    "print(evals)\n",
    "\n",
    "params.FermiEnergy = 0.\n",
    "params.pz = -0.3\n",
    "params.py = -0.1\n",
    "evals, evecs = diagonalize_1D(fsys_finerResolution,params)\n",
    "print(evals)\n",
    "\n",
    "\n",
    "params.EigenvectorsCount = 15\n",
    "params.FermiEnergy = 0.0\n",
    "params.pz = 0.3\n",
    "params.py = 0.2\n",
    "evals, evecs = diagonalize_1D(fsys_finerResolution,params)\n",
    "print(evals)\n",
    "\n",
    "\n",
    "params.EigenvectorsCount = 15\n",
    "params.FermiEnergy = 0.0\n",
    "params.pz = -0.3\n",
    "params.py = -0.2\n",
    "evals, evecs = diagonalize_1D(fsys_finerResolution,params)\n",
    "print(evals)\n",
    "\n",
    "\n",
    "del fsys_finerResolution, params, evals, evecs"
   ]
  },
  {
   "cell_type": "markdown",
   "metadata": {},
   "source": [
    "### Somehow the FA spectrum is additively separable wrt $p^z$ and $p^y$, even at the level of the microscopic theory!"
   ]
  },
  {
   "cell_type": "code",
   "execution_count": 140,
   "metadata": {
    "collapsed": false
   },
   "outputs": [
    {
     "name": "stdout",
     "output_type": "stream",
     "text": [
      "[-0.26941774 -0.26919804  0.00831945  0.00831945]\n",
      "[-0.31331972 -0.09961066  0.09961066  0.31331672]\n",
      "[-0.28761516 -0.28727505 -0.28707223 -0.0912912 ]\n",
      "-0.09129121\n",
      "[-0.0912912   0.10793011  0.31887111  0.31907523]\n",
      "0.10793011000000001\n"
     ]
    }
   ],
   "source": [
    "params = copy(ParametersDefault)\n",
    "\n",
    "fsys_finerResolution = diagonalizer.FinalizedSystem_1D(1000)\n",
    "params.EigenvectorsCount = 4\n",
    "\n",
    "params.FermiEnergy = 0.\n",
    "params.pz = -0.1\n",
    "params.py = 0.\n",
    "evals, evecs = diagonalize_1D(fsys_finerResolution,params)\n",
    "print(evals)\n",
    "\n",
    "params.FermiEnergy = 0.\n",
    "params.pz = 0.\n",
    "params.py = 0.05\n",
    "evals, evecs = diagonalize_1D(fsys_finerResolution,params)\n",
    "print(evals)\n",
    "\n",
    "params.pz = -0.1\n",
    "params.py = 0.05\n",
    "params.FermiEnergy = -0.1\n",
    "evals, evecs = diagonalize_1D(fsys_finerResolution,params)\n",
    "print(evals)\n",
    "print(-0.09961066+0.00831945)\n",
    "\n",
    "params.FermiEnergy = 0.1\n",
    "evals, evecs = diagonalize_1D(fsys_finerResolution,params)\n",
    "print(evals)\n",
    "print(0.09961066+0.00831945)\n",
    "\n",
    "\n",
    "del fsys_finerResolution, params, evals, evecs"
   ]
  },
  {
   "cell_type": "markdown",
   "metadata": {},
   "source": [
    "## Deformation of the boundary condition"
   ]
  },
  {
   "cell_type": "code",
   "execution_count": 30,
   "metadata": {
    "collapsed": false
   },
   "outputs": [
    {
     "data": {
      "image/png": "[encoded data removed]",
      "text/plain": [
       "<matplotlib.figure.Figure at 0x7fcde08ed630>"
      ]
     },
     "metadata": {},
     "output_type": "display_data"
    }
   ],
   "source": [
    "params = copy(ParametersDefault)\n",
    "params.Rescale_onsite0 = 3.\n",
    "params.Rescale_onsite1 = 3.\n",
    "\n",
    "evals, evecs = pSweep_1D( fsys_1D, params, pzMin, pzMax, pCount=pzCount, yORzSweep = 'pzSweep')\n",
    "spectrum_plot_1D(evals,pzMin,pzMax,pzCount)\n",
    "\n",
    "del params, evals, evecs"
   ]
  },
  {
   "cell_type": "markdown",
   "metadata": {},
   "source": [
    "### Extraction of the velocity for $p^z$ around a Weyl node"
   ]
  },
  {
   "cell_type": "code",
   "execution_count": 33,
   "metadata": {
    "collapsed": false
   },
   "outputs": [
    {
     "name": "stdout",
     "output_type": "stream",
     "text": [
      "[ 0.04801043  0.04879544  0.04958045  0.05036546] while the expected Weyl-node energy is 0.049189807\n",
      "[ 0.0457664   0.05115345  0.08269878  0.08272627  0.08277205  0.08283619]\n",
      "0.03927286000000002\n",
      "-0.06846814000000007\n"
     ]
    }
   ],
   "source": [
    "fsys_finerResolution = diagonalizer.FinalizedSystem_1D(8000)\n",
    "params = copy(ParametersDefault)\n",
    "params.Rescale_onsite0 = 3.\n",
    "params.Rescale_onsite1 = 3.\n",
    "\n",
    "params.pz = params.pzNode2\n",
    "params.FermiEnergy = params.EnergyNode2\n",
    "params.EigenvectorsCount = 4\n",
    "evals, evecs = diagonalize_1D(fsys_finerResolution,params)\n",
    "print(evals, 'while the expected Weyl-node energy is', params.EnergyNode2)\n",
    "\n",
    "\n",
    "params.pz = params.pzNode2 + 0.05\n",
    "params.FermiEnergy = params.EnergyNode2\n",
    "params.EigenvectorsCount = 6\n",
    "evals, evecs = diagonalize_1D(fsys_finerResolution,params)\n",
    "print(evals)\n",
    "\n",
    "\n",
    "#The extraction of the FA spectrum is made manually so far\n",
    "print((0.05115345 - params.EnergyNode2)/0.05)\n",
    "print((0.0457664 - params.EnergyNode2)/0.05)\n",
    "\n",
    "\n",
    "del fsys_finerResolution, params, evals, evecs"
   ]
  },
  {
   "cell_type": "markdown",
   "metadata": {},
   "source": [
    "### Extraction of the velocity for $p^z$ in between the Weyl nodes"
   ]
  },
  {
   "cell_type": "code",
   "execution_count": 47,
   "metadata": {
    "collapsed": false
   },
   "outputs": [
    {
     "name": "stdout",
     "output_type": "stream",
     "text": [
      "[ -2.95902032e-01   5.63739959e-20   9.20209656e-18   2.95894130e-01]\n",
      "[-0.01127262 -0.00416493  0.28496814  0.28499358  0.28506003  0.2851316 ]\n",
      "-0.08329859999999999\n",
      "-0.2254524\n"
     ]
    }
   ],
   "source": [
    "params = copy(ParametersDefault)\n",
    "params.Rescale_onsite0 = 3.\n",
    "params.Rescale_onsite1 = 3.\n",
    "\n",
    "#If I make 8000 sites instead of 7000, the numerical error appears somehow \n",
    "fsys_finerResolution = diagonalizer.FinalizedSystem_1D(7000)\n",
    "params.pz = 0.\n",
    "params.FermiEnergy = 0.\n",
    "params.EigenvectorsCount = 4\n",
    "evals, evecs = diagonalize_1D(fsys_finerResolution,params)\n",
    "print(evals)\n",
    "\n",
    "\n",
    "fsys_finerResolution = diagonalizer.FinalizedSystem_1D(8000)\n",
    "params.pz = 0.05\n",
    "params.FermiEnergy = 0.\n",
    "params.EigenvectorsCount = 6\n",
    "evals, evecs = diagonalize_1D(fsys_finerResolution,params)\n",
    "print(evals)\n",
    "\n",
    "\n",
    "#The extraction of the FA spectrum is made manually so far\n",
    "print((-0.00416493)/0.05)\n",
    "print((-0.01127262)/0.05)\n",
    "\n",
    "\n",
    "del fsys_finerResolution, params, evals, evecs"
   ]
  },
  {
   "cell_type": "markdown",
   "metadata": {},
   "source": [
    "### The FA spectrum is still odd wrt $(p^z,p^y) \\to (-p^z,-p^y)$"
   ]
  },
  {
   "cell_type": "code",
   "execution_count": 133,
   "metadata": {
    "collapsed": false
   },
   "outputs": [
    {
     "name": "stdout",
     "output_type": "stream",
     "text": [
      "[-0.11616643  0.2004221   0.24521216  0.24543743  0.24581242  0.24633645\n",
      "  0.24700864  0.24782753  0.24879197  0.2499001 ]\n",
      "[-0.24990088 -0.24879267 -0.2478276  -0.24700868 -0.24633646 -0.24581243\n",
      " -0.24543743 -0.24521216 -0.2004221   0.11616643]\n"
     ]
    }
   ],
   "source": [
    "fsys_finerResolution = diagonalizer.FinalizedSystem_1D(1000)\n",
    "\n",
    "params = copy(ParametersDefault)\n",
    "params.Rescale_onsite0 = 3.\n",
    "params.Rescale_onsite1 = 3.\n",
    "\n",
    "\n",
    "params.EigenvectorsCount = 10\n",
    "params.FermiEnergy = -0.0\n",
    "params.pz = 0.2\n",
    "params.py = 0.05\n",
    "evals, evecs = diagonalize_1D(fsys_finerResolution,params)\n",
    "print(evals)\n",
    "\n",
    "params.EigenvectorsCount = 10\n",
    "params.FermiEnergy = 0.0\n",
    "params.pz = -0.2\n",
    "params.py = -0.05\n",
    "evals, evecs = diagonalize_1D(fsys_finerResolution,params)\n",
    "print(evals)\n",
    "\n",
    "\n",
    "del fsys_finerResolution, params, evals, evecs"
   ]
  },
  {
   "cell_type": "markdown",
   "metadata": {},
   "source": [
    "### But the FA spectrum is no longer separable!"
   ]
  },
  {
   "cell_type": "code",
   "execution_count": 141,
   "metadata": {
    "collapsed": false
   },
   "outputs": [
    {
     "name": "stdout",
     "output_type": "stream",
     "text": [
      "[-0.26933153 -0.26915217  0.00831945  0.02222189]\n",
      "[-0.31328744 -0.31325042 -0.09961066  0.26900809  0.31324635  0.3133384 ]\n",
      "[-0.28742196 -0.28730343 -0.28724711 -0.2871637  -0.28712018 -0.28708347\n",
      " -0.28704846 -0.28702174 -0.28700892 -0.0912912 ]\n",
      "-0.09129121\n",
      "[-0.0912912   0.28603829  0.31880807  0.31882627  0.31886188  0.31890606\n",
      "  0.31896155  0.31903856  0.31915258  0.31931416]\n",
      "0.29122998\n"
     ]
    }
   ],
   "source": [
    "fsys_finerResolution = diagonalizer.FinalizedSystem_1D(4000)\n",
    "\n",
    "params = copy(ParametersDefault)\n",
    "params.Rescale_onsite0 = 3.\n",
    "params.Rescale_onsite1 = 3.\n",
    "\n",
    "params.EigenvectorsCount = 4\n",
    "params.FermiEnergy = 0.\n",
    "params.pz = -0.1\n",
    "params.py = 0.\n",
    "evals, evecs = diagonalize_1D(fsys_finerResolution,params)\n",
    "print(evals)\n",
    "\n",
    "params.EigenvectorsCount = 6\n",
    "params.FermiEnergy = 0.\n",
    "params.pz = 0.\n",
    "params.py = 0.05\n",
    "evals, evecs = diagonalize_1D(fsys_finerResolution,params)\n",
    "print(evals)\n",
    "\n",
    "params.EigenvectorsCount = 10\n",
    "params.FermiEnergy = -0.05\n",
    "params.pz = -0.1\n",
    "params.py = 0.05\n",
    "evals, evecs = diagonalize_1D(fsys_finerResolution,params)\n",
    "print(evals)\n",
    "print(0.00831945-0.09961066)\n",
    "\n",
    "params.EigenvectorsCount = 10\n",
    "params.FermiEnergy = 0.05\n",
    "params.pz = -0.1\n",
    "params.py = 0.05\n",
    "evals, evecs = diagonalize_1D(fsys_finerResolution,params)\n",
    "print(evals)\n",
    "print(0.02222189+0.26900809)\n",
    "\n",
    "\n",
    "del params, evals, evecs"
   ]
  },
  {
   "cell_type": "markdown",
   "metadata": {},
   "source": [
    "### Let us find several valus of FA energy, in order to interpolate it in Mathematica"
   ]
  },
  {
   "cell_type": "code",
   "execution_count": 15,
   "metadata": {
    "collapsed": false
   },
   "outputs": [
    {
     "name": "stdout",
     "output_type": "stream",
     "text": [
      "[ -2.95860167e-01  -2.95768090e-01  -2.95707181e-01   8.33333194e-05\n",
      "   2.26489015e-04   2.96027809e-01]\n",
      "[-0.2694551  -0.26927875 -0.26917133 -0.26914     0.00831945  0.02222189]\n",
      "[-0.2256462  -0.22554332 -0.22550729 -0.22547291  0.01655578  0.04154513]\n",
      "[-0.17056175 -0.17047625 -0.17039925 -0.17037488  0.02462668  0.05416651]\n",
      "[-0.10820007 -0.10815093 -0.10812437 -0.10811313  0.03245153  0.0577292 ]\n",
      "[-0.0416861  -0.04164185 -0.04161041 -0.04159158  0.03995213  0.05482147]\n",
      "[ 0.04705354  0.05037931  0.07034156  0.07042019  0.07055057  0.07073175]\n",
      "[ 0.04773896  0.04998335  0.06365667  0.06377308  0.06396497  0.06422934]\n",
      "[ 0.04092921  0.04115231  0.0484196   0.0496031   0.05696755  0.05719043]\n"
     ]
    }
   ],
   "source": [
    "fsys_finerResolution = diagonalizer.FinalizedSystem_1D(6000)\n",
    "\n",
    "params = copy(ParametersDefault)\n",
    "params.Rescale_onsite0 = 3.\n",
    "params.Rescale_onsite1 = 3.\n",
    "params.EigenvectorsCount = 6\n",
    "params.py = 0.\n",
    "\n",
    "\n",
    "params.FermiEnergy = 0.\n",
    "params.pz = -0.001\n",
    "evals, evecs = diagonalize_1D(fsys_finerResolution,params)\n",
    "print(evals)\n",
    "\n",
    "params.FermiEnergy = 0.01\n",
    "params.pz = -0.1\n",
    "evals, evecs = diagonalize_1D(fsys_finerResolution,params)\n",
    "print(evals)\n",
    "\n",
    "params.FermiEnergy = 0.01\n",
    "params.pz = -0.2\n",
    "evals, evecs = diagonalize_1D(fsys_finerResolution,params)\n",
    "print(evals)\n",
    "\n",
    "params.FermiEnergy = 0.01\n",
    "params.pz = -0.3\n",
    "evals, evecs = diagonalize_1D(fsys_finerResolution,params)\n",
    "print(evals)\n",
    "\n",
    "params.FermiEnergy = 0.01\n",
    "params.pz = -0.4\n",
    "evals, evecs = diagonalize_1D(fsys_finerResolution,params)\n",
    "print(evals)\n",
    "\n",
    "params.FermiEnergy = 0.01\n",
    "params.pz = -0.5\n",
    "evals, evecs = diagonalize_1D(fsys_finerResolution,params)\n",
    "print(evals)\n",
    "\n",
    "params.FermiEnergy = 0.05\n",
    "params.pz = -0.6\n",
    "evals, evecs = diagonalize_1D(fsys_finerResolution,params)\n",
    "print(evals)\n",
    "\n",
    "params.FermiEnergy = 0.05\n",
    "params.pz = -0.61\n",
    "evals, evecs = diagonalize_1D(fsys_finerResolution,params)\n",
    "print(evals)\n",
    "\n",
    "params.FermiEnergy = 0.049\n",
    "params.pz = -0.62\n",
    "evals, evecs = diagonalize_1D(fsys_finerResolution,params)\n",
    "print(evals)\n",
    "\n",
    "del fsys_finerResolution, params, evals, evecs"
   ]
  },
  {
   "cell_type": "code",
   "execution_count": 26,
   "metadata": {
    "collapsed": false
   },
   "outputs": [
    {
     "name": "stdout",
     "output_type": "stream",
     "text": [
      "[-0.0199301   0.05415455  0.29658016  0.29658992  0.29663468  0.29667288]\n",
      "[-0.01161065  0.07547719  0.30156051  0.30159269  0.30164939  0.30173989]\n",
      "[-0.00337432  0.09157841  0.28374753  0.28377485  0.28384102  0.28391987]\n",
      "[ 0.00469658  0.09791217  0.24677286  0.24680002  0.2468794   0.2469696 ]\n",
      "[ 0.01252143  0.09295072  0.19628284  0.19629408  0.19631301  0.19633838]\n",
      "[ 0.02002203  0.08194527  0.13756017  0.13757883  0.13760992  0.1376524 ]\n",
      "[ 0.02712344  0.07159381  0.07820186  0.07825983  0.07835616  0.07849045]\n",
      "[ 0.02780885  0.07073612  0.07377407  0.07384402  0.07396004  0.0741213 ]\n"
     ]
    }
   ],
   "source": [
    "fsys_finerResolution = diagonalizer.FinalizedSystem_1D(6000)\n",
    "\n",
    "params = copy(ParametersDefault)\n",
    "params.Rescale_onsite0 = 3.\n",
    "params.Rescale_onsite1 = 3.\n",
    "params.EigenvectorsCount = 6\n",
    "params.py = 0.01\n",
    "\n",
    "params.FermiEnergy = 0.1\n",
    "params.pz = 0.\n",
    "evals, evecs = diagonalize_1D(fsys_finerResolution,params)\n",
    "print(evals)\n",
    "\n",
    "params.pz = -0.1\n",
    "evals, evecs = diagonalize_1D(fsys_finerResolution,params)\n",
    "print(evals)\n",
    "\n",
    "params.pz = -0.2\n",
    "evals, evecs = diagonalize_1D(fsys_finerResolution,params)\n",
    "print(evals)\n",
    "\n",
    "params.pz = -0.3\n",
    "evals, evecs = diagonalize_1D(fsys_finerResolution,params)\n",
    "print(evals)\n",
    "\n",
    "params.pz = -0.4\n",
    "evals, evecs = diagonalize_1D(fsys_finerResolution,params)\n",
    "print(evals)\n",
    "\n",
    "params.FermiEnergy = 0.05\n",
    "params.pz = -0.5\n",
    "evals, evecs = diagonalize_1D(fsys_finerResolution,params)\n",
    "print(evals)\n",
    "\n",
    "params.pz = -0.6\n",
    "evals, evecs = diagonalize_1D(fsys_finerResolution,params)\n",
    "print(evals)\n",
    "\n",
    "params.pz = -0.61\n",
    "evals, evecs = diagonalize_1D(fsys_finerResolution,params)\n",
    "print(evals)\n",
    "\n",
    "\n",
    "del fsys_finerResolution, params, evals, evecs"
   ]
  },
  {
   "cell_type": "code",
   "execution_count": 25,
   "metadata": {
    "collapsed": false
   },
   "outputs": [
    {
     "name": "stdout",
     "output_type": "stream",
     "text": [
      "[ 0.00763672  0.08691175  0.09424932  0.09428647  0.09434831  0.09443487]\n"
     ]
    }
   ],
   "source": [
    "#Energy at an extra point, in order to check the validity of the interpolation\n",
    "params.FermiEnergy = 0.05\n",
    "params.py = -0.02\n",
    "params.pz = -0.6\n",
    "evals, evecs = diagonalize_1D(fsys_finerResolution,params)\n",
    "print(evals)"
   ]
  },
  {
   "cell_type": "markdown",
   "metadata": {},
   "source": [
    "### Fermi velocity along z around the Weyl node is significantly different from its $p^y=0$ value!"
   ]
  },
  {
   "cell_type": "code",
   "execution_count": 34,
   "metadata": {
    "collapsed": false
   },
   "outputs": [
    {
     "name": "stdout",
     "output_type": "stream",
     "text": [
      "[-0.00081941  0.09488199  0.10143331  0.10146538  0.10151887  0.1015938 ]\n",
      "[-0.00508097  0.09138572  0.12129597  0.12131871  0.12135665  0.1214099 ]\n"
     ]
    },
    {
     "data": {
      "text/plain": [
       "-0.06992539999999992"
      ]
     },
     "execution_count": 34,
     "metadata": {},
     "output_type": "execute_result"
    }
   ],
   "source": [
    "params.FermiEnergy = 0.05\n",
    "params.py = -0.024\n",
    "\n",
    "params.pz = -0.6\n",
    "evals, evecs = diagonalize_1D(fsys_finerResolution,params)\n",
    "print(evals)\n",
    "\n",
    "params.pz = -0.55\n",
    "evals, evecs = diagonalize_1D(fsys_finerResolution,params)\n",
    "print(evals)\n",
    "\n",
    "(0.09138572-0.09488199)/0.05"
   ]
  },
  {
   "cell_type": "markdown",
   "metadata": {},
   "source": [
    "# Now, let us turn the magnetic field"
   ]
  },
  {
   "cell_type": "markdown",
   "metadata": {},
   "source": [
    "## Original boundary"
   ]
  },
  {
   "cell_type": "code",
   "execution_count": 18,
   "metadata": {
    "collapsed": false
   },
   "outputs": [
    {
     "name": "stdout",
     "output_type": "stream",
     "text": [
      "-0.479216674133,-0.134332604138,-0.1020819339,-0.0944769209242,-0.0903872868523,-0.0885539008031,-0.0875201941554,-0.0866876469269,-0.0857376866317,-0.0844519522638,-0.0826324637785,-0.0800398281618,-0.0762985215441,-0.0706797098848,-0.0615053304344,-0.0436475512387,-0.00540690586756,0.097585994278,0.332785735203,0.690725385414,\n",
      "-0.479216674133,-0.192083573519,-0.136005012841,-0.11825068444,-0.102947003937,-0.096578522694,-0.0949786212891,-0.0923526952112,-0.0906636274933,-0.089526395584,-0.0887262075438,-0.0881314215787,-0.0876557612706,-0.0872393727743,-0.0868384339378,-0.0864190538996,-0.0859534655505,-0.0854174811984,-0.0847886295877,-0.084044605055,-0.0831617512812,-0.0821133176967,-0.0808671761627,-0.0793825531815,-0.0776050712721,-0.0754589035092,-0.0728339381928,-0.0695641986555,-0.0653910046755,-0.0599016827463,-0.0515519122471,-0.041095240869,-0.0252448366585,-0.00105874675242,0.0405820985331,0.10591171151,0.204280406455,0.340179766169,0.50987813957,0.690725385414,"
     ]
    }
   ],
   "source": [
    "params = copy(ParametersDefault)\n",
    "params.lBinv2 = 1. / 50.**2\n",
    "\n",
    "pzStart = -0.553\n",
    "pzEnd = 0.703\n",
    "\n",
    "GridNumber = 20\n",
    "for i in range(GridNumber):\n",
    "    params.pz = pzStart + i * (pzEnd - pzStart) / (GridNumber-1)\n",
    "    velocityCash = FermiVelocityZQL(fsys_1D, params)\n",
    "    print(velocityCash,end=',')\n",
    "    \n",
    "print('')\n",
    "\n",
    "#VelocityIntegral = 0.\n",
    "GridNumber = 40\n",
    "for i in range(GridNumber):\n",
    "    params.pz = pzStart + i * (pzEnd - pzStart) / (GridNumber-1)\n",
    "    velocityCash = FermiVelocityZQL(fsys_1D, params)\n",
    "    print(velocityCash,end=',')    \n",
    "#    VelocityIntegral += velocityCash\n",
    "# VelocityIntegral = VelocityIntegral * (pzEnd - pzStart) / GridNumber\n",
    "# print(VelocityIntegral, -params.EnergyNode2)\n",
    "\n",
    "\n",
    "del params, pzStart, pzEnd, GridNumber, velocityCash #, VelocityIntegral "
   ]
  },
  {
   "cell_type": "code",
   "execution_count": 19,
   "metadata": {
    "collapsed": false
   },
   "outputs": [
    {
     "name": "stdout",
     "output_type": "stream",
     "text": [
      "-0.482802265788,-0.192208639656,-0.132315863959,-0.115555838415,-0.102253771791,-0.0967398439288,-0.0924335940047,-0.088919547627,-0.0884434951317,-0.0855510862915,-0.087251360515,-0.0862704472985,-0.0856400534343,-0.0851687880711,-0.0847511977822,-0.0843292398109,-0.0838679068657,-0.083342203885,-0.0827305106151,-0.0820114181854,-0.0811621261763,-0.0801567424624,-0.0744658052733,-0.0775396668246,-0.0758254351157,-0.073729684604,-0.0710980022259,-0.0676122044102,-0.0624026974712,-0.0638248733572,-0.0515554695068,-0.0466890061848,-0.0252699312802,-0.00147247985378,0.0414018469403,0.105910328479,0.20396003291,0.341284081499,0.513375427424,0.690695966029,"
     ]
    }
   ],
   "source": [
    "pzStart = -0.553\n",
    "pzEnd = 0.703\n",
    "\n",
    "fsys_1DRefine = diagonalizer.FinalizedSystem_1D(800)\n",
    "paramsRefine = copy(ParametersDefault)\n",
    "paramsRefine.lBinv2 = 1. / 50.**2\n",
    "paramsRefine.x_shift= (800 - 1.)/2.\n",
    "\n",
    "GridNumber = 40\n",
    "for i in range(GridNumber):\n",
    "    paramsRefine.pz = pzStart + i * (pzEnd - pzStart) / (GridNumber-1)\n",
    "    velocityCash = FermiVelocityZQL(fsys_1DRefine, paramsRefine)\n",
    "    print(velocityCash,end=',')\n",
    "    \n",
    "    \n",
    "del fsys_1DRefine, paramsRefine, pzStart, pzEnd, GridNumber, velocityCash"
   ]
  },
  {
   "cell_type": "markdown",
   "metadata": {},
   "source": [
    "## Deformed boundary"
   ]
  },
  {
   "cell_type": "code",
   "execution_count": 22,
   "metadata": {
    "collapsed": false
   },
   "outputs": [
    {
     "name": "stdout",
     "output_type": "stream",
     "text": [
      "-0.479216674684,-0.192083573638,-0.136005012819,-0.11825068289,-0.102947003829,-0.096578522703,-0.0949786482962,-0.0923526952475,-0.0906636274935,-0.089526395584,-0.0887262075438,-0.0881314215787,-0.0876557612706,-0.0872393727743,-0.0868384339378,-0.0864190538996,-0.0859534655505,-0.0854174811985,-0.0847886295877,-0.084044605055,-0.0831617512813,-0.0821133176967,-0.0808671761627,-0.0793825531815,-0.0776050712721,-0.0754589035092,-0.0728339381928,-0.0695641986555,-0.065391004678,-0.0599016834254,-0.0515519124133,-0.0410952408639,-0.0252448366775,-0.00105874655753,0.0405820985139,0.105911711512,0.204280406543,0.340179766256,0.509878139574,0.690725385417,"
     ]
    }
   ],
   "source": [
    "params = copy(ParametersDefault)\n",
    "params.lBinv2 = 1. / 50.**2\n",
    "params.Rescale_onsite0 = 3.\n",
    "params.Rescale_onsite1 = 3.\n",
    "\n",
    "pzStart = -0.553\n",
    "pzEnd = 0.703\n",
    "\n",
    "GridNumber = 40\n",
    "for i in range(GridNumber):\n",
    "    params.pz = pzStart + i * (pzEnd - pzStart) / (GridNumber-1)\n",
    "    velocityCash = FermiVelocityZQL(fsys_1D, params)\n",
    "    print(velocityCash,end=',')"
   ]
  },
  {
   "cell_type": "code",
   "execution_count": null,
   "metadata": {
    "collapsed": true
   },
   "outputs": [],
   "source": []
  }
 ],
 "metadata": {
  "anaconda-cloud": {},
  "kernelspec": {
   "display_name": "Python [default]",
   "language": "python",
   "name": "python3"
  },
  "language_info": {
   "codemirror_mode": {
    "name": "ipython",
    "version": 3
   },
   "file_extension": ".py",
   "mimetype": "text/x-python",
   "name": "python",
   "nbconvert_exporter": "python",
   "pygments_lexer": "ipython3",
   "version": "3.5.2"
  }
 },
 "nbformat": 4,
 "nbformat_minor": 1
}
