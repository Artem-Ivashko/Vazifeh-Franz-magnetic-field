{
 "cells": [
  {
   "cell_type": "code",
   "execution_count": 1,
   "metadata": {
    "collapsed": false
   },
   "outputs": [],
   "source": [
    "import diagonalizer\n",
    "from diagonalizer import diagonalize_1D, density_plot_1D, pSweep_1D, spectrum_plot_1D, FermiVelocityZQL\n",
    "\n",
    "import numpy as np\n",
    "from numpy import pi\n",
    "from copy import copy\n",
    "# for plotting\n",
    "import matplotlib as mpl\n",
    "from matplotlib import pyplot as plt\n",
    "\n",
    "#Some global and default parameters\n",
    "SitesCount_XDefault = 400\n",
    "fsys_1D = diagonalizer.FinalizedSystem_1D(SitesCount_XDefault)\n",
    "\n",
    "#The parameters with dimension of energy are measured in units of t\n",
    "#The lattice parameters (apart from the number of lattice sites) seem to be the same as in Fig.1 of Baireuther et al. 16\n",
    "#lBinv2 = a_0^2 / l_B^2, where a_0 is the lattice spacing, lB is the magnetic length\n",
    "ParametersDefault = diagonalizer.SimpleNamespace( tp=2., t=1., tzp=1., tz=1., M0=-0.3, FermiEnergy = 0., \\\n",
    "                     betaz=1.2, b0=0.1, pzNode2 = -0.6314028, \\\n",
    "                     Rescale_hop0 = 1.0, Rescale_onsite0 = 1.0, Rescale_onsite1 = 1.0, \\\n",
    "                     EnergyNode2 = 0.049189807,\n",
    "                     lBinv2=0., x_shift= (SitesCount_XDefault - 1.)/2., \\\n",
    "                     EigenvectorsCount = 50, EnergyPrecision = 10**(-5), WavefunctionComponents = 4, \\\n",
    "                     py = 0., pz = 0. )\n",
    "\n",
    "pzMin = -1\n",
    "pzMax = 1\n",
    "pzCount = 30"
   ]
  },
  {
   "cell_type": "code",
   "execution_count": 2,
   "metadata": {
    "collapsed": false
   },
   "outputs": [
    {
     "data": {
      "image/png": "[encoded data removed]",
      "text/plain": [
       "<matplotlib.figure.Figure at 0x7f0ec1679898>"
      ]
     },
     "metadata": {},
     "output_type": "display_data"
    }
   ],
   "source": [
    "params = copy(ParametersDefault)\n",
    "\n",
    "evals, evecs = pSweep_1D( fsys_1D, params, pzMin, pzMax, pCount=pzCount, yORzSweep = 'pzSweep')\n",
    "spectrum_plot_1D(evals,pzMin,pzMax,pzCount)\n",
    "\n",
    "del params, evals, evecs"
   ]
  },
  {
   "cell_type": "markdown",
   "metadata": {},
   "source": [
    "## Extraction of the z-velocity of the Fermi arcs"
   ]
  },
  {
   "cell_type": "markdown",
   "metadata": {},
   "source": [
    "### Extraction of the velocity for $p^z$ around a Weyl node"
   ]
  },
  {
   "cell_type": "code",
   "execution_count": 3,
   "metadata": {
    "collapsed": false
   },
   "outputs": [
    {
     "name": "stdout",
     "output_type": "stream",
     "text": [
      "[ 0.04799216  0.04877692  0.04956169  0.05034646] while the expected Weyl-node energy is 0.049189807\n",
      "[ 0.04851469  0.04851469  0.05599382  0.05613517]\n",
      "[ 0.0457664   0.0457664   0.08269876  0.08272621]\n",
      "-0.06751170000000029\n",
      "-0.06846814000000007\n"
     ]
    }
   ],
   "source": [
    "fsys_finerResolution = diagonalizer.FinalizedSystem_1D(8000)\n",
    "params = copy(ParametersDefault)\n",
    "\n",
    "params.pz = params.pzNode2\n",
    "params.FermiEnergy = params.EnergyNode2\n",
    "params.EigenvectorsCount = 4\n",
    "evals, evecs = diagonalize_1D(fsys_finerResolution,params)\n",
    "print(evals, 'while the expected Weyl-node energy is', params.EnergyNode2)\n",
    "\n",
    "\n",
    "params.pz = params.pzNode2 + 0.01\n",
    "params.FermiEnergy = params.EnergyNode2\n",
    "params.EigenvectorsCount = 4\n",
    "evals, evecs = diagonalize_1D(fsys_finerResolution,params)\n",
    "print(evals)\n",
    "\n",
    "\n",
    "params.pz = params.pzNode2 + 0.05\n",
    "params.FermiEnergy = params.EnergyNode2\n",
    "params.EigenvectorsCount = 4\n",
    "evals, evecs = diagonalize_1D(fsys_finerResolution,params)\n",
    "print(evals)\n",
    "\n",
    "\n",
    "#The extraction of the FA spectrum is made manually so far\n",
    "print((0.04851469 - params.EnergyNode2)/0.01)\n",
    "print((0.0457664 - params.EnergyNode2)/0.05)\n",
    "\n",
    "\n",
    "del fsys_finerResolution, params, evals, evecs"
   ]
  },
  {
   "cell_type": "markdown",
   "metadata": {},
   "source": [
    "### Extraction of the velocity for $p^z$ in between the Weyl nodes (TO REVISE: maybe it is better to Taylor-expand around $p^z=0$ instead?)"
   ]
  },
  {
   "cell_type": "code",
   "execution_count": 43,
   "metadata": {
    "collapsed": false
   },
   "outputs": [
    {
     "name": "stdout",
     "output_type": "stream",
     "text": [
      "[ -2.95881015e-01   5.08635444e-19   9.20209656e-18   2.95910607e-01]\n",
      "[-0.00416493 -0.00416493  0.2849755   0.28503678]\n",
      "-0.08329859999999999\n"
     ]
    }
   ],
   "source": [
    "params = copy(ParametersDefault)\n",
    "\n",
    "#If I make 8000 sites instead of 7000, the numerical error appears somehow \n",
    "fsys_finerResolution = diagonalizer.FinalizedSystem_1D(7000)\n",
    "params.pz = 0.\n",
    "params.FermiEnergy = 0.\n",
    "params.EigenvectorsCount = 4\n",
    "evals, evecs = diagonalize_1D(fsys_finerResolution,params)\n",
    "print(evals)\n",
    "\n",
    "\n",
    "fsys_finerResolution = diagonalizer.FinalizedSystem_1D(8000)\n",
    "params.pz = 0.05\n",
    "params.FermiEnergy = 0.\n",
    "params.EigenvectorsCount = 4\n",
    "evals, evecs = diagonalize_1D(fsys_finerResolution,params)\n",
    "print(evals)\n",
    "\n",
    "\n",
    "#The extraction of the FA spectrum is made manually so far\n",
    "print((-0.00416493)/0.05)\n",
    "\n",
    "\n",
    "del fsys_finerResolution, params, evals, evecs"
   ]
  },
  {
   "cell_type": "markdown",
   "metadata": {},
   "source": [
    "### The FA spectrum is odd wrt $(p^z,p^y) \\to (-p^z,-p^y)$"
   ]
  },
  {
   "cell_type": "code",
   "execution_count": 76,
   "metadata": {
    "collapsed": false
   },
   "outputs": [
    {
     "name": "stdout",
     "output_type": "stream",
     "text": [
      "[-0.22359902  0.17434565  0.2524964   0.25270577]\n",
      "[-0.25270629 -0.25249908 -0.17434565  0.22359902]\n",
      "[-0.42058329  0.37132993  0.4149784   0.41511229  0.41533535  0.4156474\n",
      "  0.41604823  0.41653755  0.41711503  0.41778026  0.41853279  0.41937212\n",
      "  0.42029765  0.42130882  0.42240559]\n",
      "[-0.42240524 -0.4213089  -0.42029771 -0.41937223 -0.4185328  -0.41778026\n",
      " -0.41711503 -0.41653755 -0.41604823 -0.4156474  -0.41533535 -0.41511229\n",
      " -0.4149784  -0.37132993  0.42058329]\n"
     ]
    }
   ],
   "source": [
    "params = copy(ParametersDefault)\n",
    "\n",
    "fsys_finerResolution = diagonalizer.FinalizedSystem_1D(1000)\n",
    "params.EigenvectorsCount = 4\n",
    "\n",
    "params.FermiEnergy = 0.\n",
    "params.pz = 0.3\n",
    "params.py = 0.1\n",
    "evals, evecs = diagonalize_1D(fsys_finerResolution,params)\n",
    "print(evals)\n",
    "\n",
    "params.FermiEnergy = 0.\n",
    "params.pz = -0.3\n",
    "params.py = -0.1\n",
    "evals, evecs = diagonalize_1D(fsys_finerResolution,params)\n",
    "print(evals)\n",
    "\n",
    "\n",
    "params.EigenvectorsCount = 15\n",
    "params.FermiEnergy = 0.0\n",
    "params.pz = 0.3\n",
    "params.py = 0.2\n",
    "evals, evecs = diagonalize_1D(fsys_finerResolution,params)\n",
    "print(evals)\n",
    "\n",
    "\n",
    "params.EigenvectorsCount = 15\n",
    "params.FermiEnergy = 0.0\n",
    "params.pz = -0.3\n",
    "params.py = -0.2\n",
    "evals, evecs = diagonalize_1D(fsys_finerResolution,params)\n",
    "print(evals)\n",
    "\n",
    "\n",
    "del fsys_finerResolution, params, evals, evecs"
   ]
  },
  {
   "cell_type": "markdown",
   "metadata": {},
   "source": [
    "### Somehow the FA spectrum is additively separable wrt $p^z$ and $p^y$, even at the level of the microscopic theory!"
   ]
  },
  {
   "cell_type": "code",
   "execution_count": 140,
   "metadata": {
    "collapsed": false
   },
   "outputs": [
    {
     "name": "stdout",
     "output_type": "stream",
     "text": [
      "[-0.26941774 -0.26919804  0.00831945  0.00831945]\n",
      "[-0.31331972 -0.09961066  0.09961066  0.31331672]\n",
      "[-0.28761516 -0.28727505 -0.28707223 -0.0912912 ]\n",
      "-0.09129121\n",
      "[-0.0912912   0.10793011  0.31887111  0.31907523]\n",
      "0.10793011000000001\n"
     ]
    }
   ],
   "source": [
    "params = copy(ParametersDefault)\n",
    "\n",
    "fsys_finerResolution = diagonalizer.FinalizedSystem_1D(1000)\n",
    "params.EigenvectorsCount = 4\n",
    "\n",
    "params.FermiEnergy = 0.\n",
    "params.pz = -0.1\n",
    "params.py = 0.\n",
    "evals, evecs = diagonalize_1D(fsys_finerResolution,params)\n",
    "print(evals)\n",
    "\n",
    "params.FermiEnergy = 0.\n",
    "params.pz = 0.\n",
    "params.py = 0.05\n",
    "evals, evecs = diagonalize_1D(fsys_finerResolution,params)\n",
    "print(evals)\n",
    "\n",
    "params.pz = -0.1\n",
    "params.py = 0.05\n",
    "params.FermiEnergy = -0.1\n",
    "evals, evecs = diagonalize_1D(fsys_finerResolution,params)\n",
    "print(evals)\n",
    "print(-0.09961066+0.00831945)\n",
    "\n",
    "params.FermiEnergy = 0.1\n",
    "evals, evecs = diagonalize_1D(fsys_finerResolution,params)\n",
    "print(evals)\n",
    "print(0.09961066+0.00831945)\n",
    "\n",
    "\n",
    "del fsys_finerResolution, params, evals, evecs"
   ]
  },
  {
   "cell_type": "markdown",
   "metadata": {},
   "source": [
    "## Deformation of the boundary condition"
   ]
  },
  {
   "cell_type": "code",
   "execution_count": 2,
   "metadata": {
    "collapsed": false
   },
   "outputs": [
    {
     "data": {
      "image/png": "[encoded data removed]",
      "text/plain": [
       "<matplotlib.figure.Figure at 0x7f1eb00801d0>"
      ]
     },
     "metadata": {},
     "output_type": "display_data"
    }
   ],
   "source": [
    "params = copy(ParametersDefault)\n",
    "params.Rescale_b0_0 = 10.0\n",
    "# params.Rescale_onsite0 = 3.\n",
    "# params.Rescale_onsite1 = 3.\n",
    "\n",
    "evals, evecs = pSweep_1D( fsys_1D, params, pzMin, pzMax, pCount=pzCount, yORzSweep = 'pzSweep')\n",
    "spectrum_plot_1D(evals,pzMin,pzMax,pzCount)\n",
    "\n",
    "del params, evals, evecs"
   ]
  },
  {
   "cell_type": "markdown",
   "metadata": {},
   "source": [
    "### Extraction of the velocity for $p^z$ around a Weyl node"
   ]
  },
  {
   "cell_type": "code",
   "execution_count": 9,
   "metadata": {
    "collapsed": false
   },
   "outputs": [
    {
     "name": "stdout",
     "output_type": "stream",
     "text": [
      "[ 0.04809845  0.04888322  0.04966799  0.05045276] while the expected Weyl-node energy is 0.049189807\n",
      "[ 0.0457664   0.07119143  0.08269885  0.08272656  0.08277269  0.08283716]\n",
      "0.44003245999999996\n",
      "-0.06846814000000007\n"
     ]
    }
   ],
   "source": [
    "fsys_finerResolution = diagonalizer.FinalizedSystem_1D(8000)\n",
    "params = copy(ParametersDefault)\n",
    "params.Rescale_b0_0 = 10.0\n",
    "# params.Rescale_onsite0 = 3.\n",
    "# params.Rescale_onsite1 = 3.\n",
    "\n",
    "params.pz = params.pzNode2\n",
    "params.FermiEnergy = params.EnergyNode2\n",
    "params.EigenvectorsCount = 4\n",
    "evals, evecs = diagonalize_1D(fsys_finerResolution,params)\n",
    "print(evals, 'while the expected Weyl-node energy is', params.EnergyNode2)\n",
    "\n",
    "\n",
    "params.pz = params.pzNode2 + 0.05\n",
    "params.FermiEnergy = params.EnergyNode2\n",
    "params.EigenvectorsCount = 6\n",
    "evals, evecs = diagonalize_1D(fsys_finerResolution,params)\n",
    "print(evals)\n",
    "\n",
    "\n",
    "#The extraction of the FA spectrum is made manually so far\n",
    "print((0.07119143 - params.EnergyNode2)/0.05)\n",
    "print((0.0457664 - params.EnergyNode2)/0.05)\n",
    "\n",
    "\n",
    "del fsys_finerResolution, params, evals, evecs"
   ]
  },
  {
   "cell_type": "markdown",
   "metadata": {},
   "source": [
    "### Extraction of the velocity for $p^z$ that is just in between the Weyl nodes"
   ]
  },
  {
   "cell_type": "code",
   "execution_count": 16,
   "metadata": {
    "collapsed": false
   },
   "outputs": [],
   "source": [
    "# params = copy(ParametersDefault)\n",
    "# params.Rescale_b0_0 = 10.0\n",
    "\n",
    "#If I make 8000 sites instead of 6000, the numerical error appears somehow \n",
    "# fsys_finerResolution = diagonalizer.FinalizedSystem_1D(6000)\n",
    "# params.pz = 0.\n",
    "# params.FermiEnergy = 0.\n",
    "# params.EigenvectorsCount = 4\n",
    "# evals, evecs = diagonalize_1D(fsys_finerResolution,params)\n",
    "# print(evals)\n",
    "\n",
    "\n",
    "# fsys_finerResolution = diagonalizer.FinalizedSystem_1D(8000)\n",
    "# params.pz = 0.05\n",
    "# params.FermiEnergy = 0.\n",
    "# params.EigenvectorsCount = 6\n",
    "# evals, evecs = diagonalize_1D(fsys_finerResolution,params)\n",
    "# print(evals)\n",
    "\n",
    "\n",
    "#The extraction of the FA spectrum is made manually so far\n",
    "# print((-0.00416493)/0.05)\n",
    "# print((-0.02400524)/0.05)\n",
    "\n",
    "\n",
    "# del fsys_finerResolution, params, evals, evecs"
   ]
  },
  {
   "cell_type": "markdown",
   "metadata": {},
   "source": [
    "### The FA spectrum is still odd wrt $(p^z,p^y) \\to (-p^z,-p^y)$"
   ]
  },
  {
   "cell_type": "code",
   "execution_count": 14,
   "metadata": {
    "collapsed": false
   },
   "outputs": [
    {
     "name": "stdout",
     "output_type": "stream",
     "text": [
      "[-0.11616643  0.00146127  0.24521127  0.2454339   0.24580454  0.24632256\n",
      "  0.24698711  0.2477971   0.24875121  0.2498479 ]\n",
      "[-0.2498479  -0.24875121 -0.2477971  -0.24698711 -0.24632256 -0.24580454\n",
      " -0.2454339  -0.24521127 -0.00146127  0.11616643]\n"
     ]
    }
   ],
   "source": [
    "fsys_finerResolution = diagonalizer.FinalizedSystem_1D(1000)\n",
    "\n",
    "params = copy(ParametersDefault)\n",
    "params.Rescale_b0_0 = 10.0\n",
    "# params.Rescale_onsite0 = 3.\n",
    "# params.Rescale_onsite1 = 3.\n",
    "\n",
    "\n",
    "params.EigenvectorsCount = 10\n",
    "params.FermiEnergy = -0.0\n",
    "params.pz = 0.2\n",
    "params.py = 0.05\n",
    "evals, evecs = diagonalize_1D(fsys_finerResolution,params)\n",
    "print(evals)\n",
    "\n",
    "params.EigenvectorsCount = 10\n",
    "params.FermiEnergy = 0.0\n",
    "params.pz = -0.2\n",
    "params.py = -0.05\n",
    "evals, evecs = diagonalize_1D(fsys_finerResolution,params)\n",
    "print(evals)\n",
    "\n",
    "\n",
    "del fsys_finerResolution, params, evals, evecs"
   ]
  },
  {
   "cell_type": "markdown",
   "metadata": {},
   "source": [
    "### But the deformed FA spectrum is no longer separable!"
   ]
  },
  {
   "cell_type": "code",
   "execution_count": 18,
   "metadata": {
    "collapsed": false
   },
   "outputs": [
    {
     "name": "stdout",
     "output_type": "stream",
     "text": [
      "[-0.26914429 -0.26913068  0.00831945  0.04710528]\n",
      "[-0.31325681 -0.31324435 -0.09961066  0.08440131  0.31324435  0.31325682]\n",
      "[-0.28727759 -0.28721363 -0.28715818 -0.28711126 -0.28707286 -0.28704299\n",
      " -0.28702165 -0.28700885 -0.0912912   0.13218837]\n",
      "-0.09129121\n",
      "[-0.0912912   0.13218837  0.31880747  0.31882036  0.31884183  0.31887188\n",
      "  0.31891052  0.31895773  0.31901352  0.31907789]\n",
      "0.13150658999999998\n"
     ]
    }
   ],
   "source": [
    "fsys_finerResolution = diagonalizer.FinalizedSystem_1D(4000)\n",
    "\n",
    "params = copy(ParametersDefault)\n",
    "params.Rescale_b0_0 = 10.0\n",
    "# params.Rescale_onsite0 = 3.\n",
    "# params.Rescale_onsite1 = 3.\n",
    "\n",
    "params.EigenvectorsCount = 4\n",
    "params.FermiEnergy = 0.\n",
    "params.pz = -0.1\n",
    "params.py = 0.\n",
    "evals, evecs = diagonalize_1D(fsys_finerResolution,params)\n",
    "print(evals)\n",
    "\n",
    "params.EigenvectorsCount = 6\n",
    "params.FermiEnergy = 0.\n",
    "params.pz = 0.\n",
    "params.py = 0.05\n",
    "evals, evecs = diagonalize_1D(fsys_finerResolution,params)\n",
    "print(evals)\n",
    "\n",
    "params.EigenvectorsCount = 10\n",
    "params.FermiEnergy = -0.05\n",
    "params.pz = -0.1\n",
    "params.py = 0.05\n",
    "evals, evecs = diagonalize_1D(fsys_finerResolution,params)\n",
    "print(evals)\n",
    "print(0.00831945 - 0.09961066)\n",
    "\n",
    "params.EigenvectorsCount = 10\n",
    "params.FermiEnergy = 0.05\n",
    "params.pz = -0.1\n",
    "params.py = 0.05\n",
    "evals, evecs = diagonalize_1D(fsys_finerResolution,params)\n",
    "print(evals)\n",
    "print(0.04710528 + 0.08440131)\n",
    "\n",
    "\n",
    "del params, evals, evecs"
   ]
  },
  {
   "cell_type": "markdown",
   "metadata": {},
   "source": [
    "### Let us find several valus of FA energy, in order to interpolate it in Mathematica"
   ]
  },
  {
   "cell_type": "code",
   "execution_count": 19,
   "metadata": {
    "collapsed": false
   },
   "outputs": [],
   "source": [
    "# fsys_finerResolution = diagonalizer.FinalizedSystem_1D(6000)\n",
    "\n",
    "# params = copy(ParametersDefault)\n",
    "# params.Rescale_b0_0 = 10.0\n",
    "# params.EigenvectorsCount = 6\n",
    "# params.py = 0.\n",
    "\n",
    "\n",
    "# params.FermiEnergy = 0.\n",
    "# params.pz = -0.001\n",
    "# evals, evecs = diagonalize_1D(fsys_finerResolution,params)\n",
    "# print(evals)\n",
    "\n",
    "# params.FermiEnergy = 0.01\n",
    "# params.pz = -0.1\n",
    "# evals, evecs = diagonalize_1D(fsys_finerResolution,params)\n",
    "# print(evals)\n",
    "\n",
    "# params.FermiEnergy = 0.01\n",
    "# params.pz = -0.2\n",
    "# evals, evecs = diagonalize_1D(fsys_finerResolution,params)\n",
    "# print(evals)\n",
    "\n",
    "# params.FermiEnergy = 0.01\n",
    "# params.pz = -0.3\n",
    "# evals, evecs = diagonalize_1D(fsys_finerResolution,params)\n",
    "# print(evals)\n",
    "\n",
    "# params.FermiEnergy = 0.01\n",
    "# params.pz = -0.4\n",
    "# evals, evecs = diagonalize_1D(fsys_finerResolution,params)\n",
    "# print(evals)\n",
    "\n",
    "# params.FermiEnergy = 0.01\n",
    "# params.pz = -0.5\n",
    "# evals, evecs = diagonalize_1D(fsys_finerResolution,params)\n",
    "# print(evals)\n",
    "\n",
    "# params.FermiEnergy = 0.05\n",
    "# params.pz = -0.6\n",
    "# evals, evecs = diagonalize_1D(fsys_finerResolution,params)\n",
    "# print(evals)\n",
    "\n",
    "# params.FermiEnergy = 0.05\n",
    "# params.pz = -0.61\n",
    "# evals, evecs = diagonalize_1D(fsys_finerResolution,params)\n",
    "# print(evals)\n",
    "\n",
    "# params.FermiEnergy = 0.049\n",
    "# params.pz = -0.62\n",
    "# evals, evecs = diagonalize_1D(fsys_finerResolution,params)\n",
    "# print(evals)\n",
    "\n",
    "\n",
    "#Energy at an extra point, in order to check the validity of the interpolation\n",
    "# params.FermiEnergy = 0.05\n",
    "# params.py = -0.02\n",
    "# params.pz = -0.6\n",
    "# evals, evecs = diagonalize_1D(fsys_finerResolution,params)\n",
    "# print(evals)\n",
    "\n",
    "# del fsys_finerResolution, params, evals, evecs"
   ]
  },
  {
   "cell_type": "markdown",
   "metadata": {},
   "source": [
    "### Fermi velocity along z around the Weyl node is significantly different from its $p^y=0$ value!"
   ]
  },
  {
   "cell_type": "code",
   "execution_count": 20,
   "metadata": {
    "collapsed": false
   },
   "outputs": [],
   "source": [
    "# params.FermiEnergy = 0.05\n",
    "# params.py = -0.024\n",
    "\n",
    "# params.pz = -0.6\n",
    "# evals, evecs = diagonalize_1D(fsys_finerResolution,params)\n",
    "# print(evals)\n",
    "\n",
    "# params.pz = -0.55\n",
    "# evals, evecs = diagonalize_1D(fsys_finerResolution,params)\n",
    "# print(evals)\n",
    "\n",
    "# (0.09138572-0.09488199)/0.05"
   ]
  },
  {
   "cell_type": "markdown",
   "metadata": {},
   "source": [
    "# Now, let us turn the magnetic field"
   ]
  },
  {
   "cell_type": "markdown",
   "metadata": {},
   "source": [
    "## Original boundary"
   ]
  },
  {
   "cell_type": "code",
   "execution_count": 3,
   "metadata": {
    "collapsed": true
   },
   "outputs": [],
   "source": [
    "params = copy(ParametersDefault)\n",
    "params.lBinv2 = 1. / 50.**2\n",
    "\n",
    "pzStart = -0.553\n",
    "pzEnd = 0.703"
   ]
  },
  {
   "cell_type": "code",
   "execution_count": 18,
   "metadata": {
    "collapsed": false
   },
   "outputs": [
    {
     "name": "stdout",
     "output_type": "stream",
     "text": [
      "-0.479216674133,-0.134332604138,-0.1020819339,-0.0944769209242,-0.0903872868523,-0.0885539008031,-0.0875201941554,-0.0866876469269,-0.0857376866317,-0.0844519522638,-0.0826324637785,-0.0800398281618,-0.0762985215441,-0.0706797098848,-0.0615053304344,-0.0436475512387,-0.00540690586756,0.097585994278,0.332785735203,0.690725385414,\n",
      "-0.479216674133,-0.192083573519,-0.136005012841,-0.11825068444,-0.102947003937,-0.096578522694,-0.0949786212891,-0.0923526952112,-0.0906636274933,-0.089526395584,-0.0887262075438,-0.0881314215787,-0.0876557612706,-0.0872393727743,-0.0868384339378,-0.0864190538996,-0.0859534655505,-0.0854174811984,-0.0847886295877,-0.084044605055,-0.0831617512812,-0.0821133176967,-0.0808671761627,-0.0793825531815,-0.0776050712721,-0.0754589035092,-0.0728339381928,-0.0695641986555,-0.0653910046755,-0.0599016827463,-0.0515519122471,-0.041095240869,-0.0252448366585,-0.00105874675242,0.0405820985331,0.10591171151,0.204280406455,0.340179766169,0.50987813957,0.690725385414,"
     ]
    }
   ],
   "source": [
    "GridNumber = 20\n",
    "for i in range(GridNumber):\n",
    "    params.pz = pzStart + i * (pzEnd - pzStart) / (GridNumber-1)\n",
    "    velocityCash = FermiVelocityZQL(fsys_1D, params)\n",
    "    print(velocityCash,end=',')\n",
    "    \n",
    "print('')\n",
    "\n",
    "#VelocityIntegral = 0.\n",
    "GridNumber = 40\n",
    "for i in range(GridNumber):\n",
    "    params.pz = pzStart + i * (pzEnd - pzStart) / (GridNumber-1)\n",
    "    velocityCash = FermiVelocityZQL(fsys_1D, params)\n",
    "    print(velocityCash,end=',')    \n",
    "#    VelocityIntegral += velocityCash\n",
    "# VelocityIntegral = VelocityIntegral * (pzEnd - pzStart) / GridNumber\n",
    "# print(VelocityIntegral, -params.EnergyNode2)\n",
    "\n",
    "\n",
    "del params, pzStart, pzEnd, GridNumber, velocityCash #, VelocityIntegral "
   ]
  },
  {
   "cell_type": "code",
   "execution_count": 19,
   "metadata": {
    "collapsed": false
   },
   "outputs": [
    {
     "name": "stdout",
     "output_type": "stream",
     "text": [
      "-0.482802265788,-0.192208639656,-0.132315863959,-0.115555838415,-0.102253771791,-0.0967398439288,-0.0924335940047,-0.088919547627,-0.0884434951317,-0.0855510862915,-0.087251360515,-0.0862704472985,-0.0856400534343,-0.0851687880711,-0.0847511977822,-0.0843292398109,-0.0838679068657,-0.083342203885,-0.0827305106151,-0.0820114181854,-0.0811621261763,-0.0801567424624,-0.0744658052733,-0.0775396668246,-0.0758254351157,-0.073729684604,-0.0710980022259,-0.0676122044102,-0.0624026974712,-0.0638248733572,-0.0515554695068,-0.0466890061848,-0.0252699312802,-0.00147247985378,0.0414018469403,0.105910328479,0.20396003291,0.341284081499,0.513375427424,0.690695966029,"
     ]
    }
   ],
   "source": [
    "pzStart = -0.553\n",
    "pzEnd = 0.703\n",
    "\n",
    "fsys_1DRefine = diagonalizer.FinalizedSystem_1D(800)\n",
    "paramsRefine = copy(ParametersDefault)\n",
    "paramsRefine.lBinv2 = 1. / 50.**2\n",
    "paramsRefine.x_shift= (800 - 1.)/2.\n",
    "\n",
    "GridNumber = 40\n",
    "for i in range(GridNumber):\n",
    "    paramsRefine.pz = pzStart + i * (pzEnd - pzStart) / (GridNumber-1)\n",
    "    velocityCash = FermiVelocityZQL(fsys_1DRefine, paramsRefine)\n",
    "    print(velocityCash,end=',')\n",
    "    \n",
    "    \n",
    "del fsys_1DRefine, paramsRefine, pzStart, pzEnd, GridNumber, velocityCash"
   ]
  },
  {
   "cell_type": "markdown",
   "metadata": {},
   "source": [
    "## Deformed boundary"
   ]
  },
  {
   "cell_type": "code",
   "execution_count": 10,
   "metadata": {
    "collapsed": false
   },
   "outputs": [
    {
     "name": "stdout",
     "output_type": "stream",
     "text": [
      "{-0.559,-0.228513114283},{-0.4925789473684211,0.179101767862},{-0.4261578947368422,0.0705850604046},{-0.35973684210526324,-0.045665309436},{-0.29331578947368425,-0.161116291288},{-0.22689473684210532,-0.275042908665},{-0.16047368421052638,-0.369755835592},{-0.09405263157894744,-0.442473654877},{-0.02763157894736845,-0.479902411135},{0.038789473684210485,-0.474811623184},{0.10521052631578942,-0.428333974957},{0.17163157894736836,-0.346765008095},{0.2380526315789473,-0.245323883099},{0.30447368421052623,-0.130092450658},{0.37089473684210517,-0.00933962950695},{0.4373157894736841,0.111691078193},{0.5037368421052631,0.232304804388},{0.5701578947368421,0.351952298246},{0.636578947368421,0.486105853538},{0.703,0.690543936525},"
     ]
    }
   ],
   "source": [
    "params = copy(ParametersDefault)\n",
    "params.lBinv2 = 1. / 50.**2\n",
    "params.Rescale_b0_0 = 10.0\n",
    "\n",
    "pzStart = -0.559\n",
    "pzEnd = 0.703\n",
    "\n",
    "GridNumber = 20\n",
    "for i in range(GridNumber):\n",
    "    params.pz = pzStart + i * (pzEnd - pzStart) / (GridNumber-1)\n",
    "    velocityCash = FermiVelocityZQL(fsys_1D, params)\n",
    "    print('{', params.pz, ',', velocityCash,sep='',end='},')"
   ]
  },
  {
   "cell_type": "markdown",
   "metadata": {},
   "source": [
    "## Is the agreement between the effective theory and calculation better for reduced $b_0$ and increased $l_B$? (so that the QL still takes place)"
   ]
  },
  {
   "cell_type": "code",
   "execution_count": 13,
   "metadata": {
    "collapsed": false
   },
   "outputs": [
    {
     "data": {
      "image/png": "[encoded data removed]",
      "text/plain": [
       "<matplotlib.figure.Figure at 0x7f08af30e668>"
      ]
     },
     "metadata": {},
     "output_type": "display_data"
    }
   ],
   "source": [
    "params = copy(ParametersDefault)\n",
    "params.b0 = 0.05\n",
    "params.lBinv2 = 1. / 100.**2\n",
    "\n",
    "evals, evecs = pSweep_1D( fsys_1D, params, -0.7, -0.5, pCount=pzCount, yORzSweep = 'pzSweep')\n",
    "spectrum_plot_1D(evals, -0.7, -0.5, pzCount)"
   ]
  },
  {
   "cell_type": "code",
   "execution_count": null,
   "metadata": {
    "collapsed": true
   },
   "outputs": [],
   "source": []
  }
 ],
 "metadata": {
  "anaconda-cloud": {},
  "kernelspec": {
   "display_name": "Python [default]",
   "language": "python",
   "name": "python3"
  },
  "language_info": {
   "codemirror_mode": {
    "name": "ipython",
    "version": 3
   },
   "file_extension": ".py",
   "mimetype": "text/x-python",
   "name": "python",
   "nbconvert_exporter": "python",
   "pygments_lexer": "ipython3",
   "version": "3.5.2"
  }
 },
 "nbformat": 4,
 "nbformat_minor": 1
}
