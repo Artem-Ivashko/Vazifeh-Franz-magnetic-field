{
 "cells": [
  {
   "cell_type": "code",
   "execution_count": 1,
   "metadata": {
    "collapsed": false
   },
   "outputs": [],
   "source": [
    "import diagonalizer\n",
    "from diagonalizer import diagonalize_1D, density_plot_1D, pSweep_1D, spectrum_plot_1D, FermiVelocityZQL\n",
    "\n",
    "import numpy as np\n",
    "from numpy import pi\n",
    "from copy import copy\n",
    "# for plotting\n",
    "import matplotlib as mpl\n",
    "from matplotlib import pyplot as plt\n",
    "\n",
    "#Some global and default parameters\n",
    "SitesCount_XDefault = 800\n",
    "fsys_1D = diagonalizer.FinalizedSystem_1D(SitesCount_XDefault)\n",
    "\n",
    "#The parameters with dimension of energy are measured in units of t\n",
    "#The lattice parameters (apart from the number of lattice sites) seem to be the same as in Fig.1 of Baireuther et al. 16\n",
    "#lBinv2 = a_0^2 / l_B^2, where a_0 is the lattice spacing, lB is the magnetic length\n",
    "ParametersDefault = diagonalizer.SimpleNamespace( tp=2., t=1., tzp=1., tz=1., M0=-0.3, FermiEnergy = 0., \\\n",
    "                     betaz=1.2, b0=0.1, pzNode2 = -0.6314028, \\\n",
    "                     Rescale_hop0 = 1.0, Rescale_onsite0 = 1.0, Rescale_onsite1 = 1.0, \\\n",
    "                     EnergyNode2 = 0.049189807,\n",
    "                     lBinv2=0., x_shift= (SitesCount_XDefault - 1.)/2., \\\n",
    "                     EigenvectorsCount = 50, EnergyPrecision = 10**(-5), WavefunctionComponents = 4, \\\n",
    "                     py = 0., pz = 0. )\n",
    "\n",
    "pzMin = -1\n",
    "pzMax = 1\n",
    "pzCount = 30"
   ]
  },
  {
   "cell_type": "code",
   "execution_count": 48,
   "metadata": {
    "collapsed": false
   },
   "outputs": [
    {
     "data": {
      "image/png": "[encoded data removed]",
      "text/plain": [
       "<matplotlib.figure.Figure at 0x7f183575ce10>"
      ]
     },
     "metadata": {},
     "output_type": "display_data"
    }
   ],
   "source": [
    "fsys_300 = diagonalizer.FinalizedSystem_1D(300)\n",
    "params = copy(ParametersDefault)\n",
    "\n",
    "evals, evecs = pSweep_1D(fsys_300, params, pzMin, pzMax, pCount=pzCount, yORzSweep = 'pzSweep')\n",
    "plt = spectrum_plot_1D(evals,pzMin,pzMax,pzCount, ShowPlot = False)\n",
    "plt.xlabel('$p^z \\; [a^{-1}]$', fontsize = 20)\n",
    "plt.ylim(-0.5, 0.5)\n",
    "plt.text(0.8, 0.4, 'B = 0', fontsize = 20, horizontalalignment='center', bbox=dict(facecolor='white', alpha=1.))\n",
    "plt.tight_layout()\n",
    "plt.savefig('images/WeylCones_BBLSet2.eps')\n",
    "plt.show()\n",
    "\n",
    "del fsys_300, params, evals, evecs"
   ]
  },
  {
   "cell_type": "markdown",
   "metadata": {},
   "source": [
    "## Extraction of the z-velocity of the Fermi arcs"
   ]
  },
  {
   "cell_type": "markdown",
   "metadata": {},
   "source": [
    "### Extraction of the velocity for $p^z$ around a Weyl node"
   ]
  },
  {
   "cell_type": "code",
   "execution_count": 3,
   "metadata": {
    "collapsed": false
   },
   "outputs": [
    {
     "name": "stdout",
     "output_type": "stream",
     "text": [
      "[ 0.04799216  0.04877692  0.04956169  0.05034646] while the expected Weyl-node energy is 0.049189807\n",
      "[ 0.04851469  0.04851469  0.05599382  0.05613517]\n",
      "[ 0.0457664   0.0457664   0.08269876  0.08272621]\n",
      "-0.06751170000000029\n",
      "-0.06846814000000007\n"
     ]
    }
   ],
   "source": [
    "fsys_finerResolution = diagonalizer.FinalizedSystem_1D(8000)\n",
    "params = copy(ParametersDefault)\n",
    "\n",
    "params.pz = params.pzNode2\n",
    "params.FermiEnergy = params.EnergyNode2\n",
    "params.EigenvectorsCount = 4\n",
    "evals, evecs = diagonalize_1D(fsys_finerResolution,params)\n",
    "print(evals, 'while the expected Weyl-node energy is', params.EnergyNode2)\n",
    "\n",
    "\n",
    "params.pz = params.pzNode2 + 0.01\n",
    "params.FermiEnergy = params.EnergyNode2\n",
    "params.EigenvectorsCount = 4\n",
    "evals, evecs = diagonalize_1D(fsys_finerResolution,params)\n",
    "print(evals)\n",
    "\n",
    "\n",
    "params.pz = params.pzNode2 + 0.05\n",
    "params.FermiEnergy = params.EnergyNode2\n",
    "params.EigenvectorsCount = 4\n",
    "evals, evecs = diagonalize_1D(fsys_finerResolution,params)\n",
    "print(evals)\n",
    "\n",
    "\n",
    "#The extraction of the FA spectrum is made manually so far\n",
    "print((0.04851469 - params.EnergyNode2)/0.01)\n",
    "print((0.0457664 - params.EnergyNode2)/0.05)\n",
    "\n",
    "\n",
    "del fsys_finerResolution, params, evals, evecs"
   ]
  },
  {
   "cell_type": "markdown",
   "metadata": {},
   "source": [
    "### Extraction of the velocity for $p^z$ in between the Weyl nodes (TO REVISE: maybe it is better to Taylor-expand around $p^z=0$ instead?)"
   ]
  },
  {
   "cell_type": "code",
   "execution_count": 43,
   "metadata": {
    "collapsed": false
   },
   "outputs": [
    {
     "name": "stdout",
     "output_type": "stream",
     "text": [
      "[ -2.95881015e-01   5.08635444e-19   9.20209656e-18   2.95910607e-01]\n",
      "[-0.00416493 -0.00416493  0.2849755   0.28503678]\n",
      "-0.08329859999999999\n"
     ]
    }
   ],
   "source": [
    "params = copy(ParametersDefault)\n",
    "\n",
    "#If I make 8000 sites instead of 7000, the numerical error appears somehow \n",
    "fsys_finerResolution = diagonalizer.FinalizedSystem_1D(7000)\n",
    "params.pz = 0.\n",
    "params.FermiEnergy = 0.\n",
    "params.EigenvectorsCount = 4\n",
    "evals, evecs = diagonalize_1D(fsys_finerResolution,params)\n",
    "print(evals)\n",
    "\n",
    "\n",
    "fsys_finerResolution = diagonalizer.FinalizedSystem_1D(8000)\n",
    "params.pz = 0.05\n",
    "params.FermiEnergy = 0.\n",
    "params.EigenvectorsCount = 4\n",
    "evals, evecs = diagonalize_1D(fsys_finerResolution,params)\n",
    "print(evals)\n",
    "\n",
    "\n",
    "#The extraction of the FA spectrum is made manually so far\n",
    "print((-0.00416493)/0.05)\n",
    "\n",
    "\n",
    "del fsys_finerResolution, params, evals, evecs"
   ]
  },
  {
   "cell_type": "markdown",
   "metadata": {},
   "source": [
    "### The FA spectrum is odd wrt $(p^z,p^y) \\to (-p^z,-p^y)$"
   ]
  },
  {
   "cell_type": "code",
   "execution_count": 76,
   "metadata": {
    "collapsed": false
   },
   "outputs": [
    {
     "name": "stdout",
     "output_type": "stream",
     "text": [
      "[-0.22359902  0.17434565  0.2524964   0.25270577]\n",
      "[-0.25270629 -0.25249908 -0.17434565  0.22359902]\n",
      "[-0.42058329  0.37132993  0.4149784   0.41511229  0.41533535  0.4156474\n",
      "  0.41604823  0.41653755  0.41711503  0.41778026  0.41853279  0.41937212\n",
      "  0.42029765  0.42130882  0.42240559]\n",
      "[-0.42240524 -0.4213089  -0.42029771 -0.41937223 -0.4185328  -0.41778026\n",
      " -0.41711503 -0.41653755 -0.41604823 -0.4156474  -0.41533535 -0.41511229\n",
      " -0.4149784  -0.37132993  0.42058329]\n"
     ]
    }
   ],
   "source": [
    "params = copy(ParametersDefault)\n",
    "\n",
    "fsys_finerResolution = diagonalizer.FinalizedSystem_1D(1000)\n",
    "params.EigenvectorsCount = 4\n",
    "\n",
    "params.FermiEnergy = 0.\n",
    "params.pz = 0.3\n",
    "params.py = 0.1\n",
    "evals, evecs = diagonalize_1D(fsys_finerResolution,params)\n",
    "print(evals)\n",
    "\n",
    "params.FermiEnergy = 0.\n",
    "params.pz = -0.3\n",
    "params.py = -0.1\n",
    "evals, evecs = diagonalize_1D(fsys_finerResolution,params)\n",
    "print(evals)\n",
    "\n",
    "\n",
    "params.EigenvectorsCount = 15\n",
    "params.FermiEnergy = 0.0\n",
    "params.pz = 0.3\n",
    "params.py = 0.2\n",
    "evals, evecs = diagonalize_1D(fsys_finerResolution,params)\n",
    "print(evals)\n",
    "\n",
    "\n",
    "params.EigenvectorsCount = 15\n",
    "params.FermiEnergy = 0.0\n",
    "params.pz = -0.3\n",
    "params.py = -0.2\n",
    "evals, evecs = diagonalize_1D(fsys_finerResolution,params)\n",
    "print(evals)\n",
    "\n",
    "\n",
    "del fsys_finerResolution, params, evals, evecs"
   ]
  },
  {
   "cell_type": "markdown",
   "metadata": {},
   "source": [
    "### Somehow the FA spectrum is additively separable wrt $p^z$ and $p^y$, even at the level of the microscopic theory!"
   ]
  },
  {
   "cell_type": "code",
   "execution_count": 140,
   "metadata": {
    "collapsed": false
   },
   "outputs": [
    {
     "name": "stdout",
     "output_type": "stream",
     "text": [
      "[-0.26941774 -0.26919804  0.00831945  0.00831945]\n",
      "[-0.31331972 -0.09961066  0.09961066  0.31331672]\n",
      "[-0.28761516 -0.28727505 -0.28707223 -0.0912912 ]\n",
      "-0.09129121\n",
      "[-0.0912912   0.10793011  0.31887111  0.31907523]\n",
      "0.10793011000000001\n"
     ]
    }
   ],
   "source": [
    "params = copy(ParametersDefault)\n",
    "\n",
    "fsys_finerResolution = diagonalizer.FinalizedSystem_1D(1000)\n",
    "params.EigenvectorsCount = 4\n",
    "\n",
    "params.FermiEnergy = 0.\n",
    "params.pz = -0.1\n",
    "params.py = 0.\n",
    "evals, evecs = diagonalize_1D(fsys_finerResolution,params)\n",
    "print(evals)\n",
    "\n",
    "params.FermiEnergy = 0.\n",
    "params.pz = 0.\n",
    "params.py = 0.05\n",
    "evals, evecs = diagonalize_1D(fsys_finerResolution,params)\n",
    "print(evals)\n",
    "\n",
    "params.pz = -0.1\n",
    "params.py = 0.05\n",
    "params.FermiEnergy = -0.1\n",
    "evals, evecs = diagonalize_1D(fsys_finerResolution,params)\n",
    "print(evals)\n",
    "print(-0.09961066+0.00831945)\n",
    "\n",
    "params.FermiEnergy = 0.1\n",
    "evals, evecs = diagonalize_1D(fsys_finerResolution,params)\n",
    "print(evals)\n",
    "print(0.09961066+0.00831945)\n",
    "\n",
    "\n",
    "del fsys_finerResolution, params, evals, evecs"
   ]
  },
  {
   "cell_type": "markdown",
   "metadata": {},
   "source": [
    "## Deformation of the boundary condition"
   ]
  },
  {
   "cell_type": "code",
   "execution_count": 29,
   "metadata": {
    "collapsed": false
   },
   "outputs": [
    {
     "data": {
      "image/png": "[encoded data removed]",
      "text/plain": [
       "<matplotlib.figure.Figure at 0x7f1836037470>"
      ]
     },
     "metadata": {},
     "output_type": "display_data"
    }
   ],
   "source": [
    "fsys_300 = diagonalizer.FinalizedSystem_1D(300)\n",
    "\n",
    "params = copy(ParametersDefault)\n",
    "params.Rescale_b0_0 = 10.0\n",
    "\n",
    "evals, evecs = pSweep_1D( fsys_300, params, pzMin, pzMax, pCount=pzCount, yORzSweep = 'pzSweep')\n",
    "plt = spectrum_plot_1D(evals,pzMin,pzMax,pzCount, ShowPlot = False)\n",
    "plt.xlabel('$p^z \\; [a^{-1}]$')\n",
    "plt.ylim(-0.5, 0.5)\n",
    "plt.savefig('images/WeylCones_BBLSet2_DeformedBoundary.eps')\n",
    "plt.show()\n",
    "\n",
    "del fsys_300, params, evals, evecs"
   ]
  },
  {
   "cell_type": "markdown",
   "metadata": {},
   "source": [
    "### Extraction of the velocity for $p^z$ around a Weyl node"
   ]
  },
  {
   "cell_type": "code",
   "execution_count": 9,
   "metadata": {
    "collapsed": false
   },
   "outputs": [
    {
     "name": "stdout",
     "output_type": "stream",
     "text": [
      "[ 0.04809845  0.04888322  0.04966799  0.05045276] while the expected Weyl-node energy is 0.049189807\n",
      "[ 0.0457664   0.07119143  0.08269885  0.08272656  0.08277269  0.08283716]\n",
      "0.44003245999999996\n",
      "-0.06846814000000007\n"
     ]
    }
   ],
   "source": [
    "fsys_finerResolution = diagonalizer.FinalizedSystem_1D(8000)\n",
    "params = copy(ParametersDefault)\n",
    "params.Rescale_b0_0 = 10.0\n",
    "# params.Rescale_onsite0 = 3.\n",
    "# params.Rescale_onsite1 = 3.\n",
    "\n",
    "params.pz = params.pzNode2\n",
    "params.FermiEnergy = params.EnergyNode2\n",
    "params.EigenvectorsCount = 4\n",
    "evals, evecs = diagonalize_1D(fsys_finerResolution,params)\n",
    "print(evals, 'while the expected Weyl-node energy is', params.EnergyNode2)\n",
    "\n",
    "\n",
    "params.pz = params.pzNode2 + 0.05\n",
    "params.FermiEnergy = params.EnergyNode2\n",
    "params.EigenvectorsCount = 6\n",
    "evals, evecs = diagonalize_1D(fsys_finerResolution,params)\n",
    "print(evals)\n",
    "\n",
    "\n",
    "#The extraction of the FA spectrum is made manually so far\n",
    "print((0.07119143 - params.EnergyNode2)/0.05)\n",
    "print((0.0457664 - params.EnergyNode2)/0.05)\n",
    "\n",
    "\n",
    "del fsys_finerResolution, params, evals, evecs"
   ]
  },
  {
   "cell_type": "markdown",
   "metadata": {},
   "source": [
    "### Extraction of the velocity for $p^z$ that is just in between the Weyl nodes"
   ]
  },
  {
   "cell_type": "code",
   "execution_count": 16,
   "metadata": {
    "collapsed": false
   },
   "outputs": [],
   "source": [
    "# params = copy(ParametersDefault)\n",
    "# params.Rescale_b0_0 = 10.0\n",
    "\n",
    "#If I make 8000 sites instead of 6000, the numerical error appears somehow \n",
    "# fsys_finerResolution = diagonalizer.FinalizedSystem_1D(6000)\n",
    "# params.pz = 0.\n",
    "# params.FermiEnergy = 0.\n",
    "# params.EigenvectorsCount = 4\n",
    "# evals, evecs = diagonalize_1D(fsys_finerResolution,params)\n",
    "# print(evals)\n",
    "\n",
    "\n",
    "# fsys_finerResolution = diagonalizer.FinalizedSystem_1D(8000)\n",
    "# params.pz = 0.05\n",
    "# params.FermiEnergy = 0.\n",
    "# params.EigenvectorsCount = 6\n",
    "# evals, evecs = diagonalize_1D(fsys_finerResolution,params)\n",
    "# print(evals)\n",
    "\n",
    "\n",
    "#The extraction of the FA spectrum is made manually so far\n",
    "# print((-0.00416493)/0.05)\n",
    "# print((-0.02400524)/0.05)\n",
    "\n",
    "\n",
    "# del fsys_finerResolution, params, evals, evecs"
   ]
  },
  {
   "cell_type": "markdown",
   "metadata": {},
   "source": [
    "### The FA spectrum is still odd wrt $(p^z,p^y) \\to (-p^z,-p^y)$"
   ]
  },
  {
   "cell_type": "code",
   "execution_count": 14,
   "metadata": {
    "collapsed": false
   },
   "outputs": [
    {
     "name": "stdout",
     "output_type": "stream",
     "text": [
      "[-0.11616643  0.00146127  0.24521127  0.2454339   0.24580454  0.24632256\n",
      "  0.24698711  0.2477971   0.24875121  0.2498479 ]\n",
      "[-0.2498479  -0.24875121 -0.2477971  -0.24698711 -0.24632256 -0.24580454\n",
      " -0.2454339  -0.24521127 -0.00146127  0.11616643]\n"
     ]
    }
   ],
   "source": [
    "fsys_finerResolution = diagonalizer.FinalizedSystem_1D(1000)\n",
    "\n",
    "params = copy(ParametersDefault)\n",
    "params.Rescale_b0_0 = 10.0\n",
    "# params.Rescale_onsite0 = 3.\n",
    "# params.Rescale_onsite1 = 3.\n",
    "\n",
    "\n",
    "params.EigenvectorsCount = 10\n",
    "params.FermiEnergy = -0.0\n",
    "params.pz = 0.2\n",
    "params.py = 0.05\n",
    "evals, evecs = diagonalize_1D(fsys_finerResolution,params)\n",
    "print(evals)\n",
    "\n",
    "params.EigenvectorsCount = 10\n",
    "params.FermiEnergy = 0.0\n",
    "params.pz = -0.2\n",
    "params.py = -0.05\n",
    "evals, evecs = diagonalize_1D(fsys_finerResolution,params)\n",
    "print(evals)\n",
    "\n",
    "\n",
    "del fsys_finerResolution, params, evals, evecs"
   ]
  },
  {
   "cell_type": "markdown",
   "metadata": {},
   "source": [
    "### But the deformed FA spectrum is no longer separable!"
   ]
  },
  {
   "cell_type": "code",
   "execution_count": 18,
   "metadata": {
    "collapsed": false
   },
   "outputs": [
    {
     "name": "stdout",
     "output_type": "stream",
     "text": [
      "[-0.26914429 -0.26913068  0.00831945  0.04710528]\n",
      "[-0.31325681 -0.31324435 -0.09961066  0.08440131  0.31324435  0.31325682]\n",
      "[-0.28727759 -0.28721363 -0.28715818 -0.28711126 -0.28707286 -0.28704299\n",
      " -0.28702165 -0.28700885 -0.0912912   0.13218837]\n",
      "-0.09129121\n",
      "[-0.0912912   0.13218837  0.31880747  0.31882036  0.31884183  0.31887188\n",
      "  0.31891052  0.31895773  0.31901352  0.31907789]\n",
      "0.13150658999999998\n"
     ]
    }
   ],
   "source": [
    "fsys_finerResolution = diagonalizer.FinalizedSystem_1D(4000)\n",
    "\n",
    "params = copy(ParametersDefault)\n",
    "params.Rescale_b0_0 = 10.0\n",
    "# params.Rescale_onsite0 = 3.\n",
    "# params.Rescale_onsite1 = 3.\n",
    "\n",
    "params.EigenvectorsCount = 4\n",
    "params.FermiEnergy = 0.\n",
    "params.pz = -0.1\n",
    "params.py = 0.\n",
    "evals, evecs = diagonalize_1D(fsys_finerResolution,params)\n",
    "print(evals)\n",
    "\n",
    "params.EigenvectorsCount = 6\n",
    "params.FermiEnergy = 0.\n",
    "params.pz = 0.\n",
    "params.py = 0.05\n",
    "evals, evecs = diagonalize_1D(fsys_finerResolution,params)\n",
    "print(evals)\n",
    "\n",
    "params.EigenvectorsCount = 10\n",
    "params.FermiEnergy = -0.05\n",
    "params.pz = -0.1\n",
    "params.py = 0.05\n",
    "evals, evecs = diagonalize_1D(fsys_finerResolution,params)\n",
    "print(evals)\n",
    "print(0.00831945 - 0.09961066)\n",
    "\n",
    "params.EigenvectorsCount = 10\n",
    "params.FermiEnergy = 0.05\n",
    "params.pz = -0.1\n",
    "params.py = 0.05\n",
    "evals, evecs = diagonalize_1D(fsys_finerResolution,params)\n",
    "print(evals)\n",
    "print(0.04710528 + 0.08440131)\n",
    "\n",
    "\n",
    "del params, evals, evecs"
   ]
  },
  {
   "cell_type": "markdown",
   "metadata": {},
   "source": [
    "### Let us find several valus of FA energy, in order to interpolate it in Mathematica"
   ]
  },
  {
   "cell_type": "code",
   "execution_count": 19,
   "metadata": {
    "collapsed": false
   },
   "outputs": [],
   "source": [
    "# fsys_finerResolution = diagonalizer.FinalizedSystem_1D(6000)\n",
    "\n",
    "# params = copy(ParametersDefault)\n",
    "# params.Rescale_b0_0 = 10.0\n",
    "# params.EigenvectorsCount = 6\n",
    "# params.py = 0.\n",
    "\n",
    "\n",
    "# params.FermiEnergy = 0.\n",
    "# params.pz = -0.001\n",
    "# evals, evecs = diagonalize_1D(fsys_finerResolution,params)\n",
    "# print(evals)\n",
    "\n",
    "# params.FermiEnergy = 0.01\n",
    "# params.pz = -0.1\n",
    "# evals, evecs = diagonalize_1D(fsys_finerResolution,params)\n",
    "# print(evals)\n",
    "\n",
    "# params.FermiEnergy = 0.01\n",
    "# params.pz = -0.2\n",
    "# evals, evecs = diagonalize_1D(fsys_finerResolution,params)\n",
    "# print(evals)\n",
    "\n",
    "# params.FermiEnergy = 0.01\n",
    "# params.pz = -0.3\n",
    "# evals, evecs = diagonalize_1D(fsys_finerResolution,params)\n",
    "# print(evals)\n",
    "\n",
    "# params.FermiEnergy = 0.01\n",
    "# params.pz = -0.4\n",
    "# evals, evecs = diagonalize_1D(fsys_finerResolution,params)\n",
    "# print(evals)\n",
    "\n",
    "# params.FermiEnergy = 0.01\n",
    "# params.pz = -0.5\n",
    "# evals, evecs = diagonalize_1D(fsys_finerResolution,params)\n",
    "# print(evals)\n",
    "\n",
    "# params.FermiEnergy = 0.05\n",
    "# params.pz = -0.6\n",
    "# evals, evecs = diagonalize_1D(fsys_finerResolution,params)\n",
    "# print(evals)\n",
    "\n",
    "# params.FermiEnergy = 0.05\n",
    "# params.pz = -0.61\n",
    "# evals, evecs = diagonalize_1D(fsys_finerResolution,params)\n",
    "# print(evals)\n",
    "\n",
    "# params.FermiEnergy = 0.049\n",
    "# params.pz = -0.62\n",
    "# evals, evecs = diagonalize_1D(fsys_finerResolution,params)\n",
    "# print(evals)\n",
    "\n",
    "\n",
    "#Energy at an extra point, in order to check the validity of the interpolation\n",
    "# params.FermiEnergy = 0.05\n",
    "# params.py = -0.02\n",
    "# params.pz = -0.6\n",
    "# evals, evecs = diagonalize_1D(fsys_finerResolution,params)\n",
    "# print(evals)\n",
    "\n",
    "# del fsys_finerResolution, params, evals, evecs"
   ]
  },
  {
   "cell_type": "markdown",
   "metadata": {},
   "source": [
    "### Fermi velocity along z around the Weyl node is significantly different from its $p^y=0$ value!"
   ]
  },
  {
   "cell_type": "code",
   "execution_count": 20,
   "metadata": {
    "collapsed": false
   },
   "outputs": [],
   "source": [
    "# params.FermiEnergy = 0.05\n",
    "# params.py = -0.024\n",
    "\n",
    "# params.pz = -0.6\n",
    "# evals, evecs = diagonalize_1D(fsys_finerResolution,params)\n",
    "# print(evals)\n",
    "\n",
    "# params.pz = -0.55\n",
    "# evals, evecs = diagonalize_1D(fsys_finerResolution,params)\n",
    "# print(evals)\n",
    "\n",
    "# (0.09138572-0.09488199)/0.05"
   ]
  },
  {
   "cell_type": "markdown",
   "metadata": {},
   "source": [
    "# Now, let us turn the magnetic field"
   ]
  },
  {
   "cell_type": "markdown",
   "metadata": {},
   "source": [
    "## Original boundary"
   ]
  },
  {
   "cell_type": "code",
   "execution_count": 28,
   "metadata": {
    "collapsed": false
   },
   "outputs": [
    {
     "data": {
      "image/png": "[encoded data removed]",
      "text/plain": [
       "<matplotlib.figure.Figure at 0x7f1835fdcb00>"
      ]
     },
     "metadata": {},
     "output_type": "display_data"
    }
   ],
   "source": [
    "fsys_300 = diagonalizer.FinalizedSystem_1D(300)\n",
    "params = copy(ParametersDefault)\n",
    "params.lBinv2 = 1. / 30.**2\n",
    "params.x_shift= (300 - 1.)/2.\n",
    "\n",
    "evals, evecs = pSweep_1D(fsys_300, params, pzMin, pzMax, pCount=pzCount, yORzSweep = 'pzSweep')\n",
    "plt = spectrum_plot_1D(evals,pzMin,pzMax,pzCount, ShowPlot = False)\n",
    "plt.xlabel('$p^z \\; [a^{-1}]$')\n",
    "plt.ylim(-0.5, 0.5)\n",
    "plt.savefig('images/WeylCones_BBLSet2_lB30.eps')\n",
    "plt.show()\n",
    "\n",
    "del fsys_300, params, evals, evecs"
   ]
  },
  {
   "cell_type": "code",
   "execution_count": 13,
   "metadata": {
    "collapsed": true
   },
   "outputs": [],
   "source": [
    "pzStart = -0.560\n",
    "pzEnd = 0.703\n",
    "\n",
    "params = copy(ParametersDefault)\n",
    "params.lBinv2 = 1. / 50.**2\n",
    "params.x_shift= (800 - 1.)/2."
   ]
  },
  {
   "cell_type": "code",
   "execution_count": 5,
   "metadata": {
    "collapsed": false
   },
   "outputs": [
    {
     "name": "stdout",
     "output_type": "stream",
     "text": [
      "      converged: True\n",
      "           flag: 'converged'\n",
      " function_calls: 13\n",
      "     iterations: 12\n",
      "           root: 0.11813050313717802\n",
      "Energy = -1.20322745432e-06\n",
      "Velocity calculated by approximate differentiation is 123.614226907\n",
      "{-0.56,-0.680802070898},      converged: True\n",
      "           flag: 'converged'\n",
      " function_calls: 4\n",
      "     iterations: 3\n",
      "           root: 0.1492460225352469\n",
      "Energy = -2.51740214309e-05\n",
      "Velocity calculated by approximate differentiation is -0.112275345609\n",
      "{-0.24425000000000008,-0.0870889014595},      converged: True\n",
      "           flag: 'converged'\n",
      " function_calls: 4\n",
      "     iterations: 3\n",
      "           root: 0.16264881190897212\n",
      "Energy = -1.34671770611e-05\n",
      "Velocity calculated by approximate differentiation is -0.0952797366921\n",
      "{0.0714999999999999,-0.0817999802882},      converged: True\n",
      "           flag: 'converged'\n",
      " function_calls: 4\n",
      "     iterations: 3\n",
      "           root: 0.17436619756978425\n",
      "Energy = 4.96897404308e-06\n",
      "Velocity calculated by approximate differentiation is -0.0535166072487\n",
      "{0.38724999999999987,-0.0583887039695},      converged: True\n",
      "           flag: 'converged'\n",
      " function_calls: 12\n",
      "     iterations: 11\n",
      "           root: 0.11985942585143006\n",
      "Energy = 4.11663224974e-07\n",
      "Velocity calculated by approximate differentiation is 0.690448697691\n",
      "{0.7029999999999998,0.690117598414},"
     ]
    }
   ],
   "source": [
    "GridNumber = 5\n",
    "for i in range(GridNumber):\n",
    "    params.pz = pzStart + i * (pzEnd - pzStart) / (GridNumber-1)\n",
    "    velocityCash = FermiVelocityZQL(fsys_1D, params, pyGuess = 0.2, pyGuess2 = 0.1, debug = True)\n",
    "    print('{', params.pz, ',', velocityCash,sep='',end='},')\n",
    "\n",
    "# del params, GridNumber, velocityCash"
   ]
  },
  {
   "cell_type": "code",
   "execution_count": 6,
   "metadata": {
    "collapsed": false
   },
   "outputs": [
    {
     "name": "stdout",
     "output_type": "stream",
     "text": [
      "{-0.56,-0.681338566624},{-0.5276153846153847,-0.234626503097},{-0.4952307692307693,-0.149140693231},{-0.4628461538461539,-0.119774138583},{-0.43046153846153856,-0.105933213317},{-0.3980769230769231,-0.0983516176835},{-0.36569230769230776,-0.0938297807666},{-0.3333076923076924,-0.0909726058005},{-0.300923076923077,-0.0890944923712},{-0.2685384615384616,-0.0878165761618},{-0.23615384615384621,-0.0869149710565},{-0.20376923076923087,-0.0862492085952},{-0.17138461538461547,-0.0857264576548},{-0.13900000000000012,-0.0852823230201},{-0.10661538461538472,-0.0848699269768},{-0.07423076923076927,-0.0844533787212},{-0.04184615384615398,-0.0840036701721},{-0.009461538461538632,-0.0834959443419},{0.022923076923076824,-0.0829075284607},{0.05530769230769228,-0.0822163462505},{0.08769230769230763,-0.0813994265259},{0.12007692307692297,-0.0804312530745},{0.15246153846153832,-0.0792816661048},{0.18484615384615377,-0.0779129172683},{0.21723076923076912,-0.0762752589502},{0.24961538461538446,-0.0743000273609},{0.2819999999999998,-0.0718883787994},{0.31438461538461526,-0.0688922895687},{0.3467692307692306,-0.0650813628219},{0.37915384615384595,-0.0600828077771},{0.4115384615384615,-0.0532695391537},{0.44392307692307686,-0.0435475698277},{0.4763076923076921,-0.0289560864836},{0.5086923076923076,-0.00597158866607},{0.5410769230769228,0.0314521160913},{0.5734615384615385,0.0923397142299},{0.6058461538461537,0.186991158529},{0.6382307692307689,0.322265528526},{0.6706153846153846,0.496233456434},{0.7029999999999998,0.689956229764},"
     ]
    }
   ],
   "source": [
    "GridNumber = 40\n",
    "for i in range(GridNumber):\n",
    "    params.pz = pzStart + i * (pzEnd - pzStart) / (GridNumber-1)\n",
    "    velocityCash = FermiVelocityZQL(fsys_1D, params, pyGuess = 0.2, pyGuess2 = 0.1)\n",
    "    print('{', params.pz, ',', velocityCash,sep='',end='},')"
   ]
  },
  {
   "cell_type": "markdown",
   "metadata": {},
   "source": [
    "## Several additional points, in order to make the approximation better"
   ]
  },
  {
   "cell_type": "code",
   "execution_count": 15,
   "metadata": {
    "collapsed": false
   },
   "outputs": [
    {
     "name": "stdout",
     "output_type": "stream",
     "text": [
      "{-0.553523076923077,-0.532383482466},{-0.5470461538461538,-0.409647923916},{-0.5405692307692308,-0.327422487127},{-0.5340923076923078,-0.272678583942},{-0.511423076923077,-0.178738632587},"
     ]
    }
   ],
   "source": [
    "GridNumber = 40\n",
    "\n",
    "params.pz = pzStart + 0.2 * (pzEnd - pzStart) / (GridNumber-1)\n",
    "velocityCash = FermiVelocityZQL(fsys_1D, params, pyGuess = 0.2, pyGuess2 = 0.08)\n",
    "print('{', params.pz, ',', velocityCash,sep='',end='},')\n",
    "\n",
    "params.pz = pzStart + 0.4 * (pzEnd - pzStart) / (GridNumber-1)\n",
    "velocityCash = FermiVelocityZQL(fsys_1D, params, pyGuess = 0.2, pyGuess2 = 0.08)\n",
    "print('{', params.pz, ',', velocityCash,sep='',end='},')\n",
    "\n",
    "params.pz = pzStart + 0.6 * (pzEnd - pzStart) / (GridNumber-1)\n",
    "velocityCash = FermiVelocityZQL(fsys_1D, params, pyGuess = 0.2, pyGuess2 = 0.08)\n",
    "print('{', params.pz, ',', velocityCash,sep='',end='},')\n",
    "\n",
    "params.pz = pzStart + 0.8 * (pzEnd - pzStart) / (GridNumber-1)\n",
    "velocityCash = FermiVelocityZQL(fsys_1D, params, pyGuess = 0.2, pyGuess2 = 0.08)\n",
    "print('{', params.pz, ',', velocityCash,sep='',end='},')\n",
    "\n",
    "params.pz = pzStart + 1.5 * (pzEnd - pzStart) / (GridNumber-1)\n",
    "velocityCash = FermiVelocityZQL(fsys_1D, params, pyGuess = 0.2, pyGuess2 = 0.08)\n",
    "print('{', params.pz, ',', velocityCash,sep='',end='},')\n",
    "\n",
    "del params, pzStart, pzEnd, GridNumber, velocityCash"
   ]
  },
  {
   "cell_type": "markdown",
   "metadata": {},
   "source": [
    "## Deformed boundary"
   ]
  },
  {
   "cell_type": "code",
   "execution_count": 17,
   "metadata": {
    "collapsed": false
   },
   "outputs": [
    {
     "name": "stdout",
     "output_type": "stream",
     "text": [
      "      converged: True\n",
      "           flag: 'converged'\n",
      " function_calls: 14\n",
      "     iterations: 13\n",
      "           root: 0.10570780805069095\n",
      "Energy = -6.31733475439e-06\n",
      "Velocity calculated by approximate differentiation is -0.546765354724\n",
      "{-0.56,-0.503474847397},      converged: True\n",
      "           flag: 'converged'\n",
      " function_calls: 5\n",
      "     iterations: 4\n",
      "           root: 0.10336331824751809\n",
      "Energy = 2.88364063517e-07\n",
      "Velocity calculated by approximate differentiation is -0.244512743772\n",
      "{-0.24425000000000008,-0.24558868023},      converged: True\n",
      "           flag: 'converged'\n",
      " function_calls: 5\n",
      "     iterations: 4\n",
      "           root: 0.17969068217489703\n",
      "Energy = -3.37665846214e-06\n",
      "Velocity calculated by approximate differentiation is -0.459967665475\n",
      "{0.0714999999999999,-0.456284977921},      converged: True\n",
      "           flag: 'converged'\n",
      " function_calls: 5\n",
      "     iterations: 4\n",
      "           root: 0.2240780241858078\n",
      "Energy = -1.70969746617e-05\n",
      "Velocity calculated by approximate differentiation is 0.00358894968184\n",
      "{0.38724999999999987,0.0216012380113},      converged: True\n",
      "           flag: 'converged'\n",
      " function_calls: 10\n",
      "     iterations: 9\n",
      "           root: 0.12392609469257138\n",
      "Energy = 1.60437889209e-07\n",
      "Velocity calculated by approximate differentiation is 0.690669500346\n",
      "{0.7029999999999998,0.690585540036},"
     ]
    }
   ],
   "source": [
    "pzStart = -0.560\n",
    "pzEnd = 0.703\n",
    "\n",
    "params = copy(ParametersDefault)\n",
    "params.Rescale_b0_0 = 10.0\n",
    "params.lBinv2 = 1. / 50.**2\n",
    "\n",
    "\n",
    "GridNumber = 5\n",
    "for i in range(GridNumber):\n",
    "    params.pz = pzStart + i * (pzEnd - pzStart) / (GridNumber-1)\n",
    "    velocityCash = FermiVelocityZQL(fsys_1D, params, pyGuess = 0.25, pyGuess2 = 0.08, debug = True)\n",
    "    print('{', params.pz, ',', velocityCash,sep='',end='},')\n",
    "\n",
    "# del params, GridNumber, velocityCash"
   ]
  },
  {
   "cell_type": "code",
   "execution_count": 20,
   "metadata": {
    "collapsed": false
   },
   "outputs": [
    {
     "name": "stdout",
     "output_type": "stream",
     "text": [
      "{-0.56,-0.571315138712},{-0.5276153846153847,0.223498493445},{-0.4952307692307693,0.1812854119},{-0.4628461538461539,0.131237625162},{-0.43046153846153856,0.0777251680917},{-0.3980769230769231,0.0222296232771},{-0.36569230769230776,-0.034371590265},{-0.3333076923076924,-0.0913463217061},{-0.300923076923077,-0.147993366687},{-0.2685384615384616,-0.203559025806},{-0.23615384615384621,-0.257186900761},{-0.20376923076923087,-0.307895507704},{-0.17138461538461547,-0.354563551456},{-0.13900000000000012,-0.395940192046},{-0.10661538461538472,-0.430691001848},{-0.07423076923076927,-0.457490373097},{-0.04184615384615398,-0.475160235252},{-0.009461538461538632,-0.4828333167},{0.022923076923076824,-0.480100827673},{0.05530769230769228,-0.46708277039},{0.08769230769230763,-0.444407003963},{0.12007692307692297,-0.413090687646},{0.15246153846153832,-0.374379731514},{0.18484615384615377,-0.329592348681},{0.21723076923076912,-0.279999672678},{0.24961538461538446,-0.226765776316},{0.2819999999999998,-0.170866496314},{0.31438461538461526,-0.113177968914},{0.3467692307692306,-0.0543941008538},{0.37915384615384595,0.00491566324136},{0.4115384615384615,0.0643074297794},{0.44392307692307686,0.123423025766},{0.4763076923076921,0.182133692344},{0.5086923076923076,0.240406589946},{0.5410769230769228,0.298575112983},{0.5734615384615385,0.357531038958},{0.6058461538461537,0.419611656287},{0.6382307692307689,0.489340590048},{0.6706153846153846,0.576349472296},{0.7029999999999998,0.690432373679},"
     ]
    }
   ],
   "source": [
    "pzStart = -0.560\n",
    "pzEnd = 0.703\n",
    "\n",
    "params = copy(ParametersDefault)\n",
    "params.Rescale_b0_0 = 10.0\n",
    "params.lBinv2 = 1. / 50.**2\n",
    "\n",
    "GridNumber = 40\n",
    "for i in range(GridNumber):\n",
    "    params.pz = pzStart + i * (pzEnd - pzStart) / (GridNumber-1)\n",
    "    velocityCash = FermiVelocityZQL(fsys_1D, params, pyGuess = 0.25, pyGuess2 = 0.08)\n",
    "    print('{', params.pz, ',', velocityCash,sep='',end='},')"
   ]
  },
  {
   "cell_type": "code",
   "execution_count": 21,
   "metadata": {
    "collapsed": false
   },
   "outputs": [
    {
     "name": "stdout",
     "output_type": "stream",
     "text": [
      "{-0.553523076923077,0.177754842194},{-0.5470461538461538,0.22713957709},{-0.5405692307692308,0.232375212466},{-0.5340923076923078,0.229352021418},{-0.511423076923077,0.204017420553},"
     ]
    }
   ],
   "source": [
    "GridNumber = 40\n",
    "\n",
    "params.pz = pzStart + 0.2 * (pzEnd - pzStart) / (GridNumber-1)\n",
    "velocityCash = FermiVelocityZQL(fsys_1D, params, pyGuess = 0.25, pyGuess2 = 0.08)\n",
    "print('{', params.pz, ',', velocityCash,sep='',end='},')\n",
    "\n",
    "params.pz = pzStart + 0.4 * (pzEnd - pzStart) / (GridNumber-1)\n",
    "velocityCash = FermiVelocityZQL(fsys_1D, params, pyGuess = 0.25, pyGuess2 = 0.08)\n",
    "print('{', params.pz, ',', velocityCash,sep='',end='},')\n",
    "\n",
    "params.pz = pzStart + 0.6 * (pzEnd - pzStart) / (GridNumber-1)\n",
    "velocityCash = FermiVelocityZQL(fsys_1D, params, pyGuess = 0.25, pyGuess2 = 0.08)\n",
    "print('{', params.pz, ',', velocityCash,sep='',end='},')\n",
    "\n",
    "params.pz = pzStart + 0.8 * (pzEnd - pzStart) / (GridNumber-1)\n",
    "velocityCash = FermiVelocityZQL(fsys_1D, params, pyGuess = 0.25, pyGuess2 = 0.08)\n",
    "print('{', params.pz, ',', velocityCash,sep='',end='},')\n",
    "\n",
    "params.pz = pzStart + 1.5 * (pzEnd - pzStart) / (GridNumber-1)\n",
    "velocityCash = FermiVelocityZQL(fsys_1D, params, pyGuess = 0.25, pyGuess2 = 0.08)\n",
    "print('{', params.pz, ',', velocityCash,sep='',end='},')\n",
    "\n",
    "del params, pzStart, pzEnd, GridNumber, velocityCash"
   ]
  },
  {
   "cell_type": "code",
   "execution_count": null,
   "metadata": {
    "collapsed": true
   },
   "outputs": [],
   "source": []
  }
 ],
 "metadata": {
  "anaconda-cloud": {},
  "kernelspec": {
   "display_name": "Python 3",
   "language": "python",
   "name": "python3"
  },
  "language_info": {
   "codemirror_mode": {
    "name": "ipython",
    "version": 3
   },
   "file_extension": ".py",
   "mimetype": "text/x-python",
   "name": "python",
   "nbconvert_exporter": "python",
   "pygments_lexer": "ipython3",
   "version": "3.6.0"
  }
 },
 "nbformat": 4,
 "nbformat_minor": 1
}
