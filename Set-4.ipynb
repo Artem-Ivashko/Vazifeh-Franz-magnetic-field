{
 "cells": [
  {
   "cell_type": "code",
   "execution_count": 1,
   "metadata": {
    "collapsed": false
   },
   "outputs": [],
   "source": [
    "import diagonalizer\n",
    "from diagonalizer import diagonalize_1D, density_plot_1D, pSweep_1D, spectrum_plot_1D, FermiVelocityZQL\n",
    "\n",
    "import numpy as np\n",
    "from numpy import pi\n",
    "from copy import copy\n",
    "# for plotting\n",
    "import matplotlib as mpl\n",
    "from matplotlib import pyplot as plt\n",
    "\n",
    "#Some global and default parameters\n",
    "SitesCount_XDefault = 1000\n",
    "fsys_1D = diagonalizer.FinalizedSystem_1D(SitesCount_XDefault)"
   ]
  },
  {
   "cell_type": "markdown",
   "metadata": {},
   "source": [
    "# Set-4"
   ]
  },
  {
   "cell_type": "code",
   "execution_count": 2,
   "metadata": {
    "collapsed": true
   },
   "outputs": [],
   "source": [
    "ParametersSet4 = diagonalizer.SimpleNamespace( tp=2., t=1., tzp=1., tz=1., M0= 0., FermiEnergy = 0., \\\n",
    "                     betaz=3., b0=0.2, pzNode2 = -1.69329, EnergyNode2 = 0.0661671, \\\n",
    "                     Rescale_hop0 = 1.0, Rescale_onsite0 = 1.0, Rescale_onsite1 = 1.0, \\\n",
    "                     lBinv2=0., x_shift= (SitesCount_XDefault - 1.)/2., \\\n",
    "                     EigenvectorsCount = 50, EnergyPrecision = 10**(-5), WavefunctionComponents = 4, \\\n",
    "                     py = 0., pz = 0. )"
   ]
  },
  {
   "cell_type": "code",
   "execution_count": 4,
   "metadata": {
    "collapsed": false
   },
   "outputs": [
    {
     "name": "stdout",
     "output_type": "stream",
     "text": [
      "pyF = 0.2549006080599639\n",
      "      converged: True\n",
      "           flag: 'converged'\n",
      " function_calls: 12\n",
      "     iterations: 11\n",
      "           root: 0.2549006080599639\n",
      "Energy = -4.57765400325e-07\n",
      "Velocity calculated by approximate differentiation is 170.3913661\n",
      "{-1.59,-0.659823201878},pyF = 0.28924962430437423\n",
      "      converged: True\n",
      "           flag: 'converged'\n",
      " function_calls: 4\n",
      "     iterations: 3\n",
      "           root: 0.28924962430437423\n",
      "Energy = 4.91530562462e-05\n",
      "Velocity calculated by approximate differentiation is 4.01446743966e-06\n",
      "{-0.7475,-0.0491681329775},pyF = 0.3147889420622757\n",
      "      converged: True\n",
      "           flag: 'converged'\n",
      " function_calls: 4\n",
      "     iterations: 3\n",
      "           root: 0.3147889420622757\n",
      "Energy = -3.35012250525e-05\n",
      "Velocity calculated by approximate differentiation is -0.100472662415\n",
      "{0.09499999999999997,-0.0669711830791},pyF = 0.3387689946111496\n",
      "      converged: True\n",
      "           flag: 'converged'\n",
      " function_calls: 4\n",
      "     iterations: 3\n",
      "           root: 0.3387689946111496\n",
      "Energy = -7.5101296261e-06\n",
      "Velocity calculated by approximate differentiation is -0.0449940402332\n",
      "{0.9374999999999998,-0.0374513672974},pyF = 0.290108601656028\n",
      "      converged: True\n",
      "           flag: 'converged'\n",
      " function_calls: 9\n",
      "     iterations: 8\n",
      "           root: 0.290108601656028\n",
      "Energy = 9.70091124039e-07\n",
      "Velocity calculated by approximate differentiation is 0.633738876292\n",
      "{1.78,0.63278786352},"
     ]
    }
   ],
   "source": [
    "params = copy(ParametersSet4)\n",
    "\n",
    "params.lBinv2 = 1. / 40.**2\n",
    "\n",
    "pzStart = -1.59\n",
    "pzEnd = 1.78\n",
    "\n",
    "\n",
    "GridNumber = 5\n",
    "for i in range(GridNumber):\n",
    "    params.pz = pzStart + i * (pzEnd - pzStart) / (GridNumber-1)\n",
    "    velocityCash = FermiVelocityZQL(fsys_1D, params, pyGuess = 0.35, pyGuess2 = 0.23, debug = True)\n",
    "    print('{', params.pz, ',', velocityCash,sep='',end='},')"
   ]
  },
  {
   "cell_type": "code",
   "execution_count": 9,
   "metadata": {
    "collapsed": false
   },
   "outputs": [
    {
     "name": "stdout",
     "output_type": "stream",
     "text": [
      "{-1.59,-0.659670650855},{-1.5035897435897436,-0.0671347767029},{-1.4171794871794872,-0.03621025061},{-1.330769230769231,-0.0301334241031},{-1.2443589743589745,-0.03021805235},{-1.157948717948718,-0.0325416645768},{-1.0715384615384616,-0.0357837578805},{-0.9851282051282052,-0.0393765213692},{-0.8987179487179487,-0.0430326492485},{-0.8123076923076923,-0.0465891446685},{-0.7258974358974359,-0.0499469158461},{-0.6394871794871796,-0.0530452195217},{-0.5530769230769232,-0.0558504076334},{-0.4666666666666668,-0.0583504246455},{-0.3802564102564103,-0.0605499905938},{-0.29384615384615387,-0.06246217345},{-0.2074358974358974,-0.0640936884434},{-0.12102564102564117,-0.0654254899654},{-0.03461538461538449,-0.0663983630146},{0.051794871794871744,-0.0669166734522},{0.1382051282051282,-0.0668745168531},{0.22461538461538444,-0.0661905490523},{0.3110256410256409,-0.0648298550868},{0.3974358974358976,-0.062802910909},{0.4838461538461536,-0.0601489405653},{0.57025641025641,-0.0569168833652},{0.6566666666666665,-0.0531517891301},{0.7430769230769234,-0.0488871925932},{0.8294871794871794,-0.0441402230668},{0.9158974358974359,-0.0389052160287},{1.0023076923076923,-0.0331406778555},{1.0887179487179488,-0.0267405785892},{1.1751282051282053,-0.0194684463502},{1.2615384615384617,-0.0107937279995},{1.3479487179487177,0.00056317907664},{1.4343589743589742,0.0180763416592},{1.520769230769231,0.0524614727146},{1.607179487179487,0.13623923386},{1.6935897435897436,0.328291508722},{1.78,0.63274856487},"
     ]
    }
   ],
   "source": [
    "GridNumber = 40\n",
    "for i in range(GridNumber):\n",
    "    params.pz = pzStart + i * (pzEnd - pzStart) / (GridNumber-1)\n",
    "    velocityCash = FermiVelocityZQL(fsys_1D, params, pyGuess = 0.35, pyGuess2 = 0.23)\n",
    "    print('{', params.pz, ',', velocityCash,sep='',end='},')"
   ]
  },
  {
   "cell_type": "markdown",
   "metadata": {},
   "source": [
    "## Several additional points, in order to make the approximation better"
   ]
  },
  {
   "cell_type": "code",
   "execution_count": 8,
   "metadata": {
    "collapsed": false
   },
   "outputs": [
    {
     "name": "stdout",
     "output_type": "stream",
     "text": [
      "{-1.5727179487179488,-0.303000314881},{-1.5554358974358975,-0.167211394606},{-1.5381538461538462,-0.112458609859},{-1.520871794871795,-0.0840789668997},{-1.4603846153846154,-0.0455343568806},"
     ]
    }
   ],
   "source": [
    "params.pz = pzStart + 0.2 * (pzEnd - pzStart) / (GridNumber-1)\n",
    "velocityCash = FermiVelocityZQL(fsys_1D, params, pyGuess = 0.28, pyGuess2 = 0.24)\n",
    "print('{', params.pz, ',', velocityCash,sep='',end='},')\n",
    "\n",
    "params.pz = pzStart + 0.4 * (pzEnd - pzStart) / (GridNumber-1)\n",
    "velocityCash = FermiVelocityZQL(fsys_1D, params, pyGuess = 0.28, pyGuess2 = 0.24)\n",
    "print('{', params.pz, ',', velocityCash,sep='',end='},')\n",
    "\n",
    "params.pz = pzStart + 0.6 * (pzEnd - pzStart) / (GridNumber-1)\n",
    "velocityCash = FermiVelocityZQL(fsys_1D, params, pyGuess = 0.28, pyGuess2 = 0.24)\n",
    "print('{', params.pz, ',', velocityCash,sep='',end='},')\n",
    "\n",
    "params.pz = pzStart + 0.8 * (pzEnd - pzStart) / (GridNumber-1)\n",
    "velocityCash = FermiVelocityZQL(fsys_1D, params, pyGuess = 0.28, pyGuess2 = 0.24)\n",
    "print('{', params.pz, ',', velocityCash,sep='',end='},')\n",
    "\n",
    "params.pz = pzStart + 1.5 * (pzEnd - pzStart) / (GridNumber-1)\n",
    "velocityCash = FermiVelocityZQL(fsys_1D, params, pyGuess = 0.28, pyGuess2 = 0.24)\n",
    "print('{', params.pz, ',', velocityCash,sep='',end='},')"
   ]
  },
  {
   "cell_type": "markdown",
   "metadata": {
    "collapsed": true
   },
   "source": [
    "## FA spectrum is additively separable (for the non-deformed boundary)"
   ]
  },
  {
   "cell_type": "code",
   "execution_count": 10,
   "metadata": {
    "collapsed": false
   },
   "outputs": [
    {
     "name": "stdout",
     "output_type": "stream",
     "text": [
      "[-0.55414988 -0.55403861  0.01970135  0.01970135]\n",
      "[-0.51362905 -0.09973596  0.09973596  0.51359171]\n",
      "[-0.56418814 -0.56394363 -0.08003461  0.11943731]\n",
      "0.11943730999999999\n"
     ]
    }
   ],
   "source": [
    "params = copy(ParametersSet4)\n",
    "\n",
    "fsys_finerResolution = diagonalizer.FinalizedSystem_1D(1000)\n",
    "params.EigenvectorsCount = 4\n",
    "\n",
    "params.FermiEnergy = 0.\n",
    "params.pz = -0.3\n",
    "params.py = 0.\n",
    "evals, evecs = diagonalize_1D(fsys_finerResolution,params)\n",
    "print(evals)\n",
    "\n",
    "params.FermiEnergy = 0.\n",
    "params.pz = 0.\n",
    "params.py = 0.05\n",
    "evals, evecs = diagonalize_1D(fsys_finerResolution,params)\n",
    "print(evals)\n",
    "\n",
    "params.pz = -0.3\n",
    "params.py = 0.05\n",
    "params.FermiEnergy = -0.1\n",
    "evals, evecs = diagonalize_1D(fsys_finerResolution,params)\n",
    "print(evals)\n",
    "print(0.01970135+0.09973596)"
   ]
  },
  {
   "cell_type": "markdown",
   "metadata": {
    "collapsed": true
   },
   "source": [
    "## Extraction of the FA z-velocity around a Weyl node "
   ]
  },
  {
   "cell_type": "code",
   "execution_count": 24,
   "metadata": {
    "collapsed": false
   },
   "outputs": [
    {
     "name": "stdout",
     "output_type": "stream",
     "text": [
      "[ 0.06521745  0.06584527  0.06647143  0.06709927] while the expected Weyl-node energy is 0.0661671\n",
      "[ 0.00163194  0.00164055  0.0666498   0.0666498 ]\n",
      "[-0.06663813 -0.06663399  0.06646653  0.06646653]\n",
      "-0.0018326999999999927\n"
     ]
    }
   ],
   "source": [
    "fsys_finerResolution = diagonalizer.FinalizedSystem_1D(10000)\n",
    "params = copy(ParametersSet4)\n",
    "\n",
    "params.pz = params.pzNode2\n",
    "params.FermiEnergy = params.EnergyNode2\n",
    "params.EigenvectorsCount = 4\n",
    "evals, evecs = diagonalize_1D(fsys_finerResolution,params)\n",
    "print(evals, 'while the expected Weyl-node energy is', params.EnergyNode2)\n",
    "\n",
    "\n",
    "params.pz = params.pzNode2 + 0.1\n",
    "params.FermiEnergy = params.EnergyNode2\n",
    "params.EigenvectorsCount = 4\n",
    "evals, evecs = diagonalize_1D(fsys_finerResolution,params)\n",
    "print(evals)\n",
    "\n",
    "params.pz = params.pzNode2 + 0.2\n",
    "params.FermiEnergy = params.EnergyNode2\n",
    "params.EigenvectorsCount = 4\n",
    "evals, evecs = diagonalize_1D(fsys_finerResolution,params)\n",
    "print(evals)\n",
    "\n",
    "\n",
    "#The extraction of the FA spectrum is made manually so far\n",
    "print((0.06646653 - 0.0666498)/(0.2-0.1))\n",
    "\n",
    "\n",
    "del fsys_finerResolution, params, evals, evecs"
   ]
  },
  {
   "cell_type": "code",
   "execution_count": null,
   "metadata": {
    "collapsed": true
   },
   "outputs": [],
   "source": []
  }
 ],
 "metadata": {
  "anaconda-cloud": {},
  "kernelspec": {
   "display_name": "Python [default]",
   "language": "python",
   "name": "python3"
  },
  "language_info": {
   "codemirror_mode": {
    "name": "ipython",
    "version": 3
   },
   "file_extension": ".py",
   "mimetype": "text/x-python",
   "name": "python",
   "nbconvert_exporter": "python",
   "pygments_lexer": "ipython3",
   "version": "3.5.2"
  }
 },
 "nbformat": 4,
 "nbformat_minor": 2
}
