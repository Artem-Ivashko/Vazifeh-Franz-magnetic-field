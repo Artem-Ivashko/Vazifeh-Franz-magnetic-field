{
 "cells": [
  {
   "cell_type": "code",
   "execution_count": null,
   "metadata": {
    "collapsed": true
   },
   "outputs": [],
   "source": [
    "fig, (ax11,ax12) = plt.subplots(1,2,sharey=True,figsize=(10,5) )\n",
    "\n",
    "_=ax11.plot(kzs1,ens1,\"k.\")\n",
    "_=ax12.plot(kzs2,ens2,\"k.\")\n",
    "\n",
    "for ax in [ax11,ax12]:\n",
    "    for tl in ax.get_xticklabels():\n",
    "        tl.set_color('k')\n",
    "        tl.set_size( 24 )\n",
    "    for tl in ax.get_yticklabels():\n",
    "        tl.set_color('k')\n",
    "        tl.set_size( 24 )\n",
    "    ax.set_xlim(-1,1)\n",
    "    ax.set_ylim(-.4,.4)\n",
    "    ax.set_xlabel(r'$k_z\\,[a_0^{-1}]$', color='k', fontsize=28)\n",
    "    ax.locator_params(axis='x',nbins=5)\n",
    "    ax.locator_params(axis='y',nbins=5)\n",
    "    \n",
    "ax11.set_ylabel(r'$E\\,[t_0]$', color='k', fontsize=28)\n",
    "\n",
    "ax11.set_title( r'$l_B=\\infty$', fontsize=22)\n",
    "ax12.set_title( r'$l_B=20 a_0$', fontsize=24)\n",
    "\n",
    "_ = fig.text(.5, -.2, r\"$t'=t=2t_0,\\, t_z'=t_z=t_0,\\, M_0=-0.3t_0,\\,$\"\n",
    "               + r\"$\\beta_z=1.2 t_0,\\, b_0=0.2 t_0,\\, \\mu=10^{-4} t_0$\" + \"\\n\"\n",
    "               + r\"$W_{x,WSM}=150, k_y=.01 a_0$\"\n",
    "             , horizontalalignment='center', fontsize=24, transform = ax11.transAxes);\n",
    "\n",
    "fig.tight_layout()\n",
    "#fig.savefig( \"test.pdf\", bbox_inches='tight')"
   ]
  },
  {
   "cell_type": "code",
   "execution_count": null,
   "metadata": {
    "collapsed": true
   },
   "outputs": [],
   "source": []
  }
 ],
 "metadata": {
  "anaconda-cloud": {},
  "kernelspec": {
   "display_name": "Python 3",
   "language": "python",
   "name": "python3"
  },
  "language_info": {
   "codemirror_mode": {
    "name": "ipython",
    "version": 3
   },
   "file_extension": ".py",
   "mimetype": "text/x-python",
   "name": "python",
   "nbconvert_exporter": "python",
   "pygments_lexer": "ipython3",
   "version": "3.6.0"
  }
 },
 "nbformat": 4,
 "nbformat_minor": 1
}
