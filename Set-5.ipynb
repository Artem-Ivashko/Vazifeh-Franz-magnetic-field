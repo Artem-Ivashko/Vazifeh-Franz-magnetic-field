{
 "cells": [
  {
   "cell_type": "markdown",
   "metadata": {},
   "source": [
    "# Set-5"
   ]
  },
  {
   "cell_type": "code",
   "execution_count": 1,
   "metadata": {
    "collapsed": true
   },
   "outputs": [],
   "source": [
    "import diagonalizer\n",
    "from diagonalizer import diagonalize_1D, density_plot_1D, pSweep_1D, spectrum_plot_1D, FermiVelocityZQL\n",
    "\n",
    "import numpy as np\n",
    "from numpy import pi\n",
    "from copy import copy\n",
    "# for plotting\n",
    "import matplotlib as mpl\n",
    "from matplotlib import pyplot as plt\n",
    "\n",
    "#Some global and default parameters\n",
    "SitesCount_XDefault = 1200\n",
    "fsys_1D = diagonalizer.FinalizedSystem_1D(SitesCount_XDefault)"
   ]
  },
  {
   "cell_type": "markdown",
   "metadata": {},
   "source": [
    "## Let us now take set-4 and reduce both $b_0$ and $l_B$, in order to make the effective theory more reliable: do we get better agreement now with the direct integration? (QL still takes place)"
   ]
  },
  {
   "cell_type": "code",
   "execution_count": 2,
   "metadata": {
    "collapsed": false
   },
   "outputs": [],
   "source": [
    "ParametersSet5 = diagonalizer.SimpleNamespace( tp=2., t=1., tzp=1., tz=1., M0= 0., FermiEnergy = 0., \\\n",
    "                     betaz=3., b0=0.1, pzNode2 = -1.6954156, EnergyNode2 = 0.033074835, \\\n",
    "                     Rescale_hop0 = 1.0, Rescale_onsite0 = 1.0, Rescale_onsite1 = 1.0, \\\n",
    "                     lBinv2=0., x_shift= (SitesCount_XDefault - 1.)/2., \\\n",
    "                     EigenvectorsCount = 70, EnergyPrecision = 10**(-5), WavefunctionComponents = 4, \\\n",
    "                     py = 0., pz = 0. )"
   ]
  },
  {
   "cell_type": "code",
   "execution_count": 3,
   "metadata": {
    "collapsed": false
   },
   "outputs": [
    {
     "name": "stdout",
     "output_type": "stream",
     "text": [
      "[ 0.03118236  0.03243814  0.0336939   0.03494967] while the expected Weyl-node energy is 0.033074835\n",
      "[-0.03317782 -0.03314306  0.03332323  0.03332323]\n",
      "[-0.10302637 -0.10300973  0.03323867  0.03323867]\n",
      "-0.0008456000000000435\n"
     ]
    }
   ],
   "source": [
    "fsys_finerResolution = diagonalizer.FinalizedSystem_1D(5000)\n",
    "params = copy(ParametersSet5)\n",
    "\n",
    "params.pz = params.pzNode2\n",
    "params.FermiEnergy = params.EnergyNode2\n",
    "params.EigenvectorsCount = 4\n",
    "evals, evecs = diagonalize_1D(fsys_finerResolution,params)\n",
    "print(evals, 'while the expected Weyl-node energy is', params.EnergyNode2)\n",
    "\n",
    "\n",
    "params.pz = params.pzNode2 + 0.1\n",
    "params.FermiEnergy = params.EnergyNode2\n",
    "params.EigenvectorsCount = 4\n",
    "evals, evecs = diagonalize_1D(fsys_finerResolution,params)\n",
    "print(evals)\n",
    "\n",
    "params.pz = params.pzNode2 + 0.2\n",
    "params.FermiEnergy = params.EnergyNode2\n",
    "params.EigenvectorsCount = 4\n",
    "evals, evecs = diagonalize_1D(fsys_finerResolution,params)\n",
    "print(evals)\n",
    "\n",
    "\n",
    "#The extraction of the FA spectrum is made manually so far\n",
    "print((0.03323867 - 0.03332323)/(0.2-0.1))\n",
    "\n",
    "\n",
    "del fsys_finerResolution, params, evals, evecs"
   ]
  },
  {
   "cell_type": "code",
   "execution_count": 4,
   "metadata": {
    "collapsed": false
   },
   "outputs": [
    {
     "data": {
      "image/png": "[encoded data removed]",
      "text/plain": [
       "<matplotlib.figure.Figure at 0x7fef41c62f60>"
      ]
     },
     "metadata": {},
     "output_type": "display_data"
    }
   ],
   "source": [
    "params = copy(ParametersSet5)\n",
    "params.lBinv2 = 1. / 80.**2\n",
    "\n",
    "evals, evecs = pSweep_1D( fsys_1D, params, -2., -1., pCount=10, yORzSweep = 'pzSweep')\n",
    "spectrum_plot_1D(evals, -2., -1., pCount = 10)"
   ]
  },
  {
   "cell_type": "code",
   "execution_count": 6,
   "metadata": {
    "collapsed": false
   },
   "outputs": [
    {
     "name": "stdout",
     "output_type": "stream",
     "text": [
      "pyF = 0.07101064547908259\n",
      "      converged: True\n",
      "           flag: 'converged'\n",
      " function_calls: 11\n",
      "     iterations: 10\n",
      "           root: 0.07101064547908259\n",
      "Energy = 3.02787778767e-06\n",
      "Index = 43\n",
      "Velocity calculated by differentiation is -0.438371505785\n",
      "{-1.64,-0.43189497275},pyF = 0.08169998707041255\n",
      "      converged: True\n",
      "           flag: 'converged'\n",
      " function_calls: 4\n",
      "     iterations: 3\n",
      "           root: 0.08169998707041255\n",
      "Energy = -5.29822946634e-06\n",
      "Index = 66\n",
      "Velocity calculated by differentiation is -0.028793345447\n",
      "{-0.7949999999999999,-0.023543219789},pyF = 0.09436293232698237\n",
      "      converged: True\n",
      "           flag: 'converged'\n",
      " function_calls: 4\n",
      "     iterations: 3\n",
      "           root: 0.09436293232698237\n",
      "Energy = -1.34453001425e-06\n",
      "Index = 35\n",
      "Velocity calculated by differentiation is -0.0347193122363\n",
      "{0.050000000000000044,-0.0333747504581},pyF = 0.10660653417547654\n",
      "      converged: True\n",
      "           flag: 'converged'\n",
      " function_calls: 4\n",
      "     iterations: 3\n",
      "           root: 0.10660653417547654\n",
      "Energy = 1.15496253035e-06\n",
      "Index = 10\n",
      "Velocity calculated by differentiation is -0.0193190584757\n",
      "{0.8950000000000002,-0.0204597629878},pyF = 0.08214529603226584\n",
      "      converged: True\n",
      "           flag: 'converged'\n",
      " function_calls: 8\n",
      "     iterations: 7\n",
      "           root: 0.08214529603226584\n",
      "Energy = -3.19276378942e-07\n",
      "Index = 27\n",
      "Velocity calculated by differentiation is 0.629971691309\n",
      "{1.74,0.63047364574},"
     ]
    }
   ],
   "source": [
    "params = copy(ParametersSet5)\n",
    "params.lBinv2 = 1. / 80.**2\n",
    "\n",
    "pzStart = -1.64\n",
    "pzEnd = 1.74\n",
    "    \n",
    "GridNumber = 5\n",
    "for i in range(GridNumber):\n",
    "    params.pz = pzStart + i * (pzEnd - pzStart) / (GridNumber-1)\n",
    "    velocityCash = FermiVelocityZQL(fsys_1D, params, pyGuess = 0.12, pyGuess2 = 0.06, debug = True)\n",
    "    print('{', params.pz, ',', velocityCash,sep='',end='},')"
   ]
  },
  {
   "cell_type": "code",
   "execution_count": 9,
   "metadata": {
    "collapsed": false
   },
   "outputs": [
    {
     "name": "stdout",
     "output_type": "stream",
     "text": [
      "{-1.64,-0.450740511315},{-1.5533333333333332,-0.0252354213547},{-1.4666666666666666,-0.0125452023354},{-1.38,-0.0109766985702},{-1.2933333333333332,-0.0119017898582},{-1.2066666666666666,-0.0136531492584},{-1.1199999999999999,-0.0157087664854},{-1.0333333333333332,-0.0178537187215},{-0.9466666666666665,-0.0199805298321},{-0.86,-0.0220268991372},{-0.7733333333333333,-0.0239526697318},{-0.6866666666666665,-0.0257303526717},{-0.5999999999999999,-0.0273410295104},{-0.5133333333333332,-0.0287725376965},{-0.4266666666666665,-0.0300184093598},{-0.3400000000000001,-0.0310764294299},{-0.2533333333333332,-0.0319458362251},{-0.16666666666666652,-0.0326228569687},{-0.08000000000000007,-0.033095927979},{0.006666666666666821,-0.0333437955942},{0.09333333333333327,-0.0333393242356},{0.18000000000000016,-0.0330579761191},{0.26666666666666683,-0.0324858170839},{0.3533333333333333,-0.0316223327641},{0.44000000000000017,-0.0304777747035},{0.5266666666666666,-0.029068159417},{0.6133333333333335,-0.0274109030303},{0.7,-0.0255221298029},{0.7866666666666668,-0.0234151849384},{0.8733333333333333,-0.0210993399596},{0.9599999999999997,-0.0185775368763},{1.0466666666666666,-0.0158415252053},{1.1333333333333335,-0.0128608999484},{1.22,-0.00955662329913},{1.3066666666666669,-0.00572909676552},{1.3933333333333333,-0.000825690663077},{1.4799999999999998,0.0070306858576},{1.5666666666666667,0.0270696582097},{1.6533333333333335,0.133381841369},{1.74,0.630104363345},"
     ]
    }
   ],
   "source": [
    "params = copy(ParametersSet5)\n",
    "params.lBinv2 = 1. / 80.**2\n",
    "\n",
    "pzStart = -1.64\n",
    "pzEnd = 1.74\n",
    "    \n",
    "GridNumber = 40\n",
    "for i in range(GridNumber):\n",
    "    params.pz = pzStart + i * (pzEnd - pzStart) / (GridNumber-1)\n",
    "    velocityCash = FermiVelocityZQL(fsys_1D, params, pyGuess = 0.12, pyGuess2 = 0.06)\n",
    "    print('{', params.pz, ',', velocityCash,sep='',end='},')"
   ]
  },
  {
   "cell_type": "markdown",
   "metadata": {},
   "source": [
    "## Several additional points, in order to make the approximation better"
   ]
  },
  {
   "cell_type": "code",
   "execution_count": 21,
   "metadata": {
    "collapsed": false
   },
   "outputs": [
    {
     "name": "stdout",
     "output_type": "stream",
     "text": [
      "{-1.6226666666666665,-0.132335233088},{-1.6053333333333333,-0.0699991319258},{-1.5879999999999999,-0.0454728220741},{-1.5706666666666667,-0.0327562986728},{-1.5099999999999998,-0.0160694440442},"
     ]
    }
   ],
   "source": [
    "params.pz = pzStart + 0.2 * (pzEnd - pzStart) / (GridNumber-1)\n",
    "velocityCash = FermiVelocityZQL(fsys_1D, params, pyGuess = 0.08, pyGuess2 = 0.07)\n",
    "print('{', params.pz, ',', velocityCash,sep='',end='},')\n",
    "\n",
    "params.pz = pzStart + 0.4 * (pzEnd - pzStart) / (GridNumber-1)\n",
    "velocityCash = FermiVelocityZQL(fsys_1D, params, pyGuess = 0.08, pyGuess2 = 0.07)\n",
    "print('{', params.pz, ',', velocityCash,sep='',end='},')\n",
    "\n",
    "params.pz = pzStart + 0.6 * (pzEnd - pzStart) / (GridNumber-1)\n",
    "velocityCash = FermiVelocityZQL(fsys_1D, params, pyGuess = 0.08, pyGuess2 = 0.07)\n",
    "print('{', params.pz, ',', velocityCash,sep='',end='},')\n",
    "\n",
    "params.pz = pzStart + 0.8 * (pzEnd - pzStart) / (GridNumber-1)\n",
    "velocityCash = FermiVelocityZQL(fsys_1D, params, pyGuess = 0.08, pyGuess2 = 0.07)\n",
    "print('{', params.pz, ',', velocityCash,sep='',end='},')\n",
    "\n",
    "params.pz = pzStart + 1.5 * (pzEnd - pzStart) / (GridNumber-1)\n",
    "velocityCash = FermiVelocityZQL(fsys_1D, params, pyGuess = 0.08, pyGuess2 = 0.07)\n",
    "print('{', params.pz, ',', velocityCash,sep='',end='},')"
   ]
  },
  {
   "cell_type": "markdown",
   "metadata": {},
   "source": [
    "## Increasing the number of lattice sites gives essentially the same result"
   ]
  },
  {
   "cell_type": "code",
   "execution_count": 15,
   "metadata": {
    "collapsed": false
   },
   "outputs": [
    {
     "name": "stdout",
     "output_type": "stream",
     "text": [
      "{-1.5533333333333332,-0.0252343523829},"
     ]
    }
   ],
   "source": [
    "paramsRefine = copy(ParametersSet5)\n",
    "fsys_1DRefine = diagonalizer.FinalizedSystem_1D(2000)\n",
    "paramsRefine.x_shift= (2000 - 1.)/2.\n",
    "paramsRefine.lBinv2 = 1. / 80.**2\n",
    "\n",
    "pzStart = -1.64\n",
    "pzEnd = 1.74\n",
    "    \n",
    "GridNumber = 40\n",
    "paramsRefine.pz = pzStart + 1 * (pzEnd - pzStart) / (GridNumber-1)\n",
    "velocityCash = FermiVelocityZQL(fsys_1DRefine, paramsRefine, pyGuess = 0.16, pyGuess2 = 0.10)\n",
    "print('{', paramsRefine.pz, ',', velocityCash,sep='',end='},')"
   ]
  },
  {
   "cell_type": "code",
   "execution_count": null,
   "metadata": {
    "collapsed": true
   },
   "outputs": [],
   "source": []
  }
 ],
 "metadata": {
  "anaconda-cloud": {},
  "kernelspec": {
   "display_name": "Python 3",
   "language": "python",
   "name": "python3"
  },
  "language_info": {
   "codemirror_mode": {
    "name": "ipython",
    "version": 3
   },
   "file_extension": ".py",
   "mimetype": "text/x-python",
   "name": "python",
   "nbconvert_exporter": "python",
   "pygments_lexer": "ipython3",
   "version": "3.6.0"
  }
 },
 "nbformat": 4,
 "nbformat_minor": 1
}
