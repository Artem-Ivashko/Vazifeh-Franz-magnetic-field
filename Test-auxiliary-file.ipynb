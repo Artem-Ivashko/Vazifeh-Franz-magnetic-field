{
 "cells": [
  {
   "cell_type": "code",
   "execution_count": 7,
   "metadata": {
    "collapsed": false
   },
   "outputs": [
    {
     "name": "stdout",
     "output_type": "stream",
     "text": [
      "pz = -1.2066666666666666\n",
      "Bulk-state LLL energy = -0.155362219573\n",
      "0.407686080641\n",
      "Bulk-state LLL energy = -0.155362219573\n",
      "No energies around the bulk LLL\n",
      "0.0442370050173\n",
      "Bulk-state LLL energy = -0.155362219573\n",
      "No energies around the bulk LLL\n",
      "0.82165309493\n"
     ]
    },
    {
     "data": {
      "image/png": "[encoded data removed]",
      "text/plain": [
       "<matplotlib.figure.Figure at 0x7f67afad2eb8>"
      ]
     },
     "metadata": {},
     "output_type": "display_data"
    },
    {
     "ename": "ValueError",
     "evalue": "f(a) and f(b) must have different signs",
     "output_type": "error",
     "traceback": [
      "\u001b[0;31m---------------------------------------------------------------------------\u001b[0m",
      "\u001b[0;31mValueError\u001b[0m                                Traceback (most recent call last)",
      "\u001b[0;32m<ipython-input-7-c3bfa8caca24>\u001b[0m in \u001b[0;36m<module>\u001b[0;34m()\u001b[0m\n\u001b[1;32m     33\u001b[0m \u001b[0mspectrum_plot_1D\u001b[0m\u001b[0;34m(\u001b[0m\u001b[0mevals\u001b[0m\u001b[0;34m,\u001b[0m \u001b[0;36m0.\u001b[0m\u001b[0;34m,\u001b[0m \u001b[0;36m0.1\u001b[0m\u001b[0;34m,\u001b[0m \u001b[0mpCount\u001b[0m\u001b[0;34m=\u001b[0m\u001b[0;36m10\u001b[0m\u001b[0;34m)\u001b[0m\u001b[0;34m\u001b[0m\u001b[0m\n\u001b[1;32m     34\u001b[0m \u001b[0;34m\u001b[0m\u001b[0m\n\u001b[0;32m---> 35\u001b[0;31m \u001b[0mprint\u001b[0m\u001b[0;34m(\u001b[0m\u001b[0mFermiVelocityZQL\u001b[0m\u001b[0;34m(\u001b[0m\u001b[0mfsys_1D\u001b[0m\u001b[0;34m,\u001b[0m \u001b[0mparams\u001b[0m\u001b[0;34m,\u001b[0m \u001b[0mpyGuess\u001b[0m \u001b[0;34m=\u001b[0m \u001b[0;36m0.5\u001b[0m\u001b[0;34m,\u001b[0m \u001b[0mdebug\u001b[0m \u001b[0;34m=\u001b[0m \u001b[0;32mTrue\u001b[0m\u001b[0;34m)\u001b[0m\u001b[0;34m)\u001b[0m\u001b[0;34m\u001b[0m\u001b[0m\n\u001b[0m",
      "\u001b[0;32m/data1/ivashko/Jupyter/Vazifeh-Franz-magnetic-field/diagonalizer.py\u001b[0m in \u001b[0;36mFermiVelocityZQL\u001b[0;34m(FinalizedSystem, Parameters, BulkZerothLLEnergyNegative, EnergyPrecision, pyGuess, debug)\u001b[0m\n\u001b[1;32m    167\u001b[0m             pyFermi = brentq(ZerothLLEnergyQL, pyGuess, 0., \\\n\u001b[1;32m    168\u001b[0m                             xtol = 10e-5, rtol = 10e-5, args = (FinalizedSystem, p), disp = True)\n\u001b[0;32m--> 169\u001b[0;31m         \u001b[0;32melse\u001b[0m\u001b[0;34m:\u001b[0m\u001b[0;34m\u001b[0m\u001b[0m\n\u001b[0m\u001b[1;32m    170\u001b[0m             pyFermi, full_output = brentq(ZerothLLEnergyQL, pyGuess, 0., \\\n\u001b[1;32m    171\u001b[0m                             xtol = 10e-5, rtol = 10e-5, args = (FinalizedSystem, p), disp = True, full_output = True)\n",
      "\u001b[0;32m/data1/ivashko/anaconda3/lib/python3.5/site-packages/scipy/optimize/zeros.py\u001b[0m in \u001b[0;36mbrentq\u001b[0;34m(f, a, b, args, xtol, rtol, maxiter, full_output, disp)\u001b[0m\n\u001b[1;32m    440\u001b[0m     \u001b[0;32mif\u001b[0m \u001b[0mrtol\u001b[0m \u001b[0;34m<\u001b[0m \u001b[0m_rtol\u001b[0m\u001b[0;34m:\u001b[0m\u001b[0;34m\u001b[0m\u001b[0m\n\u001b[1;32m    441\u001b[0m         \u001b[0;32mraise\u001b[0m \u001b[0mValueError\u001b[0m\u001b[0;34m(\u001b[0m\u001b[0;34m\"rtol too small (%g < %g)\"\u001b[0m \u001b[0;34m%\u001b[0m \u001b[0;34m(\u001b[0m\u001b[0mrtol\u001b[0m\u001b[0;34m,\u001b[0m \u001b[0m_rtol\u001b[0m\u001b[0;34m)\u001b[0m\u001b[0;34m)\u001b[0m\u001b[0;34m\u001b[0m\u001b[0m\n\u001b[0;32m--> 442\u001b[0;31m     \u001b[0mr\u001b[0m \u001b[0;34m=\u001b[0m \u001b[0m_zeros\u001b[0m\u001b[0;34m.\u001b[0m\u001b[0m_brentq\u001b[0m\u001b[0;34m(\u001b[0m\u001b[0mf\u001b[0m\u001b[0;34m,\u001b[0m\u001b[0ma\u001b[0m\u001b[0;34m,\u001b[0m\u001b[0mb\u001b[0m\u001b[0;34m,\u001b[0m\u001b[0mxtol\u001b[0m\u001b[0;34m,\u001b[0m\u001b[0mrtol\u001b[0m\u001b[0;34m,\u001b[0m\u001b[0mmaxiter\u001b[0m\u001b[0;34m,\u001b[0m\u001b[0margs\u001b[0m\u001b[0;34m,\u001b[0m\u001b[0mfull_output\u001b[0m\u001b[0;34m,\u001b[0m\u001b[0mdisp\u001b[0m\u001b[0;34m)\u001b[0m\u001b[0;34m\u001b[0m\u001b[0m\n\u001b[0m\u001b[1;32m    443\u001b[0m     \u001b[0;32mreturn\u001b[0m \u001b[0mresults_c\u001b[0m\u001b[0;34m(\u001b[0m\u001b[0mfull_output\u001b[0m\u001b[0;34m,\u001b[0m \u001b[0mr\u001b[0m\u001b[0;34m)\u001b[0m\u001b[0;34m\u001b[0m\u001b[0m\n\u001b[1;32m    444\u001b[0m \u001b[0;34m\u001b[0m\u001b[0m\n",
      "\u001b[0;31mValueError\u001b[0m: f(a) and f(b) must have different signs"
     ]
    }
   ],
   "source": [
    "import diagonalizer\n",
    "from diagonalizer import diagonalize_1D, density_plot_1D, pSweep_1D, spectrum_plot_1D, FermiVelocityZQL\n",
    "\n",
    "import numpy as np\n",
    "from numpy import pi\n",
    "from copy import copy\n",
    "# for plotting\n",
    "import matplotlib as mpl\n",
    "from matplotlib import pyplot as plt\n",
    "\n",
    "\n",
    "SitesCount_XDefault = 1200\n",
    "fsys_1D = diagonalizer.FinalizedSystem_1D(SitesCount_XDefault)\n",
    "\n",
    "ParametersSet5 = diagonalizer.SimpleNamespace( tp=2., t=1., tzp=1., tz=1., M0= 0., FermiEnergy = 0., \\\n",
    "                     betaz=3., b0=0.1, pzNode2 = -1.6954156, EnergyNode2 = 0.033074835, \\\n",
    "                     Rescale_hop0 = 1.0, Rescale_onsite0 = 1.0, Rescale_onsite1 = 1.0, \\\n",
    "                     lBinv2=0., x_shift= (SitesCount_XDefault - 1.)/2., \\\n",
    "                     EigenvectorsCount = 50, EnergyPrecision = 10**(-5), WavefunctionComponents = 4, \\\n",
    "                     py = 0., pz = 0. )\n",
    "\n",
    "params = copy(ParametersSet5)\n",
    "params.lBinv2 = 1. / 80.**2\n",
    "\n",
    "pzStart = -1.64\n",
    "pzEnd = 1.74\n",
    "GridNumber = 40\n",
    "\n",
    "params.pz = pzStart + 5 * (pzEnd - pzStart) / (GridNumber-1)\n",
    "\n",
    "print('pz =', params.pz)\n",
    "\n",
    "print(diagonalizer.ZerothLLEnergyQL(0., fsys_1D, params, debug = True))\n",
    "print(diagonalizer.ZerothLLEnergyQL(0.1, fsys_1D, params, debug = True))\n",
    "print(diagonalizer.ZerothLLEnergyQL(0.5, fsys_1D, params, debug = True))\n",
    "\n",
    "evals, evecs = pSweep_1D( fsys_1D, params, 0., 0.1, pCount=10, yORzSweep = 'pySweep')\n",
    "spectrum_plot_1D(evals, 0., 0.1, pCount=10)\n",
    "\n",
    "print(FermiVelocityZQL(fsys_1D, params, pyGuess = 0.5, debug = True))"
   ]
  },
  {
   "cell_type": "code",
   "execution_count": null,
   "metadata": {
    "collapsed": true
   },
   "outputs": [],
   "source": []
  }
 ],
 "metadata": {
  "anaconda-cloud": {},
  "kernelspec": {
   "display_name": "Python [default]",
   "language": "python",
   "name": "python3"
  },
  "language_info": {
   "codemirror_mode": {
    "name": "ipython",
    "version": 3
   },
   "file_extension": ".py",
   "mimetype": "text/x-python",
   "name": "python",
   "nbconvert_exporter": "python",
   "pygments_lexer": "ipython3",
   "version": "3.5.2"
  }
 },
 "nbformat": 4,
 "nbformat_minor": 1
}
