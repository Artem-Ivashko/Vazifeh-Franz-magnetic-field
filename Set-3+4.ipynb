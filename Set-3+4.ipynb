{
 "cells": [
  {
   "cell_type": "code",
   "execution_count": null,
   "metadata": {
    "collapsed": true
   },
   "outputs": [],
   "source": [
    "import diagonalizer\n",
    "from diagonalizer import diagonalize_1D, density_plot_1D, pSweep_1D, spectrum_plot_1D, FermiVelocityZQL\n",
    "\n",
    "import numpy as np\n",
    "from numpy import pi\n",
    "from copy import copy\n",
    "# for plotting\n",
    "import matplotlib as mpl\n",
    "from matplotlib import pyplot as plt\n",
    "\n",
    "#Some global and default parameters\n",
    "SitesCount_XDefault = 800\n",
    "fsys_1D = diagonalizer.FinalizedSystem_1D(SitesCount_XDefault)"
   ]
  },
  {
   "cell_type": "markdown",
   "metadata": {},
   "source": [
    "# Set-3"
   ]
  },
  {
   "cell_type": "code",
   "execution_count": 5,
   "metadata": {
    "collapsed": false
   },
   "outputs": [
    {
     "name": "stdout",
     "output_type": "stream",
     "text": [
      "-0.55663738333,-0.0853122024381,-0.0611109013364,-0.0628834248693,-0.0632636750156,-0.064385313894,-0.0655154620589,-0.0663539538805,-0.0667500807081,-0.0666132241617,-0.0658766104502,-0.0644760739693,-0.0623267977097,-0.0592785756187,-0.0549990880231,-0.0485920655963,-0.0368045853483,-0.00361237716031,0.183610239667,0.985592940029,"
     ]
    }
   ],
   "source": [
    "#The parameters with dimension of energy are measured in units of t\n",
    "#The lattice parameters (apart from the number of lattice sites) seem to be the same as in Fig.1 of Baireuther et al. 16\n",
    "#lBinv2 = a_0^2 / l_B^2, where a_0 is the lattice spacing, lB is the magnetic length\n",
    "ParametersSet3 = diagonalizer.SimpleNamespace( tp=2., t=1., tzp=1., tz=1., M0=+0.9, FermiEnergy = 0., \\\n",
    "                     betaz=3., b0=0.2, \\\n",
    "                     Rescale_hop0 = 1.0, Rescale_onsite0 = 1.0, Rescale_onsite1 = 1.0, \\\n",
    "                     lBinv2=0., x_shift= (SitesCount_XDefault - 1.)/2., \\\n",
    "                     EigenvectorsCount = 50, EnergyPrecision = 10**(-3), WavefunctionComponents = 4, \\\n",
    "                     py = 0., pz = 0. )\n",
    "\n",
    "\n",
    "params = copy(ParametersSet3)\n",
    "\n",
    "# evals, evecs = pSweep_1D( fsys_1D, params, -0.7, 0., pCount=20, yORzSweep = 'pzSweep')\n",
    "# spectrum_plot_1D(evals,-0.7, 0., pCount=20)\n",
    "\n",
    "\n",
    "params.lBinv2 = 1. / 50.**2\n",
    "\n",
    "# evals, evecs = pSweep_1D( fsys_1D, params, 0.8, 1, pCount=10, yORzSweep = 'pzSweep')\n",
    "# spectrum_plot_1D(evals, 0.8, 1, pCount=10)\n",
    "\n",
    "# evals, evecs = pSweep_1D( fsys_1D, params, -1, -0.8, pCount=10, yORzSweep = 'pzSweep')\n",
    "# spectrum_plot_1D(evals, -1, -0.8, pCount=10)\n",
    "\n",
    "pzStart = -0.84\n",
    "pzEnd = 0.95\n",
    "GridNumber = 20\n",
    "\n",
    "# params.pz = -0.84\n",
    "# print(FermiVelocityZQL(fsys_1D, params, debug = True))\n",
    "# params.pz = 0.95\n",
    "# print(FermiVelocityZQL(fsys_1D, params, debug = True))\n",
    "\n",
    "# evals, evecs = pSweep_1D( fsys_1D, params, -0.2, 0.2, pCount=20, yORzSweep = 'pySweep')\n",
    "# spectrum_plot_1D(evals,-0.2, 0.2, pCount=20)\n",
    "\n",
    "\n",
    "\n",
    "for i in range(GridNumber):\n",
    "    params.pz = pzStart + i * (pzEnd - pzStart) / (GridNumber-1)\n",
    "    velocityCash = FermiVelocityZQL(fsys_1D, params)\n",
    "    print(velocityCash,end=',')\n",
    "\n",
    "    \n",
    "# del params, evals, evecs"
   ]
  },
  {
   "cell_type": "markdown",
   "metadata": {},
   "source": [
    "# Set-4"
   ]
  },
  {
   "cell_type": "code",
   "execution_count": 4,
   "metadata": {
    "collapsed": false
   },
   "outputs": [
    {
     "name": "stdout",
     "output_type": "stream",
     "text": [
      "-0.0634763370705,-0.0300644011166,-0.0324498055775,-0.0391869738141,-0.0462308171383,-0.0525865373201,-0.0578623636686,-0.0619983257803,-0.0650492880173,-0.0667874145712,-0.0665478379166,-0.0638120091142,-0.0586329464135,-0.0513382179808,-0.0421667193605,-0.0310615851783,-0.016971145831,0.00389279546945,0.0565924400288,0.359927950343,"
     ]
    }
   ],
   "source": [
    "ParametersSet4 = diagonalizer.SimpleNamespace( tp=2., t=1., tzp=1., tz=1., M0= 0., FermiEnergy = 0., \\\n",
    "                     betaz=3., b0=0.2, \\\n",
    "                     Rescale_hop0 = 1.0, Rescale_onsite0 = 1.0, Rescale_onsite1 = 1.0, \\\n",
    "                     lBinv2=0., x_shift= (SitesCount_XDefault - 1.)/2., \\\n",
    "                     EigenvectorsCount = 50, EnergyPrecision = 10**(-3), WavefunctionComponents = 4, \\\n",
    "                     py = 0., pz = 0. )\n",
    "\n",
    "\n",
    "params = copy(ParametersSet4)\n",
    "\n",
    "# evals, evecs = pSweep_1D( fsys_1D, params, -2, 2., pCount=20, yORzSweep = 'pzSweep')\n",
    "# spectrum_plot_1D(evals,-2, 2., pCount=20)\n",
    "\n",
    "\n",
    "params.lBinv2 = 1. / 40.**2\n",
    "# evals, evecs = pSweep_1D( fsys_1D, params, 0.8, 2, pCount=10, yORzSweep = 'pzSweep')\n",
    "# spectrum_plot_1D(evals, 0.8, 2, pCount=10)\n",
    "# evals, evecs = pSweep_1D( fsys_1D, params, -2., -1.5, pCount=10, yORzSweep = 'pzSweep')\n",
    "# spectrum_plot_1D(evals, -2., -1.5, pCount=10)\n",
    "\n",
    "\n",
    "# params.pz = -1.5\n",
    "# print(FermiVelocityZQL(fsys_1D, params, debug = True))\n",
    "# params.pz = 1.7\n",
    "# print(FermiVelocityZQL(fsys_1D, params, debug = True))\n",
    "\n",
    "\n",
    "# params.pz = pzStart + 2 * (pzEnd - pzStart) / (GridNumber-1)\n",
    "# evals, evecs = pSweep_1D( fsys_1D, params, -0.2, 0., pCount=10, yORzSweep = 'pySweep')\n",
    "# spectrum_plot_1D(evals, -0.2, 0., pCount=10)\n",
    "\n",
    "# from scipy.optimize import brentq\n",
    "# from diagonalizer import ZerothLLEnergyQL\n",
    "# pytemp = brentq(lambda py: ZerothLLEnergyQL(py, fsys_1D, params), -1., 0., xtol = 10e-5, rtol = 10e-5)\n",
    "# print(pytemp)\n",
    "# print(ZerothLLEnergyQL(pytemp, fsys_1D, params))\n",
    "\n",
    "\n",
    "pzStart = -1.5\n",
    "pzEnd = 1.7\n",
    "GridNumber = 20\n",
    "\n",
    "for i in range(GridNumber):\n",
    "    params.pz = pzStart + i * (pzEnd - pzStart) / (GridNumber-1)\n",
    "    velocityCash = FermiVelocityZQL(fsys_1D, params)\n",
    "    print(velocityCash,end=',')"
   ]
  },
  {
   "cell_type": "code",
   "execution_count": null,
   "metadata": {
    "collapsed": true
   },
   "outputs": [],
   "source": []
  }
 ],
 "metadata": {
  "kernelspec": {
   "display_name": "Python 3",
   "language": "python",
   "name": "python3"
  },
  "language_info": {
   "codemirror_mode": {
    "name": "ipython",
    "version": 3
   },
   "file_extension": ".py",
   "mimetype": "text/x-python",
   "name": "python",
   "nbconvert_exporter": "python",
   "pygments_lexer": "ipython3",
   "version": "3.6.0"
  }
 },
 "nbformat": 4,
 "nbformat_minor": 2
}
