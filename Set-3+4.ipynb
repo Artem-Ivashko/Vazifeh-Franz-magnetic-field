{
 "cells": [
  {
   "cell_type": "code",
   "execution_count": 1,
   "metadata": {
    "collapsed": false
   },
   "outputs": [],
   "source": [
    "import diagonalizer\n",
    "from diagonalizer import diagonalize_1D, density_plot_1D, pSweep_1D, spectrum_plot_1D, FermiVelocityZQL\n",
    "\n",
    "import numpy as np\n",
    "from numpy import pi\n",
    "from copy import copy\n",
    "# for plotting\n",
    "import matplotlib as mpl\n",
    "from matplotlib import pyplot as plt\n",
    "\n",
    "#Some global and default parameters\n",
    "SitesCount_XDefault = 1000\n",
    "fsys_1D = diagonalizer.FinalizedSystem_1D(SitesCount_XDefault)"
   ]
  },
  {
   "cell_type": "markdown",
   "metadata": {},
   "source": [
    "# Set-4"
   ]
  },
  {
   "cell_type": "code",
   "execution_count": 2,
   "metadata": {
    "collapsed": true
   },
   "outputs": [],
   "source": [
    "ParametersSet4 = diagonalizer.SimpleNamespace( tp=2., t=1., tzp=1., tz=1., M0= 0., FermiEnergy = 0., \\\n",
    "                     betaz=3., b0=0.2, pzNode2 = -1.69329, EnergyNode2 = 0.0661671, \\\n",
    "                     Rescale_hop0 = 1.0, Rescale_onsite0 = 1.0, Rescale_onsite1 = 1.0, \\\n",
    "                     lBinv2=0., x_shift= (SitesCount_XDefault - 1.)/2., \\\n",
    "                     EigenvectorsCount = 50, EnergyPrecision = 10**(-5), WavefunctionComponents = 4, \\\n",
    "                     py = 0., pz = 0. )"
   ]
  },
  {
   "cell_type": "code",
   "execution_count": 3,
   "metadata": {
    "collapsed": false
   },
   "outputs": [
    {
     "name": "stdout",
     "output_type": "stream",
     "text": [
      "{-1.59,-0.659661690999},{-1.4126315789473685,-0.0355852814687},{-1.2352631578947368,-0.0303907349455},{-1.0578947368421052,-0.0363373437554},{-0.8805263157894737,-0.0437937387831},{-0.7031578947368421,-0.0507892312835},WARNING: Two values of energies become close to each other. Try increasing the number of lattice sites\n",
      "{-0.5257894736842106,-0.056672922877},{-0.34842105263157896,-0.061287225949},{-0.17105263157894735,-0.0646934141721},{0.006315789473684275,-0.0667072072984},{0.1836842105263159,-0.0665979338601},{0.3610526315789473,-0.0637354622003},WARNING: Two values of energies become close to each other. Try increasing the number of lattice sites\n",
      "{0.5384210526315789,-0.0581718512345},WARNING: Two values of energies become close to each other. Try increasing the number of lattice sites\n",
      "{0.7157894736842108,-0.0502864470665},WARNING: Two values of energies become close to each other. Try increasing the number of lattice sites\n",
      "{0.8931578947368422,-0.0403316603563},{1.070526315789474,-0.028149646539},{1.2478947368421054,-0.012294478546},{1.4252631578947368,0.0157313131859},{1.6026315789473686,0.129631755226},{1.78,0.632758895179},\n",
      "{-1.59,-0.659661690999},{-1.5035897435897436,-0.0671438564627},{-1.4171794871794872,-0.03621014432},{-1.330769230769231,-0.0301332099404},{-1.2443589743589745,-0.0302181752277},{-1.157948717948718,-0.0325417444179},{-1.0715384615384616,-0.0357838941793},{-0.9851282051282052,-0.0393765632696},{-0.8987179487179487,-0.0430326779753},{-0.8123076923076923,-0.0465891674335},{-0.7258974358974359,-0.0499469345086},WARNING: Two values of energies become close to each other. Try increasing the number of lattice sites\n",
      "{-0.6394871794871796,-0.0530452349666},WARNING: Two values of energies become close to each other. Try increasing the number of lattice sites\n",
      "{-0.5530769230769232,-0.0558504199958},WARNING: Two values of energies become close to each other. Try increasing the number of lattice sites\n",
      "{-0.4666666666666668,-0.0583504334223},WARNING: Two values of energies become close to each other. Try increasing the number of lattice sites\n",
      "{-0.3802564102564103,-0.0605499868561},{-0.29384615384615387,-0.0624621744966},{-0.2074358974358974,-0.064093693073},{-0.12102564102564117,-0.0654254963271},{-0.03461538461538449,-0.0663983691789},{0.051794871794871744,-0.0669166779803},{0.1382051282051282,-0.0668745189987},{0.22461538461538444,-0.0661905488255},{0.3110256410256409,-0.0648298530437},{0.3974358974358976,-0.062802907695},WARNING: Two values of energies become close to each other. Try increasing the number of lattice sites\n",
      "{0.4838461538461536,-0.0601489367235},WARNING: Two values of energies become close to each other. Try increasing the number of lattice sites\n",
      "{0.57025641025641,-0.0569168792368},WARNING: Two values of energies become close to each other. Try increasing the number of lattice sites\n",
      "{0.6566666666666665,-0.0531517848774},WARNING: Two values of energies become close to each other. Try increasing the number of lattice sites\n",
      "{0.7430769230769234,-0.0488871882411},WARNING: Two values of energies become close to each other. Try increasing the number of lattice sites\n",
      "{0.8294871794871794,-0.0441402185355},WARNING: Two values of energies become close to each other. Try increasing the number of lattice sites\n",
      "{0.9158974358974359,-0.0389052111383},{1.0023076923076923,-0.0331406178734},{1.0887179487179488,-0.0267405676051},{1.1751282051282053,-0.0194683894545},{1.2615384615384617,-0.0107937146247},{1.3479487179487177,0.000563201862729},{1.4343589743589742,0.0180763122409},{1.520769230769231,0.0524603307647},{1.607179487179487,0.136223738317},{1.6935897435897436,0.328180008214},{1.78,0.632758895179},"
     ]
    }
   ],
   "source": [
    "params = copy(ParametersSet4)\n",
    "\n",
    "params.lBinv2 = 1. / 40.**2\n",
    "\n",
    "pzStart = -1.59\n",
    "pzEnd = 1.78\n",
    "\n",
    "\n",
    "GridNumber = 20\n",
    "for i in range(GridNumber):\n",
    "    params.pz = pzStart + i * (pzEnd - pzStart) / (GridNumber-1)\n",
    "    velocityCash = FermiVelocityZQL(fsys_1D, params)\n",
    "    print('{', params.pz, ',', velocityCash,sep='',end='},')\n",
    "    \n",
    "print('')    \n",
    "    \n",
    "GridNumber = 40\n",
    "for i in range(GridNumber):\n",
    "    params.pz = pzStart + i * (pzEnd - pzStart) / (GridNumber-1)\n",
    "    velocityCash = FermiVelocityZQL(fsys_1D, params)\n",
    "    print('{', params.pz, ',', velocityCash,sep='',end='},')"
   ]
  },
  {
   "cell_type": "markdown",
   "metadata": {
    "collapsed": true
   },
   "source": [
    "## FA spectrum is additively separable (for the non-deformed boundary)"
   ]
  },
  {
   "cell_type": "code",
   "execution_count": 10,
   "metadata": {
    "collapsed": false
   },
   "outputs": [
    {
     "name": "stdout",
     "output_type": "stream",
     "text": [
      "[-0.55414988 -0.55403861  0.01970135  0.01970135]\n",
      "[-0.51362905 -0.09973596  0.09973596  0.51359171]\n",
      "[-0.56418814 -0.56394363 -0.08003461  0.11943731]\n",
      "0.11943730999999999\n"
     ]
    }
   ],
   "source": [
    "params = copy(ParametersSet4)\n",
    "\n",
    "fsys_finerResolution = diagonalizer.FinalizedSystem_1D(1000)\n",
    "params.EigenvectorsCount = 4\n",
    "\n",
    "params.FermiEnergy = 0.\n",
    "params.pz = -0.3\n",
    "params.py = 0.\n",
    "evals, evecs = diagonalize_1D(fsys_finerResolution,params)\n",
    "print(evals)\n",
    "\n",
    "params.FermiEnergy = 0.\n",
    "params.pz = 0.\n",
    "params.py = 0.05\n",
    "evals, evecs = diagonalize_1D(fsys_finerResolution,params)\n",
    "print(evals)\n",
    "\n",
    "params.pz = -0.3\n",
    "params.py = 0.05\n",
    "params.FermiEnergy = -0.1\n",
    "evals, evecs = diagonalize_1D(fsys_finerResolution,params)\n",
    "print(evals)\n",
    "print(0.01970135+0.09973596)"
   ]
  },
  {
   "cell_type": "markdown",
   "metadata": {
    "collapsed": true
   },
   "source": [
    "## Extraction of the FA z-velocity around a Weyl node "
   ]
  },
  {
   "cell_type": "code",
   "execution_count": 24,
   "metadata": {
    "collapsed": false
   },
   "outputs": [
    {
     "name": "stdout",
     "output_type": "stream",
     "text": [
      "[ 0.06521745  0.06584527  0.06647143  0.06709927] while the expected Weyl-node energy is 0.0661671\n",
      "[ 0.00163194  0.00164055  0.0666498   0.0666498 ]\n",
      "[-0.06663813 -0.06663399  0.06646653  0.06646653]\n",
      "-0.0018326999999999927\n"
     ]
    }
   ],
   "source": [
    "fsys_finerResolution = diagonalizer.FinalizedSystem_1D(10000)\n",
    "params = copy(ParametersSet4)\n",
    "\n",
    "params.pz = params.pzNode2\n",
    "params.FermiEnergy = params.EnergyNode2\n",
    "params.EigenvectorsCount = 4\n",
    "evals, evecs = diagonalize_1D(fsys_finerResolution,params)\n",
    "print(evals, 'while the expected Weyl-node energy is', params.EnergyNode2)\n",
    "\n",
    "\n",
    "params.pz = params.pzNode2 + 0.1\n",
    "params.FermiEnergy = params.EnergyNode2\n",
    "params.EigenvectorsCount = 4\n",
    "evals, evecs = diagonalize_1D(fsys_finerResolution,params)\n",
    "print(evals)\n",
    "\n",
    "params.pz = params.pzNode2 + 0.2\n",
    "params.FermiEnergy = params.EnergyNode2\n",
    "params.EigenvectorsCount = 4\n",
    "evals, evecs = diagonalize_1D(fsys_finerResolution,params)\n",
    "print(evals)\n",
    "\n",
    "\n",
    "#The extraction of the FA spectrum is made manually so far\n",
    "print((0.06646653 - 0.0666498)/(0.2-0.1))\n",
    "\n",
    "\n",
    "del fsys_finerResolution, params, evals, evecs"
   ]
  },
  {
   "cell_type": "markdown",
   "metadata": {
    "collapsed": true
   },
   "source": [
    "## What is the Fermi velocity profile for a deformed boundary?"
   ]
  },
  {
   "cell_type": "code",
   "execution_count": 3,
   "metadata": {
    "collapsed": false
   },
   "outputs": [],
   "source": [
    "params = copy(ParametersSet4)\n",
    "params.Rescale_b0_0 = 10.0\n",
    "\n",
    "# evals, evecs = pSweep_1D( fsys_1D, params, -2., 0., pCount=20, yORzSweep = 'pzSweep')\n",
    "# spectrum_plot_1D(evals, -2., 0., pCount=20)\n",
    "pzStart = -1.59\n",
    "pzEnd = 1.78\n",
    "params.lBinv2 = 1. / 40.**2\n",
    "\n",
    "GridNumber = 20"
   ]
  },
  {
   "cell_type": "code",
   "execution_count": 4,
   "metadata": {
    "collapsed": false
   },
   "outputs": [
    {
     "name": "stdout",
     "output_type": "stream",
     "text": [
      "{-1.59,-0.553373762004},{-1.4126315789473685,0.427655194922},{-1.2352631578947368,0.352347181816},{-1.0578947368421052,0.214907897289},{-0.8805263157894737,0.0344924962145},{-0.7031578947368421,-0.164817156884},{-0.5257894736842106,-0.35113817503},{-0.34842105263157896,-0.48681827025},{-0.17105263157894735,-0.548763939988},{0.006315789473684275,-0.560206860005},{0.1836842105263159,-0.547572538573},{0.3610526315789473,-0.480247710263},{0.5384210526315789,-0.339023199572},{0.7157894736842108,-0.149673382621},{0.8931578947368422,0.0503382527303},{1.070526315789474,0.230114199321},{1.2478947368421054,0.367122844837},{1.4252631578947368,0.447042101902},{1.6026315789473686,0.476083932167},{1.78,0.64481234413},"
     ]
    }
   ],
   "source": [
    "for i in range(GridNumber):\n",
    "    params.pz = pzStart + i * (pzEnd - pzStart) / (GridNumber-1)\n",
    "    velocityCash = FermiVelocityZQL(fsys_1D, params, pyGuess = 0.7)\n",
    "    print('{', params.pz, ',', velocityCash,sep='',end='},')"
   ]
  },
  {
   "cell_type": "code",
   "execution_count": null,
   "metadata": {
    "collapsed": true
   },
   "outputs": [],
   "source": []
  }
 ],
 "metadata": {
  "anaconda-cloud": {},
  "kernelspec": {
   "display_name": "Python [default]",
   "language": "python",
   "name": "python3"
  },
  "language_info": {
   "codemirror_mode": {
    "name": "ipython",
    "version": 3
   },
   "file_extension": ".py",
   "mimetype": "text/x-python",
   "name": "python",
   "nbconvert_exporter": "python",
   "pygments_lexer": "ipython3",
   "version": "3.5.2"
  }
 },
 "nbformat": 4,
 "nbformat_minor": 2
}
