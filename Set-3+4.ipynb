{
 "cells": [
  {
   "cell_type": "code",
   "execution_count": 1,
   "metadata": {
    "collapsed": true
   },
   "outputs": [],
   "source": [
    "import diagonalizer\n",
    "from diagonalizer import diagonalize_1D, density_plot_1D, pSweep_1D, spectrum_plot_1D, FermiVelocityZQL\n",
    "\n",
    "import numpy as np\n",
    "from numpy import pi\n",
    "from copy import copy\n",
    "# for plotting\n",
    "import matplotlib as mpl\n",
    "from matplotlib import pyplot as plt\n",
    "\n",
    "#Some global and default parameters\n",
    "SitesCount_XDefault = 800\n",
    "fsys_1D = diagonalizer.FinalizedSystem_1D(SitesCount_XDefault)"
   ]
  },
  {
   "cell_type": "markdown",
   "metadata": {},
   "source": [
    "# Set-3"
   ]
  },
  {
   "cell_type": "code",
   "execution_count": 2,
   "metadata": {
    "collapsed": true
   },
   "outputs": [],
   "source": [
    "#The parameters with dimension of energy are measured in units of t\n",
    "#The lattice parameters (apart from the number of lattice sites) seem to be the same as in Fig.1 of Baireuther et al. 16\n",
    "#lBinv2 = a_0^2 / l_B^2, where a_0 is the lattice spacing, lB is the magnetic length\n",
    "ParametersSet3 = diagonalizer.SimpleNamespace( tp=2., t=1., tzp=1., tz=1., M0=+0.9, FermiEnergy = 0., \\\n",
    "                     betaz=3., b0=0.2, \\\n",
    "                     Rescale_hop0 = 1.0, Rescale_onsite0 = 1.0, Rescale_onsite1 = 1.0, \\\n",
    "                     lBinv2=0., x_shift= (SitesCount_XDefault - 1.)/2., \\\n",
    "                     EigenvectorsCount = 50, EnergyPrecision = 10**(-4), WavefunctionComponents = 4, \\\n",
    "                     py = 0., pz = 0. )"
   ]
  },
  {
   "cell_type": "code",
   "execution_count": 5,
   "metadata": {
    "collapsed": false
   },
   "outputs": [
    {
     "name": "stdout",
     "output_type": "stream",
     "text": [
      "-0.55663738333,-0.0853122024381,-0.0611109013364,-0.0628834248693,-0.0632636750156,-0.064385313894,-0.0655154620589,-0.0663539538805,-0.0667500807081,-0.0666132241617,-0.0658766104502,-0.0644760739693,-0.0623267977097,-0.0592785756187,-0.0549990880231,-0.0485920655963,-0.0368045853483,-0.00361237716031,0.183610239667,0.985592940029,"
     ]
    }
   ],
   "source": [
    "params = copy(ParametersSet3)\n",
    "\n",
    "# evals, evecs = pSweep_1D( fsys_1D, params, -0.7, 0., pCount=20, yORzSweep = 'pzSweep')\n",
    "# spectrum_plot_1D(evals,-0.7, 0., pCount=20)\n",
    "\n",
    "params.lBinv2 = 1. / 50.**2\n",
    "\n",
    "# evals, evecs = pSweep_1D( fsys_1D, params, 0.8, 1, pCount=10, yORzSweep = 'pzSweep')\n",
    "# spectrum_plot_1D(evals, 0.8, 1, pCount=10)\n",
    "\n",
    "# evals, evecs = pSweep_1D( fsys_1D, params, -1, -0.8, pCount=10, yORzSweep = 'pzSweep')\n",
    "# spectrum_plot_1D(evals, -1, -0.8, pCount=10)\n",
    "\n",
    "pzStart = -0.84\n",
    "pzEnd = 0.95\n",
    "GridNumber = 20\n",
    "\n",
    "# params.pz = -0.84\n",
    "# print(FermiVelocityZQL(fsys_1D, params, debug = True))\n",
    "# params.pz = 0.95\n",
    "# print(FermiVelocityZQL(fsys_1D, params, debug = True))\n",
    "\n",
    "# evals, evecs = pSweep_1D( fsys_1D, params, -0.2, 0.2, pCount=20, yORzSweep = 'pySweep')\n",
    "# spectrum_plot_1D(evals,-0.2, 0.2, pCount=20)\n",
    "\n",
    "\n",
    "\n",
    "for i in range(GridNumber):\n",
    "    params.pz = pzStart + i * (pzEnd - pzStart) / (GridNumber-1)\n",
    "    velocityCash = FermiVelocityZQL(fsys_1D, params)\n",
    "    print(velocityCash,end=',')\n",
    "\n",
    "    \n",
    "# del params, evals, evecs"
   ]
  },
  {
   "cell_type": "markdown",
   "metadata": {},
   "source": [
    "# Set-4"
   ]
  },
  {
   "cell_type": "code",
   "execution_count": 2,
   "metadata": {
    "collapsed": true
   },
   "outputs": [],
   "source": [
    "ParametersSet4 = diagonalizer.SimpleNamespace( tp=2., t=1., tzp=1., tz=1., M0= 0., FermiEnergy = 0., \\\n",
    "                     betaz=3., b0=0.2, pzNode2 = -1.69329, EnergyNode2 = 0.0661671, \\\n",
    "                     Rescale_hop0 = 1.0, Rescale_onsite0 = 1.0, Rescale_onsite1 = 1.0, \\\n",
    "                     lBinv2=0., x_shift= (SitesCount_XDefault - 1.)/2., \\\n",
    "                     EigenvectorsCount = 50, EnergyPrecision = 10**(-5), WavefunctionComponents = 4, \\\n",
    "                     py = 0., pz = 0. )"
   ]
  },
  {
   "cell_type": "code",
   "execution_count": 17,
   "metadata": {
    "collapsed": false
   },
   "outputs": [],
   "source": [
    "params = copy(ParametersSet4)\n",
    "\n",
    "# evals, evecs = pSweep_1D( fsys_1D, params, -2, 2., pCount=20, yORzSweep = 'pzSweep')\n",
    "# spectrum_plot_1D(evals,-2, 2., pCount=20)\n",
    "\n",
    "\n",
    "params.lBinv2 = 1. / 40.**2\n",
    "# evals, evecs = pSweep_1D( fsys_1D, params, 0.8, 2, pCount=10, yORzSweep = 'pzSweep')\n",
    "# spectrum_plot_1D(evals, 0.8, 2, pCount=10)\n",
    "# evals, evecs = pSweep_1D( fsys_1D, params, -2., -1.5, pCount=10, yORzSweep = 'pzSweep')\n",
    "# spectrum_plot_1D(evals, -2., -1.5, pCount=10)\n",
    "\n",
    "\n",
    "# params.pz = -1.58\n",
    "# print(FermiVelocityZQL(fsys_1D, params, debug = True))\n",
    "# params.pz = 1.78\n",
    "# print(FermiVelocityZQL(fsys_1D, params, debug = True))\n",
    "\n",
    "\n",
    "\n",
    "# params.pz = pzStart + 2 * (pzEnd - pzStart) / (GridNumber-1)\n",
    "# evals, evecs = pSweep_1D( fsys_1D, params, -0.2, 0., pCount=10, yORzSweep = 'pySweep')\n",
    "# spectrum_plot_1D(evals, -0.2, 0., pCount=10)\n",
    "\n",
    "# from scipy.optimize import brentq\n",
    "# from diagonalizer import ZerothLLEnergyQL\n",
    "# pytemp = brentq(lambda py: ZerothLLEnergyQL(py, fsys_1D, params), -1., 0., xtol = 10e-5, rtol = 10e-5)\n",
    "# print(pytemp)\n",
    "# print(ZerothLLEnergyQL(pytemp, fsys_1D, params))"
   ]
  },
  {
   "cell_type": "code",
   "execution_count": 16,
   "metadata": {
    "collapsed": false
   },
   "outputs": [
    {
     "name": "stdout",
     "output_type": "stream",
     "text": [
      "-0.375029835747,-0.0398146570724,-0.0301796249048,-0.0368919225,-0.0443345397353,-0.051243142584,-0.0570227746082,-0.0615409956042,-0.0648600067325,-0.066764910503,-0.0665107927237,-0.0635047103668,-0.0578301042326,-0.0498652713629,-0.0398480051052,-0.0275938971995,-0.0103496880634,0.0121357835504,0.133706534362,0.633193077895,-0.375029835747,-0.0601260580032,-0.0333266063562,-0.0302964234455,-0.0302429157894,-0.0328397766969,-0.0363304091837,-0.0399416104424,-0.0435797848441,-0.047100960809,-0.0504136688702,-0.053462091325,-0.056216190309,-0.0586666579946,-0.0608199160967,-0.0626891025495,-0.0642786549857,-0.0655651816226,-0.0664848296377,-0.0669398307883,-0.0668263658841,-0.0660684370009,-0.064636956959,-0.0625463922387,-0.059837494759,-0.0565588897862,-0.0527543536768,-0.0484557486243,-0.0436782528128,-0.0384136940759,-0.0326167659623,-0.0261689133196,-0.0187633843942,-0.00829450023687,0.00156488668592,0.0214949321963,0.0537111670303,0.149254637812,0.33917822827,0.633193077895,"
     ]
    }
   ],
   "source": [
    "pzStart = -1.58\n",
    "pzEnd = 1.78\n",
    "\n",
    "\n",
    "GridNumber = 20\n",
    "for i in range(GridNumber):\n",
    "    params.pz = pzStart + i * (pzEnd - pzStart) / (GridNumber-1)\n",
    "    velocityCash = FermiVelocityZQL(fsys_1D, params)\n",
    "    print(velocityCash,end=',')\n",
    "    \n",
    "print('')    \n",
    "    \n",
    "GridNumber = 40\n",
    "for i in range(GridNumber):\n",
    "    params.pz = pzStart + i * (pzEnd - pzStart) / (GridNumber-1)\n",
    "    velocityCash = FermiVelocityZQL(fsys_1D, params)\n",
    "    print(velocityCash,end=',')"
   ]
  },
  {
   "cell_type": "markdown",
   "metadata": {
    "collapsed": true
   },
   "source": [
    "## FA spectrum is additively separable (for non-deformed boundary)"
   ]
  },
  {
   "cell_type": "code",
   "execution_count": 10,
   "metadata": {
    "collapsed": false
   },
   "outputs": [
    {
     "name": "stdout",
     "output_type": "stream",
     "text": [
      "[-0.55414988 -0.55403861  0.01970135  0.01970135]\n",
      "[-0.51362905 -0.09973596  0.09973596  0.51359171]\n",
      "[-0.56418814 -0.56394363 -0.08003461  0.11943731]\n",
      "0.11943730999999999\n"
     ]
    }
   ],
   "source": [
    "params = copy(ParametersSet4)\n",
    "\n",
    "fsys_finerResolution = diagonalizer.FinalizedSystem_1D(1000)\n",
    "params.EigenvectorsCount = 4\n",
    "\n",
    "params.FermiEnergy = 0.\n",
    "params.pz = -0.3\n",
    "params.py = 0.\n",
    "evals, evecs = diagonalize_1D(fsys_finerResolution,params)\n",
    "print(evals)\n",
    "\n",
    "params.FermiEnergy = 0.\n",
    "params.pz = 0.\n",
    "params.py = 0.05\n",
    "evals, evecs = diagonalize_1D(fsys_finerResolution,params)\n",
    "print(evals)\n",
    "\n",
    "params.pz = -0.3\n",
    "params.py = 0.05\n",
    "params.FermiEnergy = -0.1\n",
    "evals, evecs = diagonalize_1D(fsys_finerResolution,params)\n",
    "print(evals)\n",
    "print(0.01970135+0.09973596)"
   ]
  },
  {
   "cell_type": "markdown",
   "metadata": {
    "collapsed": true
   },
   "source": [
    "## Extraction of the FA z-velocity around a Weyl node "
   ]
  },
  {
   "cell_type": "code",
   "execution_count": 24,
   "metadata": {
    "collapsed": false
   },
   "outputs": [
    {
     "name": "stdout",
     "output_type": "stream",
     "text": [
      "[ 0.06521745  0.06584527  0.06647143  0.06709927] while the expected Weyl-node energy is 0.0661671\n",
      "[ 0.00163194  0.00164055  0.0666498   0.0666498 ]\n",
      "[-0.06663813 -0.06663399  0.06646653  0.06646653]\n",
      "-0.0018326999999999927\n"
     ]
    }
   ],
   "source": [
    "fsys_finerResolution = diagonalizer.FinalizedSystem_1D(10000)\n",
    "params = copy(ParametersSet4)\n",
    "\n",
    "params.pz = params.pzNode2\n",
    "params.FermiEnergy = params.EnergyNode2\n",
    "params.EigenvectorsCount = 4\n",
    "evals, evecs = diagonalize_1D(fsys_finerResolution,params)\n",
    "print(evals, 'while the expected Weyl-node energy is', params.EnergyNode2)\n",
    "\n",
    "\n",
    "params.pz = params.pzNode2 + 0.1\n",
    "params.FermiEnergy = params.EnergyNode2\n",
    "params.EigenvectorsCount = 4\n",
    "evals, evecs = diagonalize_1D(fsys_finerResolution,params)\n",
    "print(evals)\n",
    "\n",
    "params.pz = params.pzNode2 + 0.2\n",
    "params.FermiEnergy = params.EnergyNode2\n",
    "params.EigenvectorsCount = 4\n",
    "evals, evecs = diagonalize_1D(fsys_finerResolution,params)\n",
    "print(evals)\n",
    "\n",
    "\n",
    "#The extraction of the FA spectrum is made manually so far\n",
    "print((0.06646653 - 0.0666498)/(0.2-0.1))\n",
    "\n",
    "\n",
    "del fsys_finerResolution, params, evals, evecs"
   ]
  },
  {
   "cell_type": "code",
   "execution_count": null,
   "metadata": {
    "collapsed": true
   },
   "outputs": [],
   "source": []
  }
 ],
 "metadata": {
  "kernelspec": {
   "display_name": "Python 3",
   "language": "python",
   "name": "python3"
  },
  "language_info": {
   "codemirror_mode": {
    "name": "ipython",
    "version": 3
   },
   "file_extension": ".py",
   "mimetype": "text/x-python",
   "name": "python",
   "nbconvert_exporter": "python",
   "pygments_lexer": "ipython3",
   "version": "3.6.0"
  }
 },
 "nbformat": 4,
 "nbformat_minor": 2
}
