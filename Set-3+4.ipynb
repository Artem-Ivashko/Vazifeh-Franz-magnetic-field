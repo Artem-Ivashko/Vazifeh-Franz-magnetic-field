{
 "cells": [
  {
   "cell_type": "code",
   "execution_count": 1,
   "metadata": {
    "collapsed": false
   },
   "outputs": [],
   "source": [
    "import diagonalizer\n",
    "from diagonalizer import diagonalize_1D, density_plot_1D, pSweep_1D, spectrum_plot_1D, FermiVelocityZQL\n",
    "\n",
    "import numpy as np\n",
    "from numpy import pi\n",
    "from copy import copy\n",
    "# for plotting\n",
    "import matplotlib as mpl\n",
    "from matplotlib import pyplot as plt\n",
    "\n",
    "#Some global and default parameters\n",
    "SitesCount_XDefault = 800\n",
    "fsys_1D = diagonalizer.FinalizedSystem_1D(SitesCount_XDefault)"
   ]
  },
  {
   "cell_type": "markdown",
   "metadata": {},
   "source": [
    "# Set-3"
   ]
  },
  {
   "cell_type": "code",
   "execution_count": 2,
   "metadata": {
    "collapsed": true
   },
   "outputs": [],
   "source": [
    "#The parameters with dimension of energy are measured in units of t\n",
    "#The lattice parameters (apart from the number of lattice sites) seem to be the same as in Fig.1 of Baireuther et al. 16\n",
    "#lBinv2 = a_0^2 / l_B^2, where a_0 is the lattice spacing, lB is the magnetic length\n",
    "ParametersSet3 = diagonalizer.SimpleNamespace( tp=2., t=1., tzp=1., tz=1., M0=+0.9, FermiEnergy = 0., \\\n",
    "                     betaz=3., b0=0.2, \\\n",
    "                     Rescale_hop0 = 1.0, Rescale_onsite0 = 1.0, Rescale_onsite1 = 1.0, \\\n",
    "                     lBinv2=0., x_shift= (SitesCount_XDefault - 1.)/2., \\\n",
    "                     EigenvectorsCount = 50, EnergyPrecision = 10**(-4), WavefunctionComponents = 4, \\\n",
    "                     py = 0., pz = 0. )"
   ]
  },
  {
   "cell_type": "code",
   "execution_count": 5,
   "metadata": {
    "collapsed": false
   },
   "outputs": [
    {
     "name": "stdout",
     "output_type": "stream",
     "text": [
      "-0.55663738333,-0.0853122024381,-0.0611109013364,-0.0628834248693,-0.0632636750156,-0.064385313894,-0.0655154620589,-0.0663539538805,-0.0667500807081,-0.0666132241617,-0.0658766104502,-0.0644760739693,-0.0623267977097,-0.0592785756187,-0.0549990880231,-0.0485920655963,-0.0368045853483,-0.00361237716031,0.183610239667,0.985592940029,"
     ]
    }
   ],
   "source": [
    "params = copy(ParametersSet3)\n",
    "\n",
    "# evals, evecs = pSweep_1D( fsys_1D, params, -0.7, 0., pCount=20, yORzSweep = 'pzSweep')\n",
    "# spectrum_plot_1D(evals,-0.7, 0., pCount=20)\n",
    "\n",
    "params.lBinv2 = 1. / 50.**2\n",
    "\n",
    "# evals, evecs = pSweep_1D( fsys_1D, params, 0.8, 1, pCount=10, yORzSweep = 'pzSweep')\n",
    "# spectrum_plot_1D(evals, 0.8, 1, pCount=10)\n",
    "\n",
    "# evals, evecs = pSweep_1D( fsys_1D, params, -1, -0.8, pCount=10, yORzSweep = 'pzSweep')\n",
    "# spectrum_plot_1D(evals, -1, -0.8, pCount=10)\n",
    "\n",
    "pzStart = -0.84\n",
    "pzEnd = 0.95\n",
    "GridNumber = 20\n",
    "\n",
    "# params.pz = -0.84\n",
    "# print(FermiVelocityZQL(fsys_1D, params, debug = True))\n",
    "# params.pz = 0.95\n",
    "# print(FermiVelocityZQL(fsys_1D, params, debug = True))\n",
    "\n",
    "# evals, evecs = pSweep_1D( fsys_1D, params, -0.2, 0.2, pCount=20, yORzSweep = 'pySweep')\n",
    "# spectrum_plot_1D(evals,-0.2, 0.2, pCount=20)\n",
    "\n",
    "\n",
    "\n",
    "for i in range(GridNumber):\n",
    "    params.pz = pzStart + i * (pzEnd - pzStart) / (GridNumber-1)\n",
    "    velocityCash = FermiVelocityZQL(fsys_1D, params)\n",
    "    print(velocityCash,end=',')\n",
    "\n",
    "    \n",
    "# del params, evals, evecs"
   ]
  },
  {
   "cell_type": "markdown",
   "metadata": {},
   "source": [
    "# Set-4"
   ]
  },
  {
   "cell_type": "code",
   "execution_count": 2,
   "metadata": {
    "collapsed": true
   },
   "outputs": [],
   "source": [
    "ParametersSet4 = diagonalizer.SimpleNamespace( tp=2., t=1., tzp=1., tz=1., M0= 0., FermiEnergy = 0., \\\n",
    "                     betaz=3., b0=0.2, pzNode2 = -1.69329, EnergyNode2 = 0.0661671, \\\n",
    "                     Rescale_hop0 = 1.0, Rescale_onsite0 = 1.0, Rescale_onsite1 = 1.0, \\\n",
    "                     lBinv2=0., x_shift= (SitesCount_XDefault - 1.)/2., \\\n",
    "                     EigenvectorsCount = 50, EnergyPrecision = 10**(-5), WavefunctionComponents = 4, \\\n",
    "                     py = 0., pz = 0. )"
   ]
  },
  {
   "cell_type": "code",
   "execution_count": 8,
   "metadata": {
    "collapsed": false
   },
   "outputs": [
    {
     "name": "stdout",
     "output_type": "stream",
     "text": [
      "{-1.59,-0.65970690592},{-1.4126315789473685,-0.0355845934773},{-1.2352631578947368,-0.0303907892496},{-1.0578947368421052,-0.0363372886699},{-0.8805263157894737,-0.0437937387731},{-0.7031578947368421,-0.0507892312808},{-0.5257894736842106,-0.0566729228758},"
     ]
    },
    {
     "ename": "ValueError",
     "evalue": "f(a) and f(b) must have different signs",
     "output_type": "error",
     "traceback": [
      "\u001b[0;31m---------------------------------------------------------------------------\u001b[0m",
      "\u001b[0;31mValueError\u001b[0m                                Traceback (most recent call last)",
      "\u001b[0;32m<ipython-input-8-108fc313b8ec>\u001b[0m in \u001b[0;36m<module>\u001b[0;34m()\u001b[0m\n\u001b[1;32m     10\u001b[0m \u001b[0;32mfor\u001b[0m \u001b[0mi\u001b[0m \u001b[0;32min\u001b[0m \u001b[0mrange\u001b[0m\u001b[0;34m(\u001b[0m\u001b[0mGridNumber\u001b[0m\u001b[0;34m)\u001b[0m\u001b[0;34m:\u001b[0m\u001b[0;34m\u001b[0m\u001b[0m\n\u001b[1;32m     11\u001b[0m     \u001b[0mparams\u001b[0m\u001b[0;34m.\u001b[0m\u001b[0mpz\u001b[0m \u001b[0;34m=\u001b[0m \u001b[0mpzStart\u001b[0m \u001b[0;34m+\u001b[0m \u001b[0mi\u001b[0m \u001b[0;34m*\u001b[0m \u001b[0;34m(\u001b[0m\u001b[0mpzEnd\u001b[0m \u001b[0;34m-\u001b[0m \u001b[0mpzStart\u001b[0m\u001b[0;34m)\u001b[0m \u001b[0;34m/\u001b[0m \u001b[0;34m(\u001b[0m\u001b[0mGridNumber\u001b[0m\u001b[0;34m-\u001b[0m\u001b[0;36m1\u001b[0m\u001b[0;34m)\u001b[0m\u001b[0;34m\u001b[0m\u001b[0m\n\u001b[0;32m---> 12\u001b[0;31m     \u001b[0mvelocityCash\u001b[0m \u001b[0;34m=\u001b[0m \u001b[0mFermiVelocityZQL\u001b[0m\u001b[0;34m(\u001b[0m\u001b[0mfsys_1D\u001b[0m\u001b[0;34m,\u001b[0m \u001b[0mparams\u001b[0m\u001b[0;34m)\u001b[0m\u001b[0;34m\u001b[0m\u001b[0m\n\u001b[0m\u001b[1;32m     13\u001b[0m     \u001b[0mprint\u001b[0m\u001b[0;34m(\u001b[0m\u001b[0;34m'{'\u001b[0m\u001b[0;34m,\u001b[0m \u001b[0mparams\u001b[0m\u001b[0;34m.\u001b[0m\u001b[0mpz\u001b[0m\u001b[0;34m,\u001b[0m \u001b[0;34m','\u001b[0m\u001b[0;34m,\u001b[0m \u001b[0mvelocityCash\u001b[0m\u001b[0;34m,\u001b[0m\u001b[0msep\u001b[0m\u001b[0;34m=\u001b[0m\u001b[0;34m''\u001b[0m\u001b[0;34m,\u001b[0m\u001b[0mend\u001b[0m\u001b[0;34m=\u001b[0m\u001b[0;34m'},'\u001b[0m\u001b[0;34m)\u001b[0m\u001b[0;34m\u001b[0m\u001b[0m\n\u001b[1;32m     14\u001b[0m \u001b[0;34m\u001b[0m\u001b[0m\n",
      "\u001b[0;32m/data1/ivashko/Jupyter/Vazifeh-Franz-magnetic-field/diagonalizer.py\u001b[0m in \u001b[0;36mFermiVelocityZQL\u001b[0;34m(FinalizedSystem, Parameters, BulkZerothLLEnergyNegative, EnergyPrecision, pyGuess, debug)\u001b[0m\n\u001b[1;32m    153\u001b[0m \u001b[0;34m\u001b[0m\u001b[0m\n\u001b[1;32m    154\u001b[0m         pyFermi = brentq(ZerothLLEnergyQL, pyGuess, 0., \\\n\u001b[0;32m--> 155\u001b[0;31m                             xtol = 10e-5, rtol = 10e-5, args = (FinalizedSystem, p), disp = True)\n\u001b[0m\u001b[1;32m    156\u001b[0m \u001b[0;34m\u001b[0m\u001b[0m\n\u001b[1;32m    157\u001b[0m         \u001b[0;32mif\u001b[0m \u001b[0mdebug\u001b[0m \u001b[0;34m==\u001b[0m \u001b[0;32mTrue\u001b[0m\u001b[0;34m:\u001b[0m\u001b[0;34m\u001b[0m\u001b[0m\n",
      "\u001b[0;32m/data1/ivashko/anaconda3/lib/python3.5/site-packages/scipy/optimize/zeros.py\u001b[0m in \u001b[0;36mbrentq\u001b[0;34m(f, a, b, args, xtol, rtol, maxiter, full_output, disp)\u001b[0m\n\u001b[1;32m    440\u001b[0m     \u001b[0;32mif\u001b[0m \u001b[0mrtol\u001b[0m \u001b[0;34m<\u001b[0m \u001b[0m_rtol\u001b[0m\u001b[0;34m:\u001b[0m\u001b[0;34m\u001b[0m\u001b[0m\n\u001b[1;32m    441\u001b[0m         \u001b[0;32mraise\u001b[0m \u001b[0mValueError\u001b[0m\u001b[0;34m(\u001b[0m\u001b[0;34m\"rtol too small (%g < %g)\"\u001b[0m \u001b[0;34m%\u001b[0m \u001b[0;34m(\u001b[0m\u001b[0mrtol\u001b[0m\u001b[0;34m,\u001b[0m \u001b[0m_rtol\u001b[0m\u001b[0;34m)\u001b[0m\u001b[0;34m)\u001b[0m\u001b[0;34m\u001b[0m\u001b[0m\n\u001b[0;32m--> 442\u001b[0;31m     \u001b[0mr\u001b[0m \u001b[0;34m=\u001b[0m \u001b[0m_zeros\u001b[0m\u001b[0;34m.\u001b[0m\u001b[0m_brentq\u001b[0m\u001b[0;34m(\u001b[0m\u001b[0mf\u001b[0m\u001b[0;34m,\u001b[0m\u001b[0ma\u001b[0m\u001b[0;34m,\u001b[0m\u001b[0mb\u001b[0m\u001b[0;34m,\u001b[0m\u001b[0mxtol\u001b[0m\u001b[0;34m,\u001b[0m\u001b[0mrtol\u001b[0m\u001b[0;34m,\u001b[0m\u001b[0mmaxiter\u001b[0m\u001b[0;34m,\u001b[0m\u001b[0margs\u001b[0m\u001b[0;34m,\u001b[0m\u001b[0mfull_output\u001b[0m\u001b[0;34m,\u001b[0m\u001b[0mdisp\u001b[0m\u001b[0;34m)\u001b[0m\u001b[0;34m\u001b[0m\u001b[0m\n\u001b[0m\u001b[1;32m    443\u001b[0m     \u001b[0;32mreturn\u001b[0m \u001b[0mresults_c\u001b[0m\u001b[0;34m(\u001b[0m\u001b[0mfull_output\u001b[0m\u001b[0;34m,\u001b[0m \u001b[0mr\u001b[0m\u001b[0;34m)\u001b[0m\u001b[0;34m\u001b[0m\u001b[0m\n\u001b[1;32m    444\u001b[0m \u001b[0;34m\u001b[0m\u001b[0m\n",
      "\u001b[0;31mValueError\u001b[0m: f(a) and f(b) must have different signs"
     ]
    }
   ],
   "source": [
    "params = copy(ParametersSet4)\n",
    "\n",
    "params.lBinv2 = 1. / 40.**2\n",
    "\n",
    "pzStart = -1.59\n",
    "pzEnd = 1.78\n",
    "\n",
    "\n",
    "GridNumber = 20\n",
    "for i in range(GridNumber):\n",
    "    params.pz = pzStart + i * (pzEnd - pzStart) / (GridNumber-1)\n",
    "    velocityCash = FermiVelocityZQL(fsys_1D, params)\n",
    "    print('{', params.pz, ',', velocityCash,sep='',end='},')\n",
    "    \n",
    "print('')    \n",
    "    \n",
    "GridNumber = 40\n",
    "for i in range(GridNumber):\n",
    "    params.pz = pzStart + i * (pzEnd - pzStart) / (GridNumber-1)\n",
    "    velocityCash = FermiVelocityZQL(fsys_1D, params)\n",
    "    print('{', params.pz, ',', velocityCash,sep='',end='},')"
   ]
  },
  {
   "cell_type": "markdown",
   "metadata": {
    "collapsed": true
   },
   "source": [
    "## FA spectrum is additively separable (for the non-deformed boundary)"
   ]
  },
  {
   "cell_type": "code",
   "execution_count": 10,
   "metadata": {
    "collapsed": false
   },
   "outputs": [
    {
     "name": "stdout",
     "output_type": "stream",
     "text": [
      "[-0.55414988 -0.55403861  0.01970135  0.01970135]\n",
      "[-0.51362905 -0.09973596  0.09973596  0.51359171]\n",
      "[-0.56418814 -0.56394363 -0.08003461  0.11943731]\n",
      "0.11943730999999999\n"
     ]
    }
   ],
   "source": [
    "params = copy(ParametersSet4)\n",
    "\n",
    "fsys_finerResolution = diagonalizer.FinalizedSystem_1D(1000)\n",
    "params.EigenvectorsCount = 4\n",
    "\n",
    "params.FermiEnergy = 0.\n",
    "params.pz = -0.3\n",
    "params.py = 0.\n",
    "evals, evecs = diagonalize_1D(fsys_finerResolution,params)\n",
    "print(evals)\n",
    "\n",
    "params.FermiEnergy = 0.\n",
    "params.pz = 0.\n",
    "params.py = 0.05\n",
    "evals, evecs = diagonalize_1D(fsys_finerResolution,params)\n",
    "print(evals)\n",
    "\n",
    "params.pz = -0.3\n",
    "params.py = 0.05\n",
    "params.FermiEnergy = -0.1\n",
    "evals, evecs = diagonalize_1D(fsys_finerResolution,params)\n",
    "print(evals)\n",
    "print(0.01970135+0.09973596)"
   ]
  },
  {
   "cell_type": "markdown",
   "metadata": {
    "collapsed": true
   },
   "source": [
    "## Extraction of the FA z-velocity around a Weyl node "
   ]
  },
  {
   "cell_type": "code",
   "execution_count": 24,
   "metadata": {
    "collapsed": false
   },
   "outputs": [
    {
     "name": "stdout",
     "output_type": "stream",
     "text": [
      "[ 0.06521745  0.06584527  0.06647143  0.06709927] while the expected Weyl-node energy is 0.0661671\n",
      "[ 0.00163194  0.00164055  0.0666498   0.0666498 ]\n",
      "[-0.06663813 -0.06663399  0.06646653  0.06646653]\n",
      "-0.0018326999999999927\n"
     ]
    }
   ],
   "source": [
    "fsys_finerResolution = diagonalizer.FinalizedSystem_1D(10000)\n",
    "params = copy(ParametersSet4)\n",
    "\n",
    "params.pz = params.pzNode2\n",
    "params.FermiEnergy = params.EnergyNode2\n",
    "params.EigenvectorsCount = 4\n",
    "evals, evecs = diagonalize_1D(fsys_finerResolution,params)\n",
    "print(evals, 'while the expected Weyl-node energy is', params.EnergyNode2)\n",
    "\n",
    "\n",
    "params.pz = params.pzNode2 + 0.1\n",
    "params.FermiEnergy = params.EnergyNode2\n",
    "params.EigenvectorsCount = 4\n",
    "evals, evecs = diagonalize_1D(fsys_finerResolution,params)\n",
    "print(evals)\n",
    "\n",
    "params.pz = params.pzNode2 + 0.2\n",
    "params.FermiEnergy = params.EnergyNode2\n",
    "params.EigenvectorsCount = 4\n",
    "evals, evecs = diagonalize_1D(fsys_finerResolution,params)\n",
    "print(evals)\n",
    "\n",
    "\n",
    "#The extraction of the FA spectrum is made manually so far\n",
    "print((0.06646653 - 0.0666498)/(0.2-0.1))\n",
    "\n",
    "\n",
    "del fsys_finerResolution, params, evals, evecs"
   ]
  },
  {
   "cell_type": "markdown",
   "metadata": {
    "collapsed": true
   },
   "source": [
    "## What is the Fermi velocity profile for a deformed boundary?"
   ]
  },
  {
   "cell_type": "code",
   "execution_count": 3,
   "metadata": {
    "collapsed": false
   },
   "outputs": [],
   "source": [
    "params = copy(ParametersSet4)\n",
    "params.Rescale_b0_0 = 10.0\n",
    "\n",
    "# evals, evecs = pSweep_1D( fsys_1D, params, -2., 0., pCount=20, yORzSweep = 'pzSweep')\n",
    "# spectrum_plot_1D(evals, -2., 0., pCount=20)\n",
    "pzStart = -1.59\n",
    "pzEnd = 1.78\n",
    "params.lBinv2 = 1. / 40.**2\n",
    "\n",
    "GridNumber = 20"
   ]
  },
  {
   "cell_type": "code",
   "execution_count": 4,
   "metadata": {
    "collapsed": false
   },
   "outputs": [
    {
     "name": "stdout",
     "output_type": "stream",
     "text": [
      "{-1.59,-0.553373762004},{-1.4126315789473685,0.427655194922},{-1.2352631578947368,0.352347181816},{-1.0578947368421052,0.214907897289},{-0.8805263157894737,0.0344924962145},{-0.7031578947368421,-0.164817156884},{-0.5257894736842106,-0.35113817503},{-0.34842105263157896,-0.48681827025},{-0.17105263157894735,-0.548763939988},{0.006315789473684275,-0.560206860005},{0.1836842105263159,-0.547572538573},{0.3610526315789473,-0.480247710263},{0.5384210526315789,-0.339023199572},{0.7157894736842108,-0.149673382621},{0.8931578947368422,0.0503382527303},{1.070526315789474,0.230114199321},{1.2478947368421054,0.367122844837},{1.4252631578947368,0.447042101902},{1.6026315789473686,0.476083932167},{1.78,0.64481234413},"
     ]
    }
   ],
   "source": [
    "for i in range(GridNumber):\n",
    "    params.pz = pzStart + i * (pzEnd - pzStart) / (GridNumber-1)\n",
    "    velocityCash = FermiVelocityZQL(fsys_1D, params, pyGuess = 0.7)\n",
    "    print('{', params.pz, ',', velocityCash,sep='',end='},')"
   ]
  },
  {
   "cell_type": "code",
   "execution_count": null,
   "metadata": {
    "collapsed": true
   },
   "outputs": [],
   "source": []
  }
 ],
 "metadata": {
  "anaconda-cloud": {},
  "kernelspec": {
   "display_name": "Python [default]",
   "language": "python",
   "name": "python3"
  },
  "language_info": {
   "codemirror_mode": {
    "name": "ipython",
    "version": 3
   },
   "file_extension": ".py",
   "mimetype": "text/x-python",
   "name": "python",
   "nbconvert_exporter": "python",
   "pygments_lexer": "ipython3",
   "version": "3.5.2"
  }
 },
 "nbformat": 4,
 "nbformat_minor": 2
}
